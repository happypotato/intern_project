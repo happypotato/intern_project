{
 "cells": [
  {
   "cell_type": "code",
   "execution_count": 1,
   "metadata": {
    "collapsed": false
   },
   "outputs": [
    {
     "name": "stdout",
     "output_type": "stream",
     "text": [
      "Populating the interactive namespace from numpy and matplotlib\n"
     ]
    }
   ],
   "source": [
    "%pylab inline\n",
    "\n",
    "import pandas as pd\n",
    "\n",
    "pd.set_option('max_rows',3000)\n",
    "pd.set_option('max_columns',3000)\n",
    "pd.set_option('colwidth',3000)"
   ]
  },
  {
   "cell_type": "code",
   "execution_count": 2,
   "metadata": {
    "collapsed": true
   },
   "outputs": [],
   "source": [
    "DIR = ''\n",
    "\n",
    "train_purch = pd.read_csv(DIR + 'acct_purchases_long.tsv',sep='\\t')\n",
    "test_purch = pd.read_csv(DIR + 'acct_purchases_long_test.tsv',sep='\\t')\n",
    "\n",
    "purch = pd.concat({'train':train_purch,'test':test_purch})"
   ]
  },
  {
   "cell_type": "code",
   "execution_count": 3,
   "metadata": {
    "collapsed": true
   },
   "outputs": [],
   "source": [
    "wave_purch = pd.DataFrame(purch[purch.PROD_NM == 'Analytics Cloud'])"
   ]
  },
  {
   "cell_type": "code",
   "execution_count": 4,
   "metadata": {
    "collapsed": false
   },
   "outputs": [
    {
     "name": "stdout",
     "output_type": "stream",
     "text": [
      "Tue Jul 26 15:28:10 PDT 2016\r\n"
     ]
    },
    {
     "name": "stderr",
     "output_type": "stream",
     "text": [
      "/home/byang/anaconda2/lib/python2.7/site-packages/IPython/core/interactiveshell.py:2723: DtypeWarning: Columns (1) have mixed types. Specify dtype option on import or set low_memory=False.\n",
      "  interactivity=interactivity, compiler=compiler, result=result)\n"
     ]
    },
    {
     "name": "stdout",
     "output_type": "stream",
     "text": [
      "Tue Jul 26 15:30:22 PDT 2016\r\n"
     ]
    }
   ],
   "source": [
    "! date\n",
    "behav1 = pd.read_csv(DIR + 'temporal_behaviors.tsv',sep='\\t')\n",
    "! date"
   ]
  },
  {
   "cell_type": "code",
   "execution_count": 5,
   "metadata": {
    "collapsed": false
   },
   "outputs": [
    {
     "data": {
      "text/plain": [
       "'2014-05-01 00:00:00'"
      ]
     },
     "execution_count": 5,
     "metadata": {},
     "output_type": "execute_result"
    }
   ],
   "source": [
    "behav1.QRY_DATE.min()"
   ]
  },
  {
   "cell_type": "code",
   "execution_count": 6,
   "metadata": {
    "collapsed": true
   },
   "outputs": [],
   "source": [
    "train = pd.DataFrame(behav1[(behav1.QRY_DATE == '2014-05-01 00:00:00') & (behav1.ACCOUNT_ID != '000000000000000')])"
   ]
  },
  {
   "cell_type": "code",
   "execution_count": 7,
   "metadata": {
    "collapsed": false
   },
   "outputs": [
    {
     "data": {
      "text/plain": [
       "272043"
      ]
     },
     "execution_count": 7,
     "metadata": {},
     "output_type": "execute_result"
    }
   ],
   "source": [
    "len(train)"
   ]
  },
  {
   "cell_type": "code",
   "execution_count": 8,
   "metadata": {
    "collapsed": true
   },
   "outputs": [],
   "source": [
    "wave_purch['ACCOUNT_ID'] = wave_purch.ACCT_ID"
   ]
  },
  {
   "cell_type": "code",
   "execution_count": 9,
   "metadata": {
    "collapsed": true
   },
   "outputs": [],
   "source": [
    "train1 = train.merge(wave_purch[['ACCOUNT_ID','CLSD_DATE']],on='ACCOUNT_ID',how='left')"
   ]
  },
  {
   "cell_type": "code",
   "execution_count": 10,
   "metadata": {
    "collapsed": true
   },
   "outputs": [],
   "source": [
    "train1['CLSD_DATE'] = np.where(train1.CLSD_DATE == train1.CLSD_DATE,train1.CLSD_DATE, '2099-12-31 00:00:00')"
   ]
  },
  {
   "cell_type": "code",
   "execution_count": 11,
   "metadata": {
    "collapsed": false
   },
   "outputs": [
    {
     "data": {
      "text/plain": [
       "491"
      ]
     },
     "execution_count": 11,
     "metadata": {},
     "output_type": "execute_result"
    }
   ],
   "source": [
    "len(train1[train1.CLSD_DATE < '2016-07-20'])"
   ]
  },
  {
   "cell_type": "code",
   "execution_count": 12,
   "metadata": {
    "collapsed": false
   },
   "outputs": [
    {
     "data": {
      "text/plain": [
       "172"
      ]
     },
     "execution_count": 12,
     "metadata": {},
     "output_type": "execute_result"
    }
   ],
   "source": [
    "len(train1[train1.CLSD_DATE < '2015-12-01'])"
   ]
  },
  {
   "cell_type": "code",
   "execution_count": 13,
   "metadata": {
    "collapsed": false
   },
   "outputs": [
    {
     "data": {
      "text/plain": [
       "275"
      ]
     },
     "execution_count": 13,
     "metadata": {},
     "output_type": "execute_result"
    }
   ],
   "source": [
    "len(train1[train1.CLSD_DATE < '2016-02-01'])"
   ]
  },
  {
   "cell_type": "code",
   "execution_count": 14,
   "metadata": {
    "collapsed": false
   },
   "outputs": [
    {
     "data": {
      "text/plain": [
       "0"
      ]
     },
     "execution_count": 14,
     "metadata": {},
     "output_type": "execute_result"
    }
   ],
   "source": [
    "len(train1[train1.CLSD_DATE != train1.CLSD_DATE])"
   ]
  },
  {
   "cell_type": "code",
   "execution_count": 15,
   "metadata": {
    "collapsed": false
   },
   "outputs": [
    {
     "data": {
      "text/plain": [
       "1"
      ]
     },
     "execution_count": 15,
     "metadata": {},
     "output_type": "execute_result"
    }
   ],
   "source": [
    "len(train1[train1.CLSD_DATE < '2014-05-01'])"
   ]
  },
  {
   "cell_type": "code",
   "execution_count": 16,
   "metadata": {
    "collapsed": false
   },
   "outputs": [
    {
     "data": {
      "text/html": [
       "<div>\n",
       "<table border=\"1\" class=\"dataframe\">\n",
       "  <thead>\n",
       "    <tr style=\"text-align: right;\">\n",
       "      <th></th>\n",
       "      <th>variable</th>\n",
       "      <th>value</th>\n",
       "    </tr>\n",
       "  </thead>\n",
       "  <tbody>\n",
       "    <tr>\n",
       "      <th>0</th>\n",
       "      <td>QRY_DATE</td>\n",
       "      <td>2014-05-01 00:00:00</td>\n",
       "    </tr>\n",
       "    <tr>\n",
       "      <th>1</th>\n",
       "      <td>NUM_USERS</td>\n",
       "      <td>4</td>\n",
       "    </tr>\n",
       "    <tr>\n",
       "      <th>2</th>\n",
       "      <td>NUM_ACCOUNTS</td>\n",
       "      <td>2</td>\n",
       "    </tr>\n",
       "    <tr>\n",
       "      <th>3</th>\n",
       "      <td>NUM_LICENSES</td>\n",
       "      <td>NaN</td>\n",
       "    </tr>\n",
       "    <tr>\n",
       "      <th>4</th>\n",
       "      <td>NUM_CONTACTS</td>\n",
       "      <td>1</td>\n",
       "    </tr>\n",
       "    <tr>\n",
       "      <th>5</th>\n",
       "      <td>NUM_OPPTS</td>\n",
       "      <td>2</td>\n",
       "    </tr>\n",
       "    <tr>\n",
       "      <th>6</th>\n",
       "      <td>NUM_FORECASTS</td>\n",
       "      <td>0</td>\n",
       "    </tr>\n",
       "    <tr>\n",
       "      <th>7</th>\n",
       "      <td>NUM_REPORTS</td>\n",
       "      <td>31</td>\n",
       "    </tr>\n",
       "    <tr>\n",
       "      <th>8</th>\n",
       "      <td>NUM_LEADS</td>\n",
       "      <td>1</td>\n",
       "    </tr>\n",
       "    <tr>\n",
       "      <th>9</th>\n",
       "      <td>NUM_CASES</td>\n",
       "      <td>0</td>\n",
       "    </tr>\n",
       "    <tr>\n",
       "      <th>10</th>\n",
       "      <td>NUM_SOLUTIONS</td>\n",
       "      <td>0</td>\n",
       "    </tr>\n",
       "    <tr>\n",
       "      <th>11</th>\n",
       "      <td>NUM_CASE_QUEUES</td>\n",
       "      <td>0</td>\n",
       "    </tr>\n",
       "    <tr>\n",
       "      <th>12</th>\n",
       "      <td>NUM_CAMPAIGNS</td>\n",
       "      <td>0</td>\n",
       "    </tr>\n",
       "    <tr>\n",
       "      <th>13</th>\n",
       "      <td>ACCOUNT_ID</td>\n",
       "      <td>0013000000ZllAC</td>\n",
       "    </tr>\n",
       "    <tr>\n",
       "      <th>14</th>\n",
       "      <td>NUM_CUSTOM_APPS</td>\n",
       "      <td>0</td>\n",
       "    </tr>\n",
       "    <tr>\n",
       "      <th>15</th>\n",
       "      <td>NUM_CUSTOM_TABS</td>\n",
       "      <td>0</td>\n",
       "    </tr>\n",
       "    <tr>\n",
       "      <th>16</th>\n",
       "      <td>NUM_CUSTOM_OBJECTS</td>\n",
       "      <td>0</td>\n",
       "    </tr>\n",
       "    <tr>\n",
       "      <th>17</th>\n",
       "      <td>NUM_CUSTOM_OBJECT_RECORDS</td>\n",
       "      <td>0</td>\n",
       "    </tr>\n",
       "    <tr>\n",
       "      <th>18</th>\n",
       "      <td>NUM_DOCUMENTS</td>\n",
       "      <td>0</td>\n",
       "    </tr>\n",
       "    <tr>\n",
       "      <th>19</th>\n",
       "      <td>NUM_CONTRACTS</td>\n",
       "      <td>1</td>\n",
       "    </tr>\n",
       "    <tr>\n",
       "      <th>20</th>\n",
       "      <td>NUM_CASE_RECORD_TYPES</td>\n",
       "      <td>0</td>\n",
       "    </tr>\n",
       "    <tr>\n",
       "      <th>21</th>\n",
       "      <td>NUM_ESCALATION_RULES</td>\n",
       "      <td>0</td>\n",
       "    </tr>\n",
       "    <tr>\n",
       "      <th>22</th>\n",
       "      <td>NUM_DASHBOARDS</td>\n",
       "      <td>2</td>\n",
       "    </tr>\n",
       "    <tr>\n",
       "      <th>23</th>\n",
       "      <td>NUM_EMAIL_TEMPLATES</td>\n",
       "      <td>14</td>\n",
       "    </tr>\n",
       "    <tr>\n",
       "      <th>24</th>\n",
       "      <td>NUM_VF_PG_TOT</td>\n",
       "      <td>0</td>\n",
       "    </tr>\n",
       "    <tr>\n",
       "      <th>25</th>\n",
       "      <td>NUM_MASS_EMAILS</td>\n",
       "      <td>NaN</td>\n",
       "    </tr>\n",
       "    <tr>\n",
       "      <th>26</th>\n",
       "      <td>CLSD_DATE</td>\n",
       "      <td>2099-12-31 00:00:00</td>\n",
       "    </tr>\n",
       "  </tbody>\n",
       "</table>\n",
       "</div>"
      ],
      "text/plain": [
       "                     variable                value\n",
       "0                    QRY_DATE  2014-05-01 00:00:00\n",
       "1                   NUM_USERS                    4\n",
       "2                NUM_ACCOUNTS                    2\n",
       "3                NUM_LICENSES                  NaN\n",
       "4                NUM_CONTACTS                    1\n",
       "5                   NUM_OPPTS                    2\n",
       "6               NUM_FORECASTS                    0\n",
       "7                 NUM_REPORTS                   31\n",
       "8                   NUM_LEADS                    1\n",
       "9                   NUM_CASES                    0\n",
       "10              NUM_SOLUTIONS                    0\n",
       "11            NUM_CASE_QUEUES                    0\n",
       "12              NUM_CAMPAIGNS                    0\n",
       "13                 ACCOUNT_ID      0013000000ZllAC\n",
       "14            NUM_CUSTOM_APPS                    0\n",
       "15            NUM_CUSTOM_TABS                    0\n",
       "16         NUM_CUSTOM_OBJECTS                    0\n",
       "17  NUM_CUSTOM_OBJECT_RECORDS                    0\n",
       "18              NUM_DOCUMENTS                    0\n",
       "19              NUM_CONTRACTS                    1\n",
       "20      NUM_CASE_RECORD_TYPES                    0\n",
       "21       NUM_ESCALATION_RULES                    0\n",
       "22             NUM_DASHBOARDS                    2\n",
       "23        NUM_EMAIL_TEMPLATES                   14\n",
       "24              NUM_VF_PG_TOT                    0\n",
       "25            NUM_MASS_EMAILS                  NaN\n",
       "26                  CLSD_DATE  2099-12-31 00:00:00"
      ]
     },
     "execution_count": 16,
     "metadata": {},
     "output_type": "execute_result"
    }
   ],
   "source": [
    "pd.melt(train1.head(1))"
   ]
  },
  {
   "cell_type": "code",
   "execution_count": 17,
   "metadata": {
    "collapsed": true
   },
   "outputs": [],
   "source": [
    "from datetime import datetime\n",
    "\n",
    "from dateutil.relativedelta import relativedelta\n",
    "\n",
    "tm = datetime.strptime('2014-05-01', '%Y-%m-%d')\n",
    "obs_dates = []\n",
    "\n",
    "for i in range(23):\n",
    "    obs_dates.append(tm)\n",
    "    tm = tm + relativedelta(months=1)"
   ]
  },
  {
   "cell_type": "code",
   "execution_count": 18,
   "metadata": {
    "collapsed": false
   },
   "outputs": [
    {
     "data": {
      "text/plain": [
       "datetime.datetime(2016, 4, 1, 0, 0)"
      ]
     },
     "execution_count": 18,
     "metadata": {},
     "output_type": "execute_result"
    }
   ],
   "source": [
    "tm"
   ]
  },
  {
   "cell_type": "code",
   "execution_count": 19,
   "metadata": {
    "collapsed": true
   },
   "outputs": [],
   "source": [
    "for d in obs_dates:\n",
    "    col_name = 'TIME' + d.strftime('%Y_%m_%d')\n",
    "    train1[col_name] = np.where(train1.CLSD_DATE < d.strftime('%Y-%m-%d'),1,0)"
   ]
  },
  {
   "cell_type": "code",
   "execution_count": 23,
   "metadata": {
    "collapsed": false
   },
   "outputs": [
    {
     "data": {
      "text/html": [
       "<div>\n",
       "<table border=\"1\" class=\"dataframe\">\n",
       "  <thead>\n",
       "    <tr style=\"text-align: right;\">\n",
       "      <th></th>\n",
       "      <th>QRY_DATE</th>\n",
       "      <th>NUM_USERS</th>\n",
       "      <th>NUM_ACCOUNTS</th>\n",
       "      <th>NUM_LICENSES</th>\n",
       "      <th>NUM_CONTACTS</th>\n",
       "      <th>NUM_OPPTS</th>\n",
       "      <th>NUM_FORECASTS</th>\n",
       "      <th>NUM_REPORTS</th>\n",
       "      <th>NUM_LEADS</th>\n",
       "      <th>NUM_CASES</th>\n",
       "      <th>NUM_SOLUTIONS</th>\n",
       "      <th>NUM_CASE_QUEUES</th>\n",
       "      <th>NUM_CAMPAIGNS</th>\n",
       "      <th>ACCOUNT_ID</th>\n",
       "      <th>NUM_CUSTOM_APPS</th>\n",
       "      <th>NUM_CUSTOM_TABS</th>\n",
       "      <th>NUM_CUSTOM_OBJECTS</th>\n",
       "      <th>NUM_CUSTOM_OBJECT_RECORDS</th>\n",
       "      <th>NUM_DOCUMENTS</th>\n",
       "      <th>NUM_CONTRACTS</th>\n",
       "      <th>NUM_CASE_RECORD_TYPES</th>\n",
       "      <th>NUM_ESCALATION_RULES</th>\n",
       "      <th>NUM_DASHBOARDS</th>\n",
       "      <th>NUM_EMAIL_TEMPLATES</th>\n",
       "      <th>NUM_VF_PG_TOT</th>\n",
       "      <th>NUM_MASS_EMAILS</th>\n",
       "      <th>CLSD_DATE</th>\n",
       "      <th>TIME2014_05_01</th>\n",
       "      <th>TIME2014_06_01</th>\n",
       "      <th>TIME2014_07_01</th>\n",
       "      <th>TIME2014_08_01</th>\n",
       "      <th>TIME2014_09_01</th>\n",
       "      <th>TIME2014_10_01</th>\n",
       "      <th>TIME2014_11_01</th>\n",
       "      <th>TIME2014_12_01</th>\n",
       "      <th>TIME2015_01_01</th>\n",
       "      <th>TIME2015_02_01</th>\n",
       "      <th>TIME2015_03_01</th>\n",
       "      <th>TIME2015_04_01</th>\n",
       "      <th>TIME2015_05_01</th>\n",
       "      <th>TIME2015_06_01</th>\n",
       "      <th>TIME2015_07_01</th>\n",
       "      <th>TIME2015_08_01</th>\n",
       "      <th>TIME2015_09_01</th>\n",
       "      <th>TIME2015_10_01</th>\n",
       "      <th>TIME2015_11_01</th>\n",
       "      <th>TIME2015_12_01</th>\n",
       "      <th>TIME2016_01_01</th>\n",
       "      <th>TIME2016_02_01</th>\n",
       "      <th>TIME2016_03_01</th>\n",
       "    </tr>\n",
       "  </thead>\n",
       "  <tbody>\n",
       "    <tr>\n",
       "      <th>0</th>\n",
       "      <td>2014-05-01 00:00:00</td>\n",
       "      <td>4</td>\n",
       "      <td>2.0</td>\n",
       "      <td>NaN</td>\n",
       "      <td>1.0</td>\n",
       "      <td>2.0</td>\n",
       "      <td>0.0</td>\n",
       "      <td>31</td>\n",
       "      <td>1</td>\n",
       "      <td>0</td>\n",
       "      <td>0.0</td>\n",
       "      <td>0</td>\n",
       "      <td>0.0</td>\n",
       "      <td>0013000000ZllAC</td>\n",
       "      <td>0</td>\n",
       "      <td>0</td>\n",
       "      <td>0</td>\n",
       "      <td>0</td>\n",
       "      <td>0</td>\n",
       "      <td>1.0</td>\n",
       "      <td>0</td>\n",
       "      <td>0</td>\n",
       "      <td>2</td>\n",
       "      <td>14</td>\n",
       "      <td>0</td>\n",
       "      <td>NaN</td>\n",
       "      <td>2099-12-31 00:00:00</td>\n",
       "      <td>0</td>\n",
       "      <td>0</td>\n",
       "      <td>0</td>\n",
       "      <td>0</td>\n",
       "      <td>0</td>\n",
       "      <td>0</td>\n",
       "      <td>0</td>\n",
       "      <td>0</td>\n",
       "      <td>0</td>\n",
       "      <td>0</td>\n",
       "      <td>0</td>\n",
       "      <td>0</td>\n",
       "      <td>0</td>\n",
       "      <td>0</td>\n",
       "      <td>0</td>\n",
       "      <td>0</td>\n",
       "      <td>0</td>\n",
       "      <td>0</td>\n",
       "      <td>0</td>\n",
       "      <td>0</td>\n",
       "      <td>0</td>\n",
       "      <td>0</td>\n",
       "      <td>0</td>\n",
       "    </tr>\n",
       "    <tr>\n",
       "      <th>1</th>\n",
       "      <td>2014-05-01 00:00:00</td>\n",
       "      <td>4</td>\n",
       "      <td>43.0</td>\n",
       "      <td>NaN</td>\n",
       "      <td>101.0</td>\n",
       "      <td>0.0</td>\n",
       "      <td>0.0</td>\n",
       "      <td>0</td>\n",
       "      <td>0</td>\n",
       "      <td>0</td>\n",
       "      <td>0.0</td>\n",
       "      <td>0</td>\n",
       "      <td>0.0</td>\n",
       "      <td>0013000001GVLxe</td>\n",
       "      <td>0</td>\n",
       "      <td>1</td>\n",
       "      <td>0</td>\n",
       "      <td>0</td>\n",
       "      <td>0</td>\n",
       "      <td>0.0</td>\n",
       "      <td>0</td>\n",
       "      <td>0</td>\n",
       "      <td>0</td>\n",
       "      <td>2</td>\n",
       "      <td>0</td>\n",
       "      <td>NaN</td>\n",
       "      <td>2099-12-31 00:00:00</td>\n",
       "      <td>0</td>\n",
       "      <td>0</td>\n",
       "      <td>0</td>\n",
       "      <td>0</td>\n",
       "      <td>0</td>\n",
       "      <td>0</td>\n",
       "      <td>0</td>\n",
       "      <td>0</td>\n",
       "      <td>0</td>\n",
       "      <td>0</td>\n",
       "      <td>0</td>\n",
       "      <td>0</td>\n",
       "      <td>0</td>\n",
       "      <td>0</td>\n",
       "      <td>0</td>\n",
       "      <td>0</td>\n",
       "      <td>0</td>\n",
       "      <td>0</td>\n",
       "      <td>0</td>\n",
       "      <td>0</td>\n",
       "      <td>0</td>\n",
       "      <td>0</td>\n",
       "      <td>0</td>\n",
       "    </tr>\n",
       "    <tr>\n",
       "      <th>2</th>\n",
       "      <td>2014-05-01 00:00:00</td>\n",
       "      <td>18</td>\n",
       "      <td>3.0</td>\n",
       "      <td>NaN</td>\n",
       "      <td>7.0</td>\n",
       "      <td>8.0</td>\n",
       "      <td>0.0</td>\n",
       "      <td>92</td>\n",
       "      <td>4</td>\n",
       "      <td>0</td>\n",
       "      <td>0.0</td>\n",
       "      <td>0</td>\n",
       "      <td>3.0</td>\n",
       "      <td>0013000001GVJVE</td>\n",
       "      <td>0</td>\n",
       "      <td>1</td>\n",
       "      <td>1</td>\n",
       "      <td>0</td>\n",
       "      <td>2</td>\n",
       "      <td>0.0</td>\n",
       "      <td>0</td>\n",
       "      <td>0</td>\n",
       "      <td>9</td>\n",
       "      <td>14</td>\n",
       "      <td>0</td>\n",
       "      <td>NaN</td>\n",
       "      <td>2099-12-31 00:00:00</td>\n",
       "      <td>0</td>\n",
       "      <td>0</td>\n",
       "      <td>0</td>\n",
       "      <td>0</td>\n",
       "      <td>0</td>\n",
       "      <td>0</td>\n",
       "      <td>0</td>\n",
       "      <td>0</td>\n",
       "      <td>0</td>\n",
       "      <td>0</td>\n",
       "      <td>0</td>\n",
       "      <td>0</td>\n",
       "      <td>0</td>\n",
       "      <td>0</td>\n",
       "      <td>0</td>\n",
       "      <td>0</td>\n",
       "      <td>0</td>\n",
       "      <td>0</td>\n",
       "      <td>0</td>\n",
       "      <td>0</td>\n",
       "      <td>0</td>\n",
       "      <td>0</td>\n",
       "      <td>0</td>\n",
       "    </tr>\n",
       "    <tr>\n",
       "      <th>3</th>\n",
       "      <td>2014-05-01 00:00:00</td>\n",
       "      <td>44</td>\n",
       "      <td>140987.0</td>\n",
       "      <td>NaN</td>\n",
       "      <td>140636.0</td>\n",
       "      <td>219813.0</td>\n",
       "      <td>0.0</td>\n",
       "      <td>513</td>\n",
       "      <td>7131</td>\n",
       "      <td>7909</td>\n",
       "      <td>4.0</td>\n",
       "      <td>43</td>\n",
       "      <td>5.0</td>\n",
       "      <td>0013000000RXVjp</td>\n",
       "      <td>2</td>\n",
       "      <td>20</td>\n",
       "      <td>18</td>\n",
       "      <td>1981128</td>\n",
       "      <td>16</td>\n",
       "      <td>0.0</td>\n",
       "      <td>1</td>\n",
       "      <td>0</td>\n",
       "      <td>9</td>\n",
       "      <td>24</td>\n",
       "      <td>0</td>\n",
       "      <td>NaN</td>\n",
       "      <td>2099-12-31 00:00:00</td>\n",
       "      <td>0</td>\n",
       "      <td>0</td>\n",
       "      <td>0</td>\n",
       "      <td>0</td>\n",
       "      <td>0</td>\n",
       "      <td>0</td>\n",
       "      <td>0</td>\n",
       "      <td>0</td>\n",
       "      <td>0</td>\n",
       "      <td>0</td>\n",
       "      <td>0</td>\n",
       "      <td>0</td>\n",
       "      <td>0</td>\n",
       "      <td>0</td>\n",
       "      <td>0</td>\n",
       "      <td>0</td>\n",
       "      <td>0</td>\n",
       "      <td>0</td>\n",
       "      <td>0</td>\n",
       "      <td>0</td>\n",
       "      <td>0</td>\n",
       "      <td>0</td>\n",
       "      <td>0</td>\n",
       "    </tr>\n",
       "    <tr>\n",
       "      <th>4</th>\n",
       "      <td>2014-05-01 00:00:00</td>\n",
       "      <td>23</td>\n",
       "      <td>160.0</td>\n",
       "      <td>NaN</td>\n",
       "      <td>390.0</td>\n",
       "      <td>380.0</td>\n",
       "      <td>0.0</td>\n",
       "      <td>85</td>\n",
       "      <td>1032</td>\n",
       "      <td>2</td>\n",
       "      <td>0.0</td>\n",
       "      <td>0</td>\n",
       "      <td>0.0</td>\n",
       "      <td>0013000000Zit3Q</td>\n",
       "      <td>3</td>\n",
       "      <td>8</td>\n",
       "      <td>8</td>\n",
       "      <td>2128</td>\n",
       "      <td>14</td>\n",
       "      <td>0.0</td>\n",
       "      <td>0</td>\n",
       "      <td>0</td>\n",
       "      <td>8</td>\n",
       "      <td>30</td>\n",
       "      <td>0</td>\n",
       "      <td>NaN</td>\n",
       "      <td>2099-12-31 00:00:00</td>\n",
       "      <td>0</td>\n",
       "      <td>0</td>\n",
       "      <td>0</td>\n",
       "      <td>0</td>\n",
       "      <td>0</td>\n",
       "      <td>0</td>\n",
       "      <td>0</td>\n",
       "      <td>0</td>\n",
       "      <td>0</td>\n",
       "      <td>0</td>\n",
       "      <td>0</td>\n",
       "      <td>0</td>\n",
       "      <td>0</td>\n",
       "      <td>0</td>\n",
       "      <td>0</td>\n",
       "      <td>0</td>\n",
       "      <td>0</td>\n",
       "      <td>0</td>\n",
       "      <td>0</td>\n",
       "      <td>0</td>\n",
       "      <td>0</td>\n",
       "      <td>0</td>\n",
       "      <td>0</td>\n",
       "    </tr>\n",
       "  </tbody>\n",
       "</table>\n",
       "</div>"
      ],
      "text/plain": [
       "              QRY_DATE NUM_USERS  NUM_ACCOUNTS  NUM_LICENSES  NUM_CONTACTS  \\\n",
       "0  2014-05-01 00:00:00         4           2.0           NaN           1.0   \n",
       "1  2014-05-01 00:00:00         4          43.0           NaN         101.0   \n",
       "2  2014-05-01 00:00:00        18           3.0           NaN           7.0   \n",
       "3  2014-05-01 00:00:00        44      140987.0           NaN      140636.0   \n",
       "4  2014-05-01 00:00:00        23         160.0           NaN         390.0   \n",
       "\n",
       "   NUM_OPPTS  NUM_FORECASTS  NUM_REPORTS  NUM_LEADS  NUM_CASES  NUM_SOLUTIONS  \\\n",
       "0        2.0            0.0           31          1          0            0.0   \n",
       "1        0.0            0.0            0          0          0            0.0   \n",
       "2        8.0            0.0           92          4          0            0.0   \n",
       "3   219813.0            0.0          513       7131       7909            4.0   \n",
       "4      380.0            0.0           85       1032          2            0.0   \n",
       "\n",
       "   NUM_CASE_QUEUES  NUM_CAMPAIGNS       ACCOUNT_ID  NUM_CUSTOM_APPS  \\\n",
       "0                0            0.0  0013000000ZllAC                0   \n",
       "1                0            0.0  0013000001GVLxe                0   \n",
       "2                0            3.0  0013000001GVJVE                0   \n",
       "3               43            5.0  0013000000RXVjp                2   \n",
       "4                0            0.0  0013000000Zit3Q                3   \n",
       "\n",
       "   NUM_CUSTOM_TABS  NUM_CUSTOM_OBJECTS  NUM_CUSTOM_OBJECT_RECORDS  \\\n",
       "0                0                   0                          0   \n",
       "1                1                   0                          0   \n",
       "2                1                   1                          0   \n",
       "3               20                  18                    1981128   \n",
       "4                8                   8                       2128   \n",
       "\n",
       "   NUM_DOCUMENTS  NUM_CONTRACTS  NUM_CASE_RECORD_TYPES  NUM_ESCALATION_RULES  \\\n",
       "0              0            1.0                      0                     0   \n",
       "1              0            0.0                      0                     0   \n",
       "2              2            0.0                      0                     0   \n",
       "3             16            0.0                      1                     0   \n",
       "4             14            0.0                      0                     0   \n",
       "\n",
       "   NUM_DASHBOARDS  NUM_EMAIL_TEMPLATES  NUM_VF_PG_TOT  NUM_MASS_EMAILS  \\\n",
       "0               2                   14              0              NaN   \n",
       "1               0                    2              0              NaN   \n",
       "2               9                   14              0              NaN   \n",
       "3               9                   24              0              NaN   \n",
       "4               8                   30              0              NaN   \n",
       "\n",
       "             CLSD_DATE  TIME2014_05_01  TIME2014_06_01  TIME2014_07_01  \\\n",
       "0  2099-12-31 00:00:00               0               0               0   \n",
       "1  2099-12-31 00:00:00               0               0               0   \n",
       "2  2099-12-31 00:00:00               0               0               0   \n",
       "3  2099-12-31 00:00:00               0               0               0   \n",
       "4  2099-12-31 00:00:00               0               0               0   \n",
       "\n",
       "   TIME2014_08_01  TIME2014_09_01  TIME2014_10_01  TIME2014_11_01  \\\n",
       "0               0               0               0               0   \n",
       "1               0               0               0               0   \n",
       "2               0               0               0               0   \n",
       "3               0               0               0               0   \n",
       "4               0               0               0               0   \n",
       "\n",
       "   TIME2014_12_01  TIME2015_01_01  TIME2015_02_01  TIME2015_03_01  \\\n",
       "0               0               0               0               0   \n",
       "1               0               0               0               0   \n",
       "2               0               0               0               0   \n",
       "3               0               0               0               0   \n",
       "4               0               0               0               0   \n",
       "\n",
       "   TIME2015_04_01  TIME2015_05_01  TIME2015_06_01  TIME2015_07_01  \\\n",
       "0               0               0               0               0   \n",
       "1               0               0               0               0   \n",
       "2               0               0               0               0   \n",
       "3               0               0               0               0   \n",
       "4               0               0               0               0   \n",
       "\n",
       "   TIME2015_08_01  TIME2015_09_01  TIME2015_10_01  TIME2015_11_01  \\\n",
       "0               0               0               0               0   \n",
       "1               0               0               0               0   \n",
       "2               0               0               0               0   \n",
       "3               0               0               0               0   \n",
       "4               0               0               0               0   \n",
       "\n",
       "   TIME2015_12_01  TIME2016_01_01  TIME2016_02_01  TIME2016_03_01  \n",
       "0               0               0               0               0  \n",
       "1               0               0               0               0  \n",
       "2               0               0               0               0  \n",
       "3               0               0               0               0  \n",
       "4               0               0               0               0  "
      ]
     },
     "execution_count": 23,
     "metadata": {},
     "output_type": "execute_result"
    }
   ],
   "source": [
    "train1.head()"
   ]
  },
  {
   "cell_type": "code",
   "execution_count": 32,
   "metadata": {
    "collapsed": false
   },
   "outputs": [
    {
     "name": "stdout",
     "output_type": "stream",
     "text": [
      "TIME2014_05_01 1\n",
      "TIME2014_06_01 1\n",
      "TIME2014_07_01 1\n",
      "TIME2014_08_01 1\n",
      "TIME2014_09_01 1\n",
      "TIME2014_10_01 1\n",
      "TIME2014_11_01 2\n",
      "TIME2014_12_01 4\n",
      "TIME2015_01_01 6\n",
      "TIME2015_02_01 13\n",
      "TIME2015_03_01 31\n",
      "TIME2015_04_01 40\n",
      "TIME2015_05_01 49\n",
      "TIME2015_06_01 59\n",
      "TIME2015_07_01 68\n",
      "TIME2015_08_01 76\n",
      "TIME2015_09_01 91\n",
      "TIME2015_10_01 107\n",
      "TIME2015_11_01 149\n",
      "TIME2015_12_01 172\n",
      "TIME2016_01_01 201\n",
      "TIME2016_02_01 275\n",
      "TIME2016_03_01 453\n"
     ]
    }
   ],
   "source": [
    "purchases = []\n",
    "targets = [t for t in train1.columns.tolist() if 'TIME' in t]\n",
    "\n",
    "for t in targets:\n",
    "    print t,train1[t].sum()\n",
    "\n",
    "#train1['TIME2016_01_01'].sum(),train1['TIME2014_05_01'].sum()"
   ]
  },
  {
   "cell_type": "code",
   "execution_count": 24,
   "metadata": {
    "collapsed": true
   },
   "outputs": [],
   "source": [
    "def calc_lift(yhat,y):\n",
    "    if len(yhat) != len(y):\n",
    "        raise 'yhat and y are unequal length'\n",
    "    df = pd.DataFrame(zip(yhat,y))\n",
    "    df.columns = ['yhat','y']\n",
    "    t = df.sort_values(by='yhat',ascending=False).head(int(len(df)/10.))['y'].sum()\n",
    "    n = float(df.y.sum())\n",
    "    print 'Test Result: %s of %s purchases in top 10 pct' % (t,n)\n",
    "    return 10*t/n"
   ]
  },
  {
   "cell_type": "code",
   "execution_count": 25,
   "metadata": {
    "collapsed": true
   },
   "outputs": [],
   "source": [
    "features = [c for c in train1.columns.tolist() if 'NUM' in c]"
   ]
  },
  {
   "cell_type": "code",
   "execution_count": 26,
   "metadata": {
    "collapsed": false
   },
   "outputs": [
    {
     "name": "stdout",
     "output_type": "stream",
     "text": [
      "Tue Jul 26 16:00:58 PDT 2016\n",
      "Tue Jul 26 16:00:58 PDT 2016\n"
     ]
    }
   ],
   "source": [
    "! date\n",
    "train1.fillna(0,inplace=True)\n",
    "! date"
   ]
  },
  {
   "cell_type": "code",
   "execution_count": 27,
   "metadata": {
    "collapsed": true
   },
   "outputs": [],
   "source": [
    "CUTOFF = 'TIME2016_02_01'\n",
    "#ns_test = train1[train1[CUTOFF] == 0]"
   ]
  },
  {
   "cell_type": "code",
   "execution_count": 35,
   "metadata": {
    "collapsed": true
   },
   "outputs": [],
   "source": [
    "np.random.seed(42)\n",
    "msk = np.random.rand(len(train1)) < 0.04\n",
    "\n",
    "#ns_train = train1\n",
    "train1['ns_flag'] = np.where((train1[CUTOFF] == 0) & msk,1,0)\n",
    "ns_test = pd.DataFrame(train1[(train1[CUTOFF] == 0) & (~msk)])\n",
    "\n",
    "def train_test(TARGET,cls):\n",
    "    ns_train = pd.DataFrame(train1[(train1[TARGET] == 1) | (train1.ns_flag == 1)])\n",
    "    #ns_train = pd.DataFrame(train1)\n",
    "    result = cls.fit(ns_train[features], ns_train[TARGET])\n",
    "    ns_test['score'] = cls.predict_proba(ns_test[features])[:,1]\n",
    "    positive_examples = ns_train[TARGET].sum()\n",
    "    print '%s model trained on %s positives' % (TARGET,positive_examples)\n",
    "    return (positive_examples,calc_lift(ns_test.score,ns_test.TIME2016_03_01))"
   ]
  },
  {
   "cell_type": "code",
   "execution_count": 36,
   "metadata": {
    "collapsed": false
   },
   "outputs": [
    {
     "data": {
      "text/plain": [
       "array([False, False, False, ..., False, False, False], dtype=bool)"
      ]
     },
     "execution_count": 36,
     "metadata": {},
     "output_type": "execute_result"
    }
   ],
   "source": [
    "msk"
   ]
  },
  {
   "cell_type": "code",
   "execution_count": 29,
   "metadata": {
    "collapsed": false
   },
   "outputs": [
    {
     "data": {
      "text/plain": [
       "10732"
      ]
     },
     "execution_count": 29,
     "metadata": {},
     "output_type": "execute_result"
    }
   ],
   "source": [
    "sum(msk)"
   ]
  },
  {
   "cell_type": "code",
   "execution_count": 33,
   "metadata": {
    "collapsed": false
   },
   "outputs": [
    {
     "name": "stdout",
     "output_type": "stream",
     "text": [
      "Tue Jul 26 16:02:20 PDT 2016\n",
      "------------------------\n",
      "TIME2014_05_01 model trained on 1 positives\n",
      "Test Result: 11 of 173.0 purchases in top 10 pct\n",
      "Lift = 0.635838150289\n",
      "------------------------\n",
      "TIME2014_06_01 model trained on 1 positives\n",
      "Test Result: 11 of 173.0 purchases in top 10 pct\n",
      "Lift = 0.635838150289\n",
      "------------------------\n",
      "TIME2014_07_01 model trained on 1 positives\n",
      "Test Result: 11 of 173.0 purchases in top 10 pct\n",
      "Lift = 0.635838150289\n",
      "------------------------\n",
      "TIME2014_08_01 model trained on 1 positives\n",
      "Test Result: 11 of 173.0 purchases in top 10 pct\n",
      "Lift = 0.635838150289\n",
      "------------------------\n",
      "TIME2014_09_01 model trained on 1 positives\n",
      "Test Result: 11 of 173.0 purchases in top 10 pct\n",
      "Lift = 0.635838150289\n",
      "------------------------\n",
      "TIME2014_10_01 model trained on 1 positives\n",
      "Test Result: 11 of 173.0 purchases in top 10 pct\n",
      "Lift = 0.635838150289\n",
      "------------------------\n",
      "TIME2014_11_01 model trained on 2 positives\n",
      "Test Result: 15 of 173.0 purchases in top 10 pct\n",
      "Lift = 0.867052023121\n",
      "------------------------\n",
      "TIME2014_12_01 model trained on 4 positives\n",
      "Test Result: 41 of 173.0 purchases in top 10 pct\n",
      "Lift = 2.36994219653\n",
      "------------------------\n",
      "TIME2015_01_01 model trained on 6 positives\n",
      "Test Result: 67 of 173.0 purchases in top 10 pct\n",
      "Lift = 3.87283236994\n",
      "------------------------\n",
      "TIME2015_02_01 model trained on 13 positives\n",
      "Test Result: 92 of 173.0 purchases in top 10 pct\n",
      "Lift = 5.31791907514\n",
      "------------------------\n",
      "TIME2015_03_01 model trained on 31 positives\n",
      "Test Result: 103 of 173.0 purchases in top 10 pct\n",
      "Lift = 5.95375722543\n",
      "------------------------\n",
      "TIME2015_04_01 model trained on 40 positives\n",
      "Test Result: 113 of 173.0 purchases in top 10 pct\n",
      "Lift = 6.53179190751\n",
      "------------------------\n",
      "TIME2015_05_01 model trained on 49 positives\n",
      "Test Result: 117 of 173.0 purchases in top 10 pct\n",
      "Lift = 6.76300578035\n",
      "------------------------\n",
      "TIME2015_06_01 model trained on 59 positives\n",
      "Test Result: 119 of 173.0 purchases in top 10 pct\n",
      "Lift = 6.87861271676\n",
      "------------------------\n",
      "TIME2015_07_01 model trained on 68 positives\n",
      "Test Result: 119 of 173.0 purchases in top 10 pct\n",
      "Lift = 6.87861271676\n",
      "------------------------\n",
      "TIME2015_08_01 model trained on 76 positives\n",
      "Test Result: 123 of 173.0 purchases in top 10 pct\n",
      "Lift = 7.1098265896\n",
      "------------------------\n",
      "TIME2015_09_01 model trained on 91 positives\n",
      "Test Result: 120 of 173.0 purchases in top 10 pct\n",
      "Lift = 6.93641618497\n",
      "------------------------\n",
      "TIME2015_10_01 model trained on 107 positives\n",
      "Test Result: 124 of 173.0 purchases in top 10 pct\n",
      "Lift = 7.1676300578\n",
      "------------------------\n",
      "TIME2015_11_01 model trained on 149 positives\n",
      "Test Result: 120 of 173.0 purchases in top 10 pct\n",
      "Lift = 6.93641618497\n",
      "------------------------\n",
      "TIME2015_12_01 model trained on 172 positives\n",
      "Test Result: 121 of 173.0 purchases in top 10 pct\n",
      "Lift = 6.99421965318\n",
      "------------------------\n",
      "TIME2016_01_01 model trained on 201 positives\n",
      "Test Result: 120 of 173.0 purchases in top 10 pct\n",
      "Lift = 6.93641618497\n",
      "------------------------\n",
      "TIME2016_02_01 model trained on 275 positives\n",
      "Test Result: 124 of 173.0 purchases in top 10 pct\n",
      "Lift = 7.1676300578\n",
      "------------------------\n",
      "TIME2016_03_01 model trained on 453 positives\n",
      "Test Result: 123 of 173.0 purchases in top 10 pct\n",
      "Lift = 7.1098265896\n",
      "Tue Jul 26 16:02:33 PDT 2016\n"
     ]
    }
   ],
   "source": [
    "from sklearn.linear_model import LogisticRegression\n",
    "cls = LogisticRegression(class_weight='balanced')\n",
    "\n",
    "! date\n",
    "xlabels = []\n",
    "flr_lifts = []\n",
    "for t in targets:\n",
    "    #print t,train_test(t)\n",
    "    print '------------------------'\n",
    "    positive_examples,lift = train_test(t,cls)\n",
    "    print 'Lift = %s' % lift\n",
    "    xlabels.append(positive_examples)\n",
    "    flr_lifts.append(lift)\n",
    "! date"
   ]
  },
  {
   "cell_type": "code",
   "execution_count": 34,
   "metadata": {
    "collapsed": false
   },
   "outputs": [
    {
     "name": "stdout",
     "output_type": "stream",
     "text": [
      "Tue Jul 26 16:02:34 PDT 2016\n",
      "------------------------\n",
      "TIME2014_05_01 model trained on 1 positives\n",
      "Test Result: 15 of 173.0 purchases in top 10 pct\n",
      "Lift = 0.867052023121\n",
      "------------------------\n",
      "TIME2014_06_01 model trained on 1 positives\n",
      "Test Result: 13 of 173.0 purchases in top 10 pct\n",
      "Lift = 0.751445086705\n",
      "------------------------\n",
      "TIME2014_07_01 model trained on 1 positives\n",
      "Test Result: 13 of 173.0 purchases in top 10 pct\n",
      "Lift = 0.751445086705\n",
      "------------------------\n",
      "TIME2014_08_01 model trained on 1 positives\n",
      "Test Result: 13 of 173.0 purchases in top 10 pct\n",
      "Lift = 0.751445086705\n",
      "------------------------\n",
      "TIME2014_09_01 model trained on 1 positives\n",
      "Test Result: 13 of 173.0 purchases in top 10 pct\n",
      "Lift = 0.751445086705\n",
      "------------------------\n",
      "TIME2014_10_01 model trained on 1 positives\n",
      "Test Result: 13 of 173.0 purchases in top 10 pct\n",
      "Lift = 0.751445086705\n",
      "------------------------\n",
      "TIME2014_11_01 model trained on 2 positives\n",
      "Test Result: 13 of 173.0 purchases in top 10 pct\n",
      "Lift = 0.751445086705\n",
      "------------------------\n",
      "TIME2014_12_01 model trained on 4 positives\n",
      "Test Result: 22 of 173.0 purchases in top 10 pct\n",
      "Lift = 1.27167630058\n",
      "------------------------\n",
      "TIME2015_01_01 model trained on 6 positives\n",
      "Test Result: 16 of 173.0 purchases in top 10 pct\n",
      "Lift = 0.924855491329\n",
      "------------------------\n",
      "TIME2015_02_01 model trained on 13 positives\n",
      "Test Result: 83 of 173.0 purchases in top 10 pct\n",
      "Lift = 4.79768786127\n",
      "------------------------\n",
      "TIME2015_03_01 model trained on 31 positives\n",
      "Test Result: 107 of 173.0 purchases in top 10 pct\n",
      "Lift = 6.18497109827\n",
      "------------------------\n",
      "TIME2015_04_01 model trained on 40 positives\n",
      "Test Result: 66 of 173.0 purchases in top 10 pct\n",
      "Lift = 3.81502890173\n",
      "------------------------\n",
      "TIME2015_05_01 model trained on 49 positives\n",
      "Test Result: 125 of 173.0 purchases in top 10 pct\n",
      "Lift = 7.22543352601\n",
      "------------------------\n",
      "TIME2015_06_01 model trained on 59 positives\n",
      "Test Result: 128 of 173.0 purchases in top 10 pct\n",
      "Lift = 7.39884393064\n",
      "------------------------\n",
      "TIME2015_07_01 model trained on 68 positives\n",
      "Test Result: 130 of 173.0 purchases in top 10 pct\n",
      "Lift = 7.51445086705\n",
      "------------------------\n",
      "TIME2015_08_01 model trained on 76 positives\n",
      "Test Result: 126 of 173.0 purchases in top 10 pct\n",
      "Lift = 7.28323699422\n",
      "------------------------\n",
      "TIME2015_09_01 model trained on 91 positives\n",
      "Test Result: 139 of 173.0 purchases in top 10 pct\n",
      "Lift = 8.03468208092\n",
      "------------------------\n",
      "TIME2015_10_01 model trained on 107 positives\n",
      "Test Result: 139 of 173.0 purchases in top 10 pct\n",
      "Lift = 8.03468208092\n",
      "------------------------\n",
      "TIME2015_11_01 model trained on 149 positives\n",
      "Test Result: 138 of 173.0 purchases in top 10 pct\n",
      "Lift = 7.97687861272\n",
      "------------------------\n",
      "TIME2015_12_01 model trained on 172 positives\n",
      "Test Result: 137 of 173.0 purchases in top 10 pct\n",
      "Lift = 7.91907514451\n",
      "------------------------\n",
      "TIME2016_01_01 model trained on 201 positives\n",
      "Test Result: 138 of 173.0 purchases in top 10 pct\n",
      "Lift = 7.97687861272\n",
      "------------------------\n",
      "TIME2016_02_01 model trained on 275 positives\n",
      "Test Result: 138 of 173.0 purchases in top 10 pct\n",
      "Lift = 7.97687861272\n",
      "------------------------\n",
      "TIME2016_03_01 model trained on 453 positives\n",
      "Test Result: 149 of 173.0 purchases in top 10 pct\n",
      "Lift = 8.61271676301\n",
      "Tue Jul 26 16:02:54 PDT 2016\n"
     ]
    }
   ],
   "source": [
    "from sklearn.ensemble import GradientBoostingClassifier\n",
    "cls = GradientBoostingClassifier()\n",
    "\n",
    "! date\n",
    "xlabels = []\n",
    "fgbt_lifts = []\n",
    "for t in targets:\n",
    "    #print t,train_test(t)\n",
    "    print '------------------------'\n",
    "    positive_examples,lift = train_test(t,cls)\n",
    "    print 'Lift = %s' % lift\n",
    "    xlabels.append(positive_examples)\n",
    "    fgbt_lifts.append(lift)\n",
    "! date"
   ]
  },
  {
   "cell_type": "code",
   "execution_count": 27,
   "metadata": {
    "collapsed": false
   },
   "outputs": [
    {
     "data": {
      "image/png": "[encoded data removed]",
      "text/plain": [
       "<matplotlib.figure.Figure at 0x7fc644503dd0>"
      ]
     },
     "metadata": {},
     "output_type": "display_data"
    }
   ],
   "source": [
    "fig, ax = plt.subplots()\n",
    "\n",
    "plot(flr_lifts,label='Freq Logistic Regression')\n",
    "plot(fgbt_lifts,label='Gradient Boosted Tree')\n",
    "    \n",
    "plt.xticks(range(len(xlabels)), xlabels, size='small')\n",
    "\n",
    "plot([0,len(xlabels)], [1,1], 'k--',label='Random Guess Model')\n",
    "plt.legend(loc=\"upper left\",fontsize=14)\n",
    "\n",
    "\n",
    "ax.set_ylabel(\"Lift of Top 10 Pct Group\",fontsize=14)\n",
    "ax.set_xlabel(\"Number of Training Positive Examples\",fontsize=14)\n",
    "\n",
    "plt.title('Analytics Cloud Lead Scoring\\n',fontsize=16)\n",
    "\n",
    "plt.gcf().set_size_inches(10, 10);"
   ]
  },
  {
   "cell_type": "code",
   "execution_count": null,
   "metadata": {
    "collapsed": true
   },
   "outputs": [],
   "source": []
  }
 ],
 "metadata": {
  "kernelspec": {
   "display_name": "Python 2",
   "language": "python",
   "name": "python2"
  },
  "language_info": {
   "codemirror_mode": {
    "name": "ipython",
    "version": 2
   },
   "file_extension": ".py",
   "mimetype": "text/x-python",
   "name": "python",
   "nbconvert_exporter": "python",
   "pygments_lexer": "ipython2",
   "version": "2.7.11"
  }
 },
 "nbformat": 4,
 "nbformat_minor": 0
}
