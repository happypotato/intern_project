{
 "cells": [
  {
   "cell_type": "code",
   "execution_count": 1,
   "metadata": {
    "collapsed": false
   },
   "outputs": [
    {
     "name": "stdout",
     "output_type": "stream",
     "text": [
      "\n",
      "----- Routine for refresh opty scoring -----\n",
      "\n"
     ]
    }
   ],
   "source": [
    "print \"\\n----- Routine for refresh opty scoring -----\\n\"\n",
    "\n",
    "import time\n",
    "ptm_start = time.time()"
   ]
  },
  {
   "cell_type": "markdown",
   "metadata": {},
   "source": [
    "## Global Configuration"
   ]
  },
  {
   "cell_type": "code",
   "execution_count": 2,
   "metadata": {
    "collapsed": false
   },
   "outputs": [
    {
     "name": "stdout",
     "output_type": "stream",
     "text": [
      "Populating the interactive namespace from numpy and matplotlib\n"
     ]
    },
    {
     "name": "stderr",
     "output_type": "stream",
     "text": [
      "A newer version of GraphLab Create (v1.9) is available! Your current version is v1.8.5.\n",
      "\n",
      "You can use pip to upgrade the graphlab-create package. For more information see https://dato.com/products/create/upgrade.\n"
     ]
    }
   ],
   "source": [
    "# import packages\n",
    "%pylab inline\n",
    "\n",
    "import matplotlib.pyplot as plt\n",
    "import pandas as pd\n",
    "import numpy as np\n",
    "\n",
    "import graphlab as gl\n",
    "from graphlab import SFrame\n",
    "from graphlab import SArray"
   ]
  },
  {
   "cell_type": "code",
   "execution_count": 3,
   "metadata": {
    "collapsed": true
   },
   "outputs": [],
   "source": [
    "# pandas config\n",
    "\n",
    "pd.set_option('max_columns', 500)\n",
    "pd.set_option('max_rows', 500)\n",
    "pd.set_option('chained_assignment', None)"
   ]
  },
  {
   "cell_type": "code",
   "execution_count": 4,
   "metadata": {
    "collapsed": false
   },
   "outputs": [],
   "source": [
    "# global config\n",
    "\n",
    "glb_config = dict(\n",
    "    data_dir = 'data', # data folder\n",
    "    model_dir = 'model', # model folder\n",
    "    \n",
    "    # data file info\n",
    "    data_fn_prefix = 'PROPENSITY_COMMUNITIES_TRAIN_C',\n",
    "    data_fn_postfix = 'tsv',\n",
    "    data_fn_sep = '\\t',\n",
    "    \n",
    "    # label field\n",
    "    # CUSTOMERFLAG for customer model / PARTNERFLAG for partner model\n",
    "    label_field = ['CUSTOMERFLAG', 'PARTNERFLAG'],\n",
    "    \n",
    "    valid_fn_prefix = 'PROPENSITY_COMMUNITIES_TEST_C',\n",
    "    \n",
    "    # model type for customer or partner\n",
    "    model_type = 'customer', # customer / partner\n",
    "    model_fn = 'com_ptb.model',\n",
    "    bucket_fn = 'com_bucket.model'\n",
    ")"
   ]
  },
  {
   "cell_type": "markdown",
   "metadata": {},
   "source": [
    "## Training Data Load"
   ]
  },
  {
   "cell_type": "code",
   "execution_count": 5,
   "metadata": {
    "collapsed": false
   },
   "outputs": [
    {
     "name": "stdout",
     "output_type": "stream",
     "text": [
      "Load raw data from: data/PROPENSITY_COMMUNITIES_TRAIN_C.tsv\n",
      "Raw data loaded: 154125 / 38\n"
     ]
    },
    {
     "data": {
      "text/html": [
       "<div>\n",
       "<table border=\"1\" class=\"dataframe\">\n",
       "  <thead>\n",
       "    <tr style=\"text-align: right;\">\n",
       "      <th></th>\n",
       "      <th>ACCOUNT_ID</th>\n",
       "      <th>AOVBAND</th>\n",
       "      <th>TARGET_MONTH</th>\n",
       "      <th>ORGTYPE</th>\n",
       "      <th>ACCOUNT_AGE_YEARS</th>\n",
       "      <th>SNAP_MONTH_CODE</th>\n",
       "      <th>NON_PORTAL_LICENSES_MEAN</th>\n",
       "      <th>NP_LICENSES_S</th>\n",
       "      <th>NON_PORTAL_USERS_MEAN</th>\n",
       "      <th>NON_PORTAL_USERS_S</th>\n",
       "      <th>NUM_ACT_WORKFLOW_RULES_MEAN</th>\n",
       "      <th>NUM_ACT_WORKFLOW_RULES_S</th>\n",
       "      <th>NUM_DASHBOARDS_MEAN</th>\n",
       "      <th>NUM_DASHBOARDS_S</th>\n",
       "      <th>LCK_EMP_CNT_MEAN</th>\n",
       "      <th>ACT_CHATR_USR_NUM_MEAN</th>\n",
       "      <th>ACT_CHATR_USR_NUM_S</th>\n",
       "      <th>PCT_CHATR_CONTRIB_MEAN</th>\n",
       "      <th>CRUDS_NPUSER</th>\n",
       "      <th>REPORTS_NUM_MEAN</th>\n",
       "      <th>REPORTS_NUM_S</th>\n",
       "      <th>AOV</th>\n",
       "      <th>AOV_D</th>\n",
       "      <th>FTM_OP_TOTAL</th>\n",
       "      <th>TTM_TOTAL_PG</th>\n",
       "      <th>TTM_TOTAL_ACV</th>\n",
       "      <th>PAYDEX</th>\n",
       "      <th>RED_FLAG</th>\n",
       "      <th>SALES_LIC</th>\n",
       "      <th>SERVICE_LIC</th>\n",
       "      <th>PLAT_LIC</th>\n",
       "      <th>TOTAL_LIC</th>\n",
       "      <th>ACT_SELF_SVC_USERS_NUM_AVG</th>\n",
       "      <th>CASES_NUM_AVG</th>\n",
       "      <th>INDUSTRY_NM</th>\n",
       "      <th>FLAG</th>\n",
       "      <th>PARTNERFLAG</th>\n",
       "      <th>CUSTOMERFLAG</th>\n",
       "    </tr>\n",
       "  </thead>\n",
       "  <tbody>\n",
       "    <tr>\n",
       "      <th>0</th>\n",
       "      <td>0013000000M2QKZ</td>\n",
       "      <td>50-200K</td>\n",
       "      <td>72</td>\n",
       "      <td>2</td>\n",
       "      <td>116</td>\n",
       "      <td>72</td>\n",
       "      <td>619.777778</td>\n",
       "      <td>0.222222</td>\n",
       "      <td>8.333333</td>\n",
       "      <td>0.222222</td>\n",
       "      <td>8</td>\n",
       "      <td>0</td>\n",
       "      <td>10</td>\n",
       "      <td>0</td>\n",
       "      <td>112</td>\n",
       "      <td>44</td>\n",
       "      <td>2.2</td>\n",
       "      <td>1</td>\n",
       "      <td>0</td>\n",
       "      <td>-999</td>\n",
       "      <td>0</td>\n",
       "      <td>53701.770000</td>\n",
       "      <td>0.216639</td>\n",
       "      <td>1296</td>\n",
       "      <td>0</td>\n",
       "      <td>0</td>\n",
       "      <td>0</td>\n",
       "      <td>0</td>\n",
       "      <td>208</td>\n",
       "      <td>0</td>\n",
       "      <td>0</td>\n",
       "      <td>208</td>\n",
       "      <td>0</td>\n",
       "      <td>0</td>\n",
       "      <td>-</td>\n",
       "      <td>0</td>\n",
       "      <td>0</td>\n",
       "      <td>0</td>\n",
       "    </tr>\n",
       "    <tr>\n",
       "      <th>1</th>\n",
       "      <td>0013000000M2QKZ</td>\n",
       "      <td>50-200K</td>\n",
       "      <td>72</td>\n",
       "      <td>2</td>\n",
       "      <td>116</td>\n",
       "      <td>72</td>\n",
       "      <td>619.777778</td>\n",
       "      <td>0.222222</td>\n",
       "      <td>8.333333</td>\n",
       "      <td>0.222222</td>\n",
       "      <td>8</td>\n",
       "      <td>0</td>\n",
       "      <td>10</td>\n",
       "      <td>0</td>\n",
       "      <td>112</td>\n",
       "      <td>44</td>\n",
       "      <td>2.2</td>\n",
       "      <td>1</td>\n",
       "      <td>0</td>\n",
       "      <td>-999</td>\n",
       "      <td>0</td>\n",
       "      <td>53701.770000</td>\n",
       "      <td>0.216639</td>\n",
       "      <td>1296</td>\n",
       "      <td>0</td>\n",
       "      <td>0</td>\n",
       "      <td>0</td>\n",
       "      <td>0</td>\n",
       "      <td>208</td>\n",
       "      <td>0</td>\n",
       "      <td>0</td>\n",
       "      <td>208</td>\n",
       "      <td>0</td>\n",
       "      <td>0</td>\n",
       "      <td>-</td>\n",
       "      <td>0</td>\n",
       "      <td>0</td>\n",
       "      <td>0</td>\n",
       "    </tr>\n",
       "    <tr>\n",
       "      <th>2</th>\n",
       "      <td>0013000000M2QKZ</td>\n",
       "      <td>50-200K</td>\n",
       "      <td>72</td>\n",
       "      <td>2</td>\n",
       "      <td>116</td>\n",
       "      <td>72</td>\n",
       "      <td>619.777778</td>\n",
       "      <td>0.222222</td>\n",
       "      <td>8.333333</td>\n",
       "      <td>0.222222</td>\n",
       "      <td>8</td>\n",
       "      <td>0</td>\n",
       "      <td>10</td>\n",
       "      <td>0</td>\n",
       "      <td>112</td>\n",
       "      <td>44</td>\n",
       "      <td>2.2</td>\n",
       "      <td>1</td>\n",
       "      <td>0</td>\n",
       "      <td>-999</td>\n",
       "      <td>0</td>\n",
       "      <td>53701.770000</td>\n",
       "      <td>0.216639</td>\n",
       "      <td>1296</td>\n",
       "      <td>0</td>\n",
       "      <td>0</td>\n",
       "      <td>0</td>\n",
       "      <td>0</td>\n",
       "      <td>208</td>\n",
       "      <td>0</td>\n",
       "      <td>0</td>\n",
       "      <td>208</td>\n",
       "      <td>0</td>\n",
       "      <td>0</td>\n",
       "      <td>-</td>\n",
       "      <td>0</td>\n",
       "      <td>0</td>\n",
       "      <td>0</td>\n",
       "    </tr>\n",
       "    <tr>\n",
       "      <th>3</th>\n",
       "      <td>0013000000M2UUz</td>\n",
       "      <td>50-200K</td>\n",
       "      <td>64</td>\n",
       "      <td>2</td>\n",
       "      <td>115</td>\n",
       "      <td>64</td>\n",
       "      <td>656.444444</td>\n",
       "      <td>-104.622222</td>\n",
       "      <td>42.555556</td>\n",
       "      <td>14.088889</td>\n",
       "      <td>56</td>\n",
       "      <td>NaN</td>\n",
       "      <td>53</td>\n",
       "      <td>20</td>\n",
       "      <td>22</td>\n",
       "      <td>526</td>\n",
       "      <td>205.0</td>\n",
       "      <td>1</td>\n",
       "      <td>0</td>\n",
       "      <td>-999</td>\n",
       "      <td>0</td>\n",
       "      <td>86099.999657</td>\n",
       "      <td>50.096710</td>\n",
       "      <td>0</td>\n",
       "      <td>0</td>\n",
       "      <td>0</td>\n",
       "      <td>0</td>\n",
       "      <td>0</td>\n",
       "      <td>0</td>\n",
       "      <td>0</td>\n",
       "      <td>0</td>\n",
       "      <td>0</td>\n",
       "      <td>0</td>\n",
       "      <td>0</td>\n",
       "      <td>-</td>\n",
       "      <td>0</td>\n",
       "      <td>0</td>\n",
       "      <td>0</td>\n",
       "    </tr>\n",
       "    <tr>\n",
       "      <th>4</th>\n",
       "      <td>0013000000M2UUz</td>\n",
       "      <td>50-200K</td>\n",
       "      <td>65</td>\n",
       "      <td>2</td>\n",
       "      <td>115</td>\n",
       "      <td>65</td>\n",
       "      <td>656.444444</td>\n",
       "      <td>-77.883333</td>\n",
       "      <td>46.555556</td>\n",
       "      <td>12.116667</td>\n",
       "      <td>56</td>\n",
       "      <td>NaN</td>\n",
       "      <td>53</td>\n",
       "      <td>15</td>\n",
       "      <td>22</td>\n",
       "      <td>536</td>\n",
       "      <td>163.4</td>\n",
       "      <td>1</td>\n",
       "      <td>0</td>\n",
       "      <td>-999</td>\n",
       "      <td>0</td>\n",
       "      <td>86099.999657</td>\n",
       "      <td>50.096710</td>\n",
       "      <td>0</td>\n",
       "      <td>0</td>\n",
       "      <td>0</td>\n",
       "      <td>0</td>\n",
       "      <td>0</td>\n",
       "      <td>0</td>\n",
       "      <td>0</td>\n",
       "      <td>0</td>\n",
       "      <td>0</td>\n",
       "      <td>0</td>\n",
       "      <td>0</td>\n",
       "      <td>-</td>\n",
       "      <td>0</td>\n",
       "      <td>0</td>\n",
       "      <td>0</td>\n",
       "    </tr>\n",
       "  </tbody>\n",
       "</table>\n",
       "</div>"
      ],
      "text/plain": [
       "        ACCOUNT_ID  AOVBAND  TARGET_MONTH  ORGTYPE  ACCOUNT_AGE_YEARS  \\\n",
       "0  0013000000M2QKZ  50-200K            72        2                116   \n",
       "1  0013000000M2QKZ  50-200K            72        2                116   \n",
       "2  0013000000M2QKZ  50-200K            72        2                116   \n",
       "3  0013000000M2UUz  50-200K            64        2                115   \n",
       "4  0013000000M2UUz  50-200K            65        2                115   \n",
       "\n",
       "   SNAP_MONTH_CODE  NON_PORTAL_LICENSES_MEAN  NP_LICENSES_S  \\\n",
       "0               72                619.777778       0.222222   \n",
       "1               72                619.777778       0.222222   \n",
       "2               72                619.777778       0.222222   \n",
       "3               64                656.444444    -104.622222   \n",
       "4               65                656.444444     -77.883333   \n",
       "\n",
       "   NON_PORTAL_USERS_MEAN  NON_PORTAL_USERS_S  NUM_ACT_WORKFLOW_RULES_MEAN  \\\n",
       "0               8.333333            0.222222                            8   \n",
       "1               8.333333            0.222222                            8   \n",
       "2               8.333333            0.222222                            8   \n",
       "3              42.555556           14.088889                           56   \n",
       "4              46.555556           12.116667                           56   \n",
       "\n",
       "   NUM_ACT_WORKFLOW_RULES_S  NUM_DASHBOARDS_MEAN  NUM_DASHBOARDS_S  \\\n",
       "0                         0                   10                 0   \n",
       "1                         0                   10                 0   \n",
       "2                         0                   10                 0   \n",
       "3                       NaN                   53                20   \n",
       "4                       NaN                   53                15   \n",
       "\n",
       "   LCK_EMP_CNT_MEAN  ACT_CHATR_USR_NUM_MEAN  ACT_CHATR_USR_NUM_S  \\\n",
       "0               112                      44                  2.2   \n",
       "1               112                      44                  2.2   \n",
       "2               112                      44                  2.2   \n",
       "3                22                     526                205.0   \n",
       "4                22                     536                163.4   \n",
       "\n",
       "   PCT_CHATR_CONTRIB_MEAN  CRUDS_NPUSER  REPORTS_NUM_MEAN  REPORTS_NUM_S  \\\n",
       "0                       1             0              -999              0   \n",
       "1                       1             0              -999              0   \n",
       "2                       1             0              -999              0   \n",
       "3                       1             0              -999              0   \n",
       "4                       1             0              -999              0   \n",
       "\n",
       "            AOV      AOV_D  FTM_OP_TOTAL  TTM_TOTAL_PG  TTM_TOTAL_ACV  PAYDEX  \\\n",
       "0  53701.770000   0.216639          1296             0              0       0   \n",
       "1  53701.770000   0.216639          1296             0              0       0   \n",
       "2  53701.770000   0.216639          1296             0              0       0   \n",
       "3  86099.999657  50.096710             0             0              0       0   \n",
       "4  86099.999657  50.096710             0             0              0       0   \n",
       "\n",
       "   RED_FLAG  SALES_LIC  SERVICE_LIC  PLAT_LIC  TOTAL_LIC  \\\n",
       "0         0        208            0         0        208   \n",
       "1         0        208            0         0        208   \n",
       "2         0        208            0         0        208   \n",
       "3         0          0            0         0          0   \n",
       "4         0          0            0         0          0   \n",
       "\n",
       "   ACT_SELF_SVC_USERS_NUM_AVG  CASES_NUM_AVG INDUSTRY_NM  FLAG  PARTNERFLAG  \\\n",
       "0                           0              0           -     0            0   \n",
       "1                           0              0           -     0            0   \n",
       "2                           0              0           -     0            0   \n",
       "3                           0              0           -     0            0   \n",
       "4                           0              0           -     0            0   \n",
       "\n",
       "   CUSTOMERFLAG  \n",
       "0             0  \n",
       "1             0  \n",
       "2             0  \n",
       "3             0  \n",
       "4             0  "
      ]
     },
     "execution_count": 5,
     "metadata": {},
     "output_type": "execute_result"
    }
   ],
   "source": [
    "# load data\n",
    "\n",
    "data_fn = glb_config['data_dir'] + '/' + glb_config['data_fn_prefix'] + \".\" + glb_config['data_fn_postfix']\n",
    "print \"Load raw data from: %s\" % data_fn\n",
    "train_data = pd.read_csv(data_fn, sep = glb_config['data_fn_sep'])\n",
    "print \"Raw data loaded: %d / %d\" % (train_data.shape[0], train_data.shape[1])\n",
    "\n",
    "train_data.head()"
   ]
  },
  {
   "cell_type": "markdown",
   "metadata": {},
   "source": [
    "## Data Pre-processing\n",
    "### Target treatment"
   ]
  },
  {
   "cell_type": "code",
   "execution_count": 6,
   "metadata": {
    "collapsed": false
   },
   "outputs": [
    {
     "name": "stdout",
     "output_type": "stream",
     "text": [
      "Column 'CUSTOMERFLAG' used for label\n",
      "Raw data after target treatment: 154125 / 37\n"
     ]
    }
   ],
   "source": [
    "# specify attribute & target field\n",
    "\n",
    "if glb_config['model_type'] == 'customer':\n",
    "    glb_config['label_field'] = 'CUSTOMERFLAG'\n",
    "    train_data.drop('PARTNERFLAG', axis = 1, inplace = True)\n",
    "elif glb_config['model_type'] == 'partner':\n",
    "    glb_config['label_field'] = 'PARTNERFLAG'\n",
    "    train_data.drop('CUSTOMERFLAG', axis = 1, inplace = True)\n",
    "else:\n",
    "    glb_config['label_field'] = ''\n",
    "\n",
    "train_data.rename(columns = {glb_config['label_field']: 'label'}, inplace = True)\n",
    "print \"Column '%s' used for label\" % glb_config['label_field']\n",
    "print \"Raw data after target treatment: %d / %d\" % (train_data.shape[0], train_data.shape[1])"
   ]
  },
  {
   "cell_type": "markdown",
   "metadata": {},
   "source": [
    "### ID treatment"
   ]
  },
  {
   "cell_type": "code",
   "execution_count": 7,
   "metadata": {
    "collapsed": false
   },
   "outputs": [
    {
     "name": "stdout",
     "output_type": "stream",
     "text": [
      "Raw data after ID treatment: 154125 / 36\n"
     ]
    }
   ],
   "source": [
    "data_idx = train_data['ACCOUNT_ID']\n",
    "train_data.drop('ACCOUNT_ID', axis = 1, inplace = True)\n",
    "print \"Raw data after ID treatment: %d / %d\" % (train_data.shape[0], train_data.shape[1])"
   ]
  },
  {
   "cell_type": "markdown",
   "metadata": {},
   "source": [
    "### Attribute selection"
   ]
  },
  {
   "cell_type": "code",
   "execution_count": 8,
   "metadata": {
    "collapsed": false
   },
   "outputs": [],
   "source": [
    "# show columns left for attribute selection\n",
    "\n",
    "# train_data.columns.tolist()"
   ]
  },
  {
   "cell_type": "code",
   "execution_count": 9,
   "metadata": {
    "collapsed": false
   },
   "outputs": [
    {
     "name": "stdout",
     "output_type": "stream",
     "text": [
      "Intersect:\n",
      "set(['NUM_ACT_WORKFLOW_RULES_MEAN', 'ACT_SELF_SVC_USERS_NUM_AVG', 'SERVICE_LIC', 'REPORTS_NUM_MEAN', 'CRUDS_NPUSER', 'ACCOUNT_AGE_YEARS', 'ACT_CHATR_USR_NUM_S', 'AOVBAND', 'NON_PORTAL_LICENSES_MEAN', 'SALES_LIC', 'TTM_TOTAL_PG', 'TTM_TOTAL_ACV', 'ACT_CHATR_USR_NUM_MEAN', 'NON_PORTAL_USERS_MEAN', 'REPORTS_NUM_S', 'AOV_D', 'PCT_CHATR_CONTRIB_MEAN', 'NP_LICENSES_S', 'NON_PORTAL_USERS_S', 'LCK_EMP_CNT_MEAN', 'NUM_DASHBOARDS_MEAN', 'CASES_NUM_AVG'])\n",
      "\n",
      "\n",
      "Legacy only:\n",
      "set(['NON_PORTAL_LIC_UTIL_MEAN', 'CUSTOM_OBJECTS_NUM_S', 'CASES_CRTD_IN_LAST_7D_NUM_AVG', 'APEX_LOC_WRITTEN_MEAN', 'NON_PORTAL_TLP_MEAN', 'NUM_CUSTOM_APPS_MEAN', 'CUSTOM_OBJECTS_NUM_mean', 'STD_REC_CNT_MEAN', 'CUST_REC_CNT_MEAN', 'INDUSTRY_SUMMARY', 'REGION'])\n",
      "\n",
      "\n",
      "Replicate only:\n",
      "set(['TARGET_MONTH', 'RED_FLAG', 'INDUSTRY_NM', 'SNAP_MONTH_CODE', 'NUM_DASHBOARDS_S', 'label', 'FTM_OP_TOTAL', 'AOV', 'FLAG', 'TOTAL_LIC', 'PLAT_LIC', 'NUM_ACT_WORKFLOW_RULES_S', 'ORGTYPE', 'PAYDEX'])\n"
     ]
    }
   ],
   "source": [
    "model_var_list = ['INDUSTRY_SUMMARY', 'REGION', 'AOVBAND', 'ACCOUNT_AGE_YEARS',\n",
    "                  'NON_PORTAL_LICENSES_MEAN', 'NP_LICENSES_S', 'NON_PORTAL_LIC_UTIL_MEAN', 'NON_PORTAL_TLP_MEAN',   \n",
    "                  'NON_PORTAL_USERS_MEAN', 'NON_PORTAL_USERS_S', 'NUM_ACT_WORKFLOW_RULES_MEAN', 'NUM_CUSTOM_APPS_MEAN',\n",
    "                  'CUSTOM_OBJECTS_NUM_mean', 'CUSTOM_OBJECTS_NUM_S', 'NUM_DASHBOARDS_MEAN', 'LCK_EMP_CNT_MEAN',\n",
    "                  'APEX_LOC_WRITTEN_MEAN', 'ACT_CHATR_USR_NUM_MEAN', 'ACT_CHATR_USR_NUM_S', 'PCT_CHATR_CONTRIB_MEAN',\n",
    "                  'CRUDS_NPUSER', 'REPORTS_NUM_MEAN', 'REPORTS_NUM_S', 'AOV_D', 'TTM_TOTAL_PG', 'TTM_TOTAL_ACV', \n",
    "                  'CUST_REC_CNT_MEAN', 'STD_REC_CNT_MEAN', 'SALES_LIC', 'SERVICE_LIC', 'ACT_SELF_SVC_USERS_NUM_AVG', \n",
    "                  'CASES_NUM_AVG', 'CASES_CRTD_IN_LAST_7D_NUM_AVG']\n",
    "print \"Intersect:\"\n",
    "print set(model_var_list) & set(train_data.columns.tolist())\n",
    "print \"\\n\"\n",
    "print \"Legacy only:\"\n",
    "print set(model_var_list) - set(train_data.columns.tolist())\n",
    "print \"\\n\"\n",
    "print \"Replicate only:\"\n",
    "print set(train_data.columns.tolist()) - set(model_var_list)"
   ]
  },
  {
   "cell_type": "code",
   "execution_count": 10,
   "metadata": {
    "collapsed": false
   },
   "outputs": [
    {
     "name": "stdout",
     "output_type": "stream",
     "text": [
      "Number of variables used for modeling: 16\n"
     ]
    }
   ],
   "source": [
    "model_var_list = [\n",
    "    'NUM_ACT_WORKFLOW_RULES_MEAN', \n",
    "    'ACT_SELF_SVC_USERS_NUM_AVG', \n",
    "    'SERVICE_LIC', \n",
    "#     'REPORTS_NUM_MEAN', # commented because of too low variance\n",
    "#     'CRUDS_NPUSER', # commented because of too low variance\n",
    "    'ACCOUNT_AGE_YEARS', \n",
    "    'ACT_CHATR_USR_NUM_S', \n",
    "    'AOVBAND', \n",
    "    'NON_PORTAL_LICENSES_MEAN', \n",
    "    'SALES_LIC', \n",
    "#     'TTM_TOTAL_PG', # commented because of too low variance\n",
    "#     'TTM_TOTAL_ACV', # commented because of too low variance\n",
    "    'ACT_CHATR_USR_NUM_MEAN', \n",
    "    'NON_PORTAL_USERS_MEAN', \n",
    "#     'REPORTS_NUM_S', # commented because of too low variance\n",
    "    'AOV_D', \n",
    "#     'PCT_CHATR_CONTRIB_MEAN', # commented because of too low variance\n",
    "    'NP_LICENSES_S', \n",
    "    'NON_PORTAL_USERS_S', \n",
    "    'LCK_EMP_CNT_MEAN', \n",
    "    'NUM_DASHBOARDS_MEAN', \n",
    "    'CASES_NUM_AVG'\n",
    "]\n",
    "model_var_list.append('label')\n",
    "\n",
    "# for debug only, comment when running on real data\n",
    "# model_var_list = train_data.columns.values[train_data.columns.values != 'label']\n",
    "\n",
    "print \"Number of variables used for modeling: %d\" % (len(model_var_list) - 1) # minus 1 because of label in list"
   ]
  },
  {
   "cell_type": "markdown",
   "metadata": {},
   "source": [
    "## Training & Validation Preparation"
   ]
  },
  {
   "cell_type": "code",
   "execution_count": 11,
   "metadata": {
    "collapsed": false
   },
   "outputs": [],
   "source": [
    "# train_data, valid_data = SFrame(train_data).random_split(0.8, seed = 1)\n",
    "# print \"Training data prepared: %d / %d\" % (train_data.shape[0], train_data.shape[1])\n",
    "# print \"Validation data prepared: %d / %d\" % (valid_data.shape[0], valid_data.shape[1])"
   ]
  },
  {
   "cell_type": "markdown",
   "metadata": {},
   "source": [
    "## PTB Model Calibration"
   ]
  },
  {
   "cell_type": "code",
   "execution_count": 12,
   "metadata": {
    "collapsed": false
   },
   "outputs": [
    {
     "name": "stdout",
     "output_type": "stream",
     "text": [
      "Training data for modeling: 154125 / 17\n",
      "Positives vs. Negatives: 398 (0.26%) vs. 153727\n"
     ]
    },
    {
     "data": {
      "text/html": [
       "<div>\n",
       "<table border=\"1\" class=\"dataframe\">\n",
       "  <thead>\n",
       "    <tr style=\"text-align: right;\">\n",
       "      <th></th>\n",
       "      <th>NUM_ACT_WORKFLOW_RULES_MEAN</th>\n",
       "      <th>ACT_SELF_SVC_USERS_NUM_AVG</th>\n",
       "      <th>SERVICE_LIC</th>\n",
       "      <th>ACCOUNT_AGE_YEARS</th>\n",
       "      <th>ACT_CHATR_USR_NUM_S</th>\n",
       "      <th>AOVBAND</th>\n",
       "      <th>NON_PORTAL_LICENSES_MEAN</th>\n",
       "      <th>SALES_LIC</th>\n",
       "      <th>ACT_CHATR_USR_NUM_MEAN</th>\n",
       "      <th>NON_PORTAL_USERS_MEAN</th>\n",
       "      <th>AOV_D</th>\n",
       "      <th>NP_LICENSES_S</th>\n",
       "      <th>NON_PORTAL_USERS_S</th>\n",
       "      <th>LCK_EMP_CNT_MEAN</th>\n",
       "      <th>NUM_DASHBOARDS_MEAN</th>\n",
       "      <th>CASES_NUM_AVG</th>\n",
       "      <th>label</th>\n",
       "    </tr>\n",
       "  </thead>\n",
       "  <tbody>\n",
       "    <tr>\n",
       "      <th>0</th>\n",
       "      <td>8</td>\n",
       "      <td>0</td>\n",
       "      <td>0</td>\n",
       "      <td>116</td>\n",
       "      <td>2.2</td>\n",
       "      <td>50-200K</td>\n",
       "      <td>619.777778</td>\n",
       "      <td>208</td>\n",
       "      <td>44</td>\n",
       "      <td>8.333333</td>\n",
       "      <td>0.216639</td>\n",
       "      <td>0.222222</td>\n",
       "      <td>0.222222</td>\n",
       "      <td>112</td>\n",
       "      <td>10</td>\n",
       "      <td>0</td>\n",
       "      <td>0</td>\n",
       "    </tr>\n",
       "    <tr>\n",
       "      <th>1</th>\n",
       "      <td>8</td>\n",
       "      <td>0</td>\n",
       "      <td>0</td>\n",
       "      <td>116</td>\n",
       "      <td>2.2</td>\n",
       "      <td>50-200K</td>\n",
       "      <td>619.777778</td>\n",
       "      <td>208</td>\n",
       "      <td>44</td>\n",
       "      <td>8.333333</td>\n",
       "      <td>0.216639</td>\n",
       "      <td>0.222222</td>\n",
       "      <td>0.222222</td>\n",
       "      <td>112</td>\n",
       "      <td>10</td>\n",
       "      <td>0</td>\n",
       "      <td>0</td>\n",
       "    </tr>\n",
       "    <tr>\n",
       "      <th>2</th>\n",
       "      <td>8</td>\n",
       "      <td>0</td>\n",
       "      <td>0</td>\n",
       "      <td>116</td>\n",
       "      <td>2.2</td>\n",
       "      <td>50-200K</td>\n",
       "      <td>619.777778</td>\n",
       "      <td>208</td>\n",
       "      <td>44</td>\n",
       "      <td>8.333333</td>\n",
       "      <td>0.216639</td>\n",
       "      <td>0.222222</td>\n",
       "      <td>0.222222</td>\n",
       "      <td>112</td>\n",
       "      <td>10</td>\n",
       "      <td>0</td>\n",
       "      <td>0</td>\n",
       "    </tr>\n",
       "    <tr>\n",
       "      <th>3</th>\n",
       "      <td>56</td>\n",
       "      <td>0</td>\n",
       "      <td>0</td>\n",
       "      <td>115</td>\n",
       "      <td>205.0</td>\n",
       "      <td>50-200K</td>\n",
       "      <td>656.444444</td>\n",
       "      <td>0</td>\n",
       "      <td>526</td>\n",
       "      <td>42.555556</td>\n",
       "      <td>50.096710</td>\n",
       "      <td>-104.622222</td>\n",
       "      <td>14.088889</td>\n",
       "      <td>22</td>\n",
       "      <td>53</td>\n",
       "      <td>0</td>\n",
       "      <td>0</td>\n",
       "    </tr>\n",
       "    <tr>\n",
       "      <th>4</th>\n",
       "      <td>56</td>\n",
       "      <td>0</td>\n",
       "      <td>0</td>\n",
       "      <td>115</td>\n",
       "      <td>163.4</td>\n",
       "      <td>50-200K</td>\n",
       "      <td>656.444444</td>\n",
       "      <td>0</td>\n",
       "      <td>536</td>\n",
       "      <td>46.555556</td>\n",
       "      <td>50.096710</td>\n",
       "      <td>-77.883333</td>\n",
       "      <td>12.116667</td>\n",
       "      <td>22</td>\n",
       "      <td>53</td>\n",
       "      <td>0</td>\n",
       "      <td>0</td>\n",
       "    </tr>\n",
       "  </tbody>\n",
       "</table>\n",
       "</div>"
      ],
      "text/plain": [
       "   NUM_ACT_WORKFLOW_RULES_MEAN  ACT_SELF_SVC_USERS_NUM_AVG  SERVICE_LIC  \\\n",
       "0                            8                           0            0   \n",
       "1                            8                           0            0   \n",
       "2                            8                           0            0   \n",
       "3                           56                           0            0   \n",
       "4                           56                           0            0   \n",
       "\n",
       "   ACCOUNT_AGE_YEARS  ACT_CHATR_USR_NUM_S  AOVBAND  NON_PORTAL_LICENSES_MEAN  \\\n",
       "0                116                  2.2  50-200K                619.777778   \n",
       "1                116                  2.2  50-200K                619.777778   \n",
       "2                116                  2.2  50-200K                619.777778   \n",
       "3                115                205.0  50-200K                656.444444   \n",
       "4                115                163.4  50-200K                656.444444   \n",
       "\n",
       "   SALES_LIC  ACT_CHATR_USR_NUM_MEAN  NON_PORTAL_USERS_MEAN      AOV_D  \\\n",
       "0        208                      44               8.333333   0.216639   \n",
       "1        208                      44               8.333333   0.216639   \n",
       "2        208                      44               8.333333   0.216639   \n",
       "3          0                     526              42.555556  50.096710   \n",
       "4          0                     536              46.555556  50.096710   \n",
       "\n",
       "   NP_LICENSES_S  NON_PORTAL_USERS_S  LCK_EMP_CNT_MEAN  NUM_DASHBOARDS_MEAN  \\\n",
       "0       0.222222            0.222222               112                   10   \n",
       "1       0.222222            0.222222               112                   10   \n",
       "2       0.222222            0.222222               112                   10   \n",
       "3    -104.622222           14.088889                22                   53   \n",
       "4     -77.883333           12.116667                22                   53   \n",
       "\n",
       "   CASES_NUM_AVG  label  \n",
       "0              0      0  \n",
       "1              0      0  \n",
       "2              0      0  \n",
       "3              0      0  \n",
       "4              0      0  "
      ]
     },
     "execution_count": 12,
     "metadata": {},
     "output_type": "execute_result"
    }
   ],
   "source": [
    "# select modeling var\n",
    "\n",
    "train_data = train_data[model_var_list]\n",
    "print \"Training data for modeling: %d / %d\" % (train_data.shape[0], train_data.shape[1])\n",
    "print \"Positives vs. Negatives: %d (%.2f%%) vs. %d\" % (sum(train_data['label'] == 1), \n",
    "                                                       100 * float(sum(train_data['label'] == 1)) / float(len(train_data['label'])),\n",
    "                                                       sum(train_data['label'] == 0))\n",
    "train_data.head()"
   ]
  },
  {
   "cell_type": "code",
   "execution_count": 13,
   "metadata": {
    "collapsed": false
   },
   "outputs": [],
   "source": [
    "# vectorize categorical variables\n",
    "\n",
    "from sklearn.feature_extraction import DictVectorizer\n",
    "\n",
    "def one_hot_dataframe(data, cols):\n",
    "    vec = DictVectorizer()\n",
    "    \n",
    "    mk_dict = lambda row: dict((col, row[col]) for col in cols)\n",
    "    vec.fit(data[cols].apply(mk_dict, axis=1))\n",
    "    vecData = pd.DataFrame(vec.transform(data[cols].apply(mk_dict, axis=1)).toarray())\n",
    "    vecData.columns = vec.get_feature_names()\n",
    "    vecData.index = data.index\n",
    "    data = data.drop(cols, axis=1)\n",
    "    data = data.join(vecData)\n",
    "    \n",
    "    return (data, vec)"
   ]
  },
  {
   "cell_type": "code",
   "execution_count": 14,
   "metadata": {
    "collapsed": false
   },
   "outputs": [
    {
     "name": "stdout",
     "output_type": "stream",
     "text": [
      "Vectorize categorical variables\n",
      "Vectorized training data for modeling: 154125 / 19\n",
      "Positives vs. Negatives: 398 (0.26%) vs. 153727\n"
     ]
    },
    {
     "data": {
      "text/html": [
       "<div>\n",
       "<table border=\"1\" class=\"dataframe\">\n",
       "  <thead>\n",
       "    <tr style=\"text-align: right;\">\n",
       "      <th></th>\n",
       "      <th>NUM_ACT_WORKFLOW_RULES_MEAN</th>\n",
       "      <th>ACT_SELF_SVC_USERS_NUM_AVG</th>\n",
       "      <th>SERVICE_LIC</th>\n",
       "      <th>ACCOUNT_AGE_YEARS</th>\n",
       "      <th>ACT_CHATR_USR_NUM_S</th>\n",
       "      <th>NON_PORTAL_LICENSES_MEAN</th>\n",
       "      <th>SALES_LIC</th>\n",
       "      <th>ACT_CHATR_USR_NUM_MEAN</th>\n",
       "      <th>NON_PORTAL_USERS_MEAN</th>\n",
       "      <th>AOV_D</th>\n",
       "      <th>NP_LICENSES_S</th>\n",
       "      <th>NON_PORTAL_USERS_S</th>\n",
       "      <th>LCK_EMP_CNT_MEAN</th>\n",
       "      <th>NUM_DASHBOARDS_MEAN</th>\n",
       "      <th>CASES_NUM_AVG</th>\n",
       "      <th>label</th>\n",
       "      <th>AOVBAND=200-600K</th>\n",
       "      <th>AOVBAND=50-200K</th>\n",
       "      <th>AOVBAND=More than 600K</th>\n",
       "    </tr>\n",
       "  </thead>\n",
       "  <tbody>\n",
       "    <tr>\n",
       "      <th>0</th>\n",
       "      <td>8</td>\n",
       "      <td>0</td>\n",
       "      <td>0</td>\n",
       "      <td>116</td>\n",
       "      <td>2.2</td>\n",
       "      <td>619.777778</td>\n",
       "      <td>208</td>\n",
       "      <td>44</td>\n",
       "      <td>8.333333</td>\n",
       "      <td>0.216639</td>\n",
       "      <td>0.222222</td>\n",
       "      <td>0.222222</td>\n",
       "      <td>112</td>\n",
       "      <td>10</td>\n",
       "      <td>0</td>\n",
       "      <td>0</td>\n",
       "      <td>0</td>\n",
       "      <td>1</td>\n",
       "      <td>0</td>\n",
       "    </tr>\n",
       "    <tr>\n",
       "      <th>1</th>\n",
       "      <td>8</td>\n",
       "      <td>0</td>\n",
       "      <td>0</td>\n",
       "      <td>116</td>\n",
       "      <td>2.2</td>\n",
       "      <td>619.777778</td>\n",
       "      <td>208</td>\n",
       "      <td>44</td>\n",
       "      <td>8.333333</td>\n",
       "      <td>0.216639</td>\n",
       "      <td>0.222222</td>\n",
       "      <td>0.222222</td>\n",
       "      <td>112</td>\n",
       "      <td>10</td>\n",
       "      <td>0</td>\n",
       "      <td>0</td>\n",
       "      <td>0</td>\n",
       "      <td>1</td>\n",
       "      <td>0</td>\n",
       "    </tr>\n",
       "    <tr>\n",
       "      <th>2</th>\n",
       "      <td>8</td>\n",
       "      <td>0</td>\n",
       "      <td>0</td>\n",
       "      <td>116</td>\n",
       "      <td>2.2</td>\n",
       "      <td>619.777778</td>\n",
       "      <td>208</td>\n",
       "      <td>44</td>\n",
       "      <td>8.333333</td>\n",
       "      <td>0.216639</td>\n",
       "      <td>0.222222</td>\n",
       "      <td>0.222222</td>\n",
       "      <td>112</td>\n",
       "      <td>10</td>\n",
       "      <td>0</td>\n",
       "      <td>0</td>\n",
       "      <td>0</td>\n",
       "      <td>1</td>\n",
       "      <td>0</td>\n",
       "    </tr>\n",
       "    <tr>\n",
       "      <th>3</th>\n",
       "      <td>56</td>\n",
       "      <td>0</td>\n",
       "      <td>0</td>\n",
       "      <td>115</td>\n",
       "      <td>205.0</td>\n",
       "      <td>656.444444</td>\n",
       "      <td>0</td>\n",
       "      <td>526</td>\n",
       "      <td>42.555556</td>\n",
       "      <td>50.096710</td>\n",
       "      <td>-104.622222</td>\n",
       "      <td>14.088889</td>\n",
       "      <td>22</td>\n",
       "      <td>53</td>\n",
       "      <td>0</td>\n",
       "      <td>0</td>\n",
       "      <td>0</td>\n",
       "      <td>1</td>\n",
       "      <td>0</td>\n",
       "    </tr>\n",
       "    <tr>\n",
       "      <th>4</th>\n",
       "      <td>56</td>\n",
       "      <td>0</td>\n",
       "      <td>0</td>\n",
       "      <td>115</td>\n",
       "      <td>163.4</td>\n",
       "      <td>656.444444</td>\n",
       "      <td>0</td>\n",
       "      <td>536</td>\n",
       "      <td>46.555556</td>\n",
       "      <td>50.096710</td>\n",
       "      <td>-77.883333</td>\n",
       "      <td>12.116667</td>\n",
       "      <td>22</td>\n",
       "      <td>53</td>\n",
       "      <td>0</td>\n",
       "      <td>0</td>\n",
       "      <td>0</td>\n",
       "      <td>1</td>\n",
       "      <td>0</td>\n",
       "    </tr>\n",
       "  </tbody>\n",
       "</table>\n",
       "</div>"
      ],
      "text/plain": [
       "   NUM_ACT_WORKFLOW_RULES_MEAN  ACT_SELF_SVC_USERS_NUM_AVG  SERVICE_LIC  \\\n",
       "0                            8                           0            0   \n",
       "1                            8                           0            0   \n",
       "2                            8                           0            0   \n",
       "3                           56                           0            0   \n",
       "4                           56                           0            0   \n",
       "\n",
       "   ACCOUNT_AGE_YEARS  ACT_CHATR_USR_NUM_S  NON_PORTAL_LICENSES_MEAN  \\\n",
       "0                116                  2.2                619.777778   \n",
       "1                116                  2.2                619.777778   \n",
       "2                116                  2.2                619.777778   \n",
       "3                115                205.0                656.444444   \n",
       "4                115                163.4                656.444444   \n",
       "\n",
       "   SALES_LIC  ACT_CHATR_USR_NUM_MEAN  NON_PORTAL_USERS_MEAN      AOV_D  \\\n",
       "0        208                      44               8.333333   0.216639   \n",
       "1        208                      44               8.333333   0.216639   \n",
       "2        208                      44               8.333333   0.216639   \n",
       "3          0                     526              42.555556  50.096710   \n",
       "4          0                     536              46.555556  50.096710   \n",
       "\n",
       "   NP_LICENSES_S  NON_PORTAL_USERS_S  LCK_EMP_CNT_MEAN  NUM_DASHBOARDS_MEAN  \\\n",
       "0       0.222222            0.222222               112                   10   \n",
       "1       0.222222            0.222222               112                   10   \n",
       "2       0.222222            0.222222               112                   10   \n",
       "3    -104.622222           14.088889                22                   53   \n",
       "4     -77.883333           12.116667                22                   53   \n",
       "\n",
       "   CASES_NUM_AVG  label  AOVBAND=200-600K  AOVBAND=50-200K  \\\n",
       "0              0      0                 0                1   \n",
       "1              0      0                 0                1   \n",
       "2              0      0                 0                1   \n",
       "3              0      0                 0                1   \n",
       "4              0      0                 0                1   \n",
       "\n",
       "   AOVBAND=More than 600K  \n",
       "0                       0  \n",
       "1                       0  \n",
       "2                       0  \n",
       "3                       0  \n",
       "4                       0  "
      ]
     },
     "execution_count": 14,
     "metadata": {},
     "output_type": "execute_result"
    }
   ],
   "source": [
    "print \"Vectorize categorical variables\"\n",
    "\n",
    "cat_var_list = ['AOVBAND']\n",
    "train_data, hot_encoder = one_hot_dataframe(train_data, cat_var_list)\n",
    "print \"Vectorized training data for modeling: %d / %d\" % (train_data.shape[0], train_data.shape[1])\n",
    "print \"Positives vs. Negatives: %d (%.2f%%) vs. %d\" % (sum(train_data['label'] == 1), \n",
    "                                                       100 * float(sum(train_data['label'] == 1)) / float(len(train_data['label'])),\n",
    "                                                       sum(train_data['label'] == 0))\n",
    "train_data.head()"
   ]
  },
  {
   "cell_type": "code",
   "execution_count": 15,
   "metadata": {
    "collapsed": false
   },
   "outputs": [
    {
     "name": "stdout",
     "output_type": "stream",
     "text": [
      "Fill up NA entries with: 0.000000\n",
      "Parameters for positive re-sampling:\n",
      "{'out_step': 0.5, 'kind': 'regular', 'random_state': 1, 'ratio': 200, 'verbose': True, 'k': 397}\n",
      "\n",
      "\n",
      "This commercial license of GraphLab Create is assigned to gzhu@salesforce.com."
     ]
    },
    {
     "name": "stderr",
     "output_type": "stream",
     "text": [
      "2016-05-10 15:04:43,443 [INFO] graphlab.cython.cy_server, 176: GraphLab Create v1.8.5 started. Logging: /tmp/graphlab_server_1462917882.log\n"
     ]
    },
    {
     "name": "stdout",
     "output_type": "stream",
     "text": [
      "\n",
      "Determining classes statistics... 2 classes detected: {0: 153727, 1: 398}\n",
      "Finding the 397 nearest neighbours...done!\n",
      "Creating synthetic samples...Generated 79600 new samples ...\n",
      "done!\n",
      "Re-sampling on positives is done in 2.356562 sec\n",
      "\n",
      "\n",
      "Syn training data for modeling: 233725 / 19\n",
      "Positives vs. Negatives: 79998 vs. 153727\n"
     ]
    },
    {
     "data": {
      "text/html": [
       "<div>\n",
       "<table border=\"1\" class=\"dataframe\">\n",
       "  <thead>\n",
       "    <tr style=\"text-align: right;\">\n",
       "      <th></th>\n",
       "      <th>NUM_ACT_WORKFLOW_RULES_MEAN</th>\n",
       "      <th>ACT_SELF_SVC_USERS_NUM_AVG</th>\n",
       "      <th>SERVICE_LIC</th>\n",
       "      <th>ACCOUNT_AGE_YEARS</th>\n",
       "      <th>ACT_CHATR_USR_NUM_S</th>\n",
       "      <th>NON_PORTAL_LICENSES_MEAN</th>\n",
       "      <th>SALES_LIC</th>\n",
       "      <th>ACT_CHATR_USR_NUM_MEAN</th>\n",
       "      <th>NON_PORTAL_USERS_MEAN</th>\n",
       "      <th>AOV_D</th>\n",
       "      <th>NP_LICENSES_S</th>\n",
       "      <th>NON_PORTAL_USERS_S</th>\n",
       "      <th>LCK_EMP_CNT_MEAN</th>\n",
       "      <th>NUM_DASHBOARDS_MEAN</th>\n",
       "      <th>CASES_NUM_AVG</th>\n",
       "      <th>AOVBAND=200-600K</th>\n",
       "      <th>AOVBAND=50-200K</th>\n",
       "      <th>AOVBAND=More than 600K</th>\n",
       "      <th>label</th>\n",
       "    </tr>\n",
       "  </thead>\n",
       "  <tbody>\n",
       "    <tr>\n",
       "      <th>0</th>\n",
       "      <td>8</td>\n",
       "      <td>0</td>\n",
       "      <td>0</td>\n",
       "      <td>116</td>\n",
       "      <td>2.2</td>\n",
       "      <td>619.777778</td>\n",
       "      <td>208</td>\n",
       "      <td>44</td>\n",
       "      <td>8.333333</td>\n",
       "      <td>0.216639</td>\n",
       "      <td>0.222222</td>\n",
       "      <td>0.222222</td>\n",
       "      <td>112</td>\n",
       "      <td>10</td>\n",
       "      <td>0</td>\n",
       "      <td>0</td>\n",
       "      <td>1</td>\n",
       "      <td>0</td>\n",
       "      <td>0</td>\n",
       "    </tr>\n",
       "    <tr>\n",
       "      <th>1</th>\n",
       "      <td>8</td>\n",
       "      <td>0</td>\n",
       "      <td>0</td>\n",
       "      <td>116</td>\n",
       "      <td>2.2</td>\n",
       "      <td>619.777778</td>\n",
       "      <td>208</td>\n",
       "      <td>44</td>\n",
       "      <td>8.333333</td>\n",
       "      <td>0.216639</td>\n",
       "      <td>0.222222</td>\n",
       "      <td>0.222222</td>\n",
       "      <td>112</td>\n",
       "      <td>10</td>\n",
       "      <td>0</td>\n",
       "      <td>0</td>\n",
       "      <td>1</td>\n",
       "      <td>0</td>\n",
       "      <td>0</td>\n",
       "    </tr>\n",
       "    <tr>\n",
       "      <th>2</th>\n",
       "      <td>8</td>\n",
       "      <td>0</td>\n",
       "      <td>0</td>\n",
       "      <td>116</td>\n",
       "      <td>2.2</td>\n",
       "      <td>619.777778</td>\n",
       "      <td>208</td>\n",
       "      <td>44</td>\n",
       "      <td>8.333333</td>\n",
       "      <td>0.216639</td>\n",
       "      <td>0.222222</td>\n",
       "      <td>0.222222</td>\n",
       "      <td>112</td>\n",
       "      <td>10</td>\n",
       "      <td>0</td>\n",
       "      <td>0</td>\n",
       "      <td>1</td>\n",
       "      <td>0</td>\n",
       "      <td>0</td>\n",
       "    </tr>\n",
       "    <tr>\n",
       "      <th>3</th>\n",
       "      <td>56</td>\n",
       "      <td>0</td>\n",
       "      <td>0</td>\n",
       "      <td>115</td>\n",
       "      <td>205.0</td>\n",
       "      <td>656.444444</td>\n",
       "      <td>0</td>\n",
       "      <td>526</td>\n",
       "      <td>42.555556</td>\n",
       "      <td>50.096710</td>\n",
       "      <td>-104.622222</td>\n",
       "      <td>14.088889</td>\n",
       "      <td>22</td>\n",
       "      <td>53</td>\n",
       "      <td>0</td>\n",
       "      <td>0</td>\n",
       "      <td>1</td>\n",
       "      <td>0</td>\n",
       "      <td>0</td>\n",
       "    </tr>\n",
       "    <tr>\n",
       "      <th>4</th>\n",
       "      <td>56</td>\n",
       "      <td>0</td>\n",
       "      <td>0</td>\n",
       "      <td>115</td>\n",
       "      <td>163.4</td>\n",
       "      <td>656.444444</td>\n",
       "      <td>0</td>\n",
       "      <td>536</td>\n",
       "      <td>46.555556</td>\n",
       "      <td>50.096710</td>\n",
       "      <td>-77.883333</td>\n",
       "      <td>12.116667</td>\n",
       "      <td>22</td>\n",
       "      <td>53</td>\n",
       "      <td>0</td>\n",
       "      <td>0</td>\n",
       "      <td>1</td>\n",
       "      <td>0</td>\n",
       "      <td>0</td>\n",
       "    </tr>\n",
       "  </tbody>\n",
       "</table>\n",
       "</div>"
      ],
      "text/plain": [
       "   NUM_ACT_WORKFLOW_RULES_MEAN  ACT_SELF_SVC_USERS_NUM_AVG  SERVICE_LIC  \\\n",
       "0                            8                           0            0   \n",
       "1                            8                           0            0   \n",
       "2                            8                           0            0   \n",
       "3                           56                           0            0   \n",
       "4                           56                           0            0   \n",
       "\n",
       "   ACCOUNT_AGE_YEARS  ACT_CHATR_USR_NUM_S  NON_PORTAL_LICENSES_MEAN  \\\n",
       "0                116                  2.2                619.777778   \n",
       "1                116                  2.2                619.777778   \n",
       "2                116                  2.2                619.777778   \n",
       "3                115                205.0                656.444444   \n",
       "4                115                163.4                656.444444   \n",
       "\n",
       "   SALES_LIC  ACT_CHATR_USR_NUM_MEAN  NON_PORTAL_USERS_MEAN      AOV_D  \\\n",
       "0        208                      44               8.333333   0.216639   \n",
       "1        208                      44               8.333333   0.216639   \n",
       "2        208                      44               8.333333   0.216639   \n",
       "3          0                     526              42.555556  50.096710   \n",
       "4          0                     536              46.555556  50.096710   \n",
       "\n",
       "   NP_LICENSES_S  NON_PORTAL_USERS_S  LCK_EMP_CNT_MEAN  NUM_DASHBOARDS_MEAN  \\\n",
       "0       0.222222            0.222222               112                   10   \n",
       "1       0.222222            0.222222               112                   10   \n",
       "2       0.222222            0.222222               112                   10   \n",
       "3    -104.622222           14.088889                22                   53   \n",
       "4     -77.883333           12.116667                22                   53   \n",
       "\n",
       "   CASES_NUM_AVG  AOVBAND=200-600K  AOVBAND=50-200K  AOVBAND=More than 600K  \\\n",
       "0              0                 0                1                       0   \n",
       "1              0                 0                1                       0   \n",
       "2              0                 0                1                       0   \n",
       "3              0                 0                1                       0   \n",
       "4              0                 0                1                       0   \n",
       "\n",
       "   label  \n",
       "0      0  \n",
       "1      0  \n",
       "2      0  \n",
       "3      0  \n",
       "4      0  "
      ]
     },
     "execution_count": 15,
     "metadata": {},
     "output_type": "execute_result"
    }
   ],
   "source": [
    "# re-sampling on positives\n",
    "\n",
    "from unbalanced_dataset import SMOTE\n",
    "\n",
    "y = train_data['label']\n",
    "x = train_data.drop(['label'], axis = 1, inplace = False)\n",
    "\n",
    "na_val = 0\n",
    "print \"Fill up NA entries with: %f\" % na_val\n",
    "x.fillna(value = na_val, inplace = True)\n",
    "\n",
    "sample_config = dict(\n",
    "    ratio = 200, # float(np.count_nonzero(y == 1)) / float(np.count_nonzero(y == 0))\n",
    "    k = min(400, sum(y == 1) - 1),\n",
    "    out_step = 0.5, # 0.5 / 1\n",
    "    kind = 'regular', # 'regular' / 'borderline1' / 'borderline2'\n",
    "    random_state = 1,\n",
    "    verbose = True,\n",
    ")\n",
    "print \"Parameters for positive re-sampling:\"\n",
    "print sample_config\n",
    "print \"\\n\"\n",
    "\n",
    "x, y = x.as_matrix(), y.as_matrix()\n",
    "ptm_process = time.time()\n",
    "smote = SMOTE(ratio = sample_config['ratio'], k = sample_config['k'], m = sample_config['k'],\n",
    "              out_step = sample_config['out_step'],\n",
    "              kind = sample_config['kind'], random_state = sample_config['random_state'],\n",
    "              verbose = sample_config['verbose'])\n",
    "syn_x, syn_y = smote.fit_transform(x, y)\n",
    "print \"Re-sampling on positives is done in %f sec\" % (time.time() - ptm_process)\n",
    "\n",
    "train_data_syn = pd.DataFrame(data = syn_x)\n",
    "col_names = train_data.columns.tolist()\n",
    "col_names.remove('label')\n",
    "train_data_syn.columns = col_names\n",
    "train_data_syn['label'] = syn_y.astype(np.int)\n",
    "\n",
    "print \"\\n\"\n",
    "print \"Syn training data for modeling: %d / %d\" % (train_data_syn.shape[0], train_data_syn.shape[1])\n",
    "print \"Positives vs. Negatives: %d vs. %d\" % (sum(train_data_syn['label'] == 1), sum(train_data_syn['label'] == 0))\n",
    "train_data_syn.head()"
   ]
  },
  {
   "cell_type": "code",
   "execution_count": 16,
   "metadata": {
    "collapsed": false
   },
   "outputs": [
    {
     "name": "stdout",
     "output_type": "stream",
     "text": [
      "Synthetic training data for modeling: 233725 / 19\n",
      "Positives vs. Negatives: 79998 (34.23%) vs. 153727\n"
     ]
    },
    {
     "data": {
      "text/html": [
       "<div>\n",
       "<table border=\"1\" class=\"dataframe\">\n",
       "  <thead>\n",
       "    <tr style=\"text-align: right;\">\n",
       "      <th></th>\n",
       "      <th>NUM_ACT_WORKFLOW_RULES_MEAN</th>\n",
       "      <th>ACT_SELF_SVC_USERS_NUM_AVG</th>\n",
       "      <th>SERVICE_LIC</th>\n",
       "      <th>ACCOUNT_AGE_YEARS</th>\n",
       "      <th>ACT_CHATR_USR_NUM_S</th>\n",
       "      <th>NON_PORTAL_LICENSES_MEAN</th>\n",
       "      <th>SALES_LIC</th>\n",
       "      <th>ACT_CHATR_USR_NUM_MEAN</th>\n",
       "      <th>NON_PORTAL_USERS_MEAN</th>\n",
       "      <th>AOV_D</th>\n",
       "      <th>NP_LICENSES_S</th>\n",
       "      <th>NON_PORTAL_USERS_S</th>\n",
       "      <th>LCK_EMP_CNT_MEAN</th>\n",
       "      <th>NUM_DASHBOARDS_MEAN</th>\n",
       "      <th>CASES_NUM_AVG</th>\n",
       "      <th>AOVBAND=200-600K</th>\n",
       "      <th>AOVBAND=50-200K</th>\n",
       "      <th>AOVBAND=More than 600K</th>\n",
       "      <th>label</th>\n",
       "    </tr>\n",
       "  </thead>\n",
       "  <tbody>\n",
       "    <tr>\n",
       "      <th>0</th>\n",
       "      <td>8</td>\n",
       "      <td>0</td>\n",
       "      <td>0</td>\n",
       "      <td>116</td>\n",
       "      <td>2.2</td>\n",
       "      <td>619.777778</td>\n",
       "      <td>208</td>\n",
       "      <td>44</td>\n",
       "      <td>8.333333</td>\n",
       "      <td>0.216639</td>\n",
       "      <td>0.222222</td>\n",
       "      <td>0.222222</td>\n",
       "      <td>112</td>\n",
       "      <td>10</td>\n",
       "      <td>0</td>\n",
       "      <td>0</td>\n",
       "      <td>1</td>\n",
       "      <td>0</td>\n",
       "      <td>0</td>\n",
       "    </tr>\n",
       "    <tr>\n",
       "      <th>1</th>\n",
       "      <td>8</td>\n",
       "      <td>0</td>\n",
       "      <td>0</td>\n",
       "      <td>116</td>\n",
       "      <td>2.2</td>\n",
       "      <td>619.777778</td>\n",
       "      <td>208</td>\n",
       "      <td>44</td>\n",
       "      <td>8.333333</td>\n",
       "      <td>0.216639</td>\n",
       "      <td>0.222222</td>\n",
       "      <td>0.222222</td>\n",
       "      <td>112</td>\n",
       "      <td>10</td>\n",
       "      <td>0</td>\n",
       "      <td>0</td>\n",
       "      <td>1</td>\n",
       "      <td>0</td>\n",
       "      <td>0</td>\n",
       "    </tr>\n",
       "    <tr>\n",
       "      <th>2</th>\n",
       "      <td>8</td>\n",
       "      <td>0</td>\n",
       "      <td>0</td>\n",
       "      <td>116</td>\n",
       "      <td>2.2</td>\n",
       "      <td>619.777778</td>\n",
       "      <td>208</td>\n",
       "      <td>44</td>\n",
       "      <td>8.333333</td>\n",
       "      <td>0.216639</td>\n",
       "      <td>0.222222</td>\n",
       "      <td>0.222222</td>\n",
       "      <td>112</td>\n",
       "      <td>10</td>\n",
       "      <td>0</td>\n",
       "      <td>0</td>\n",
       "      <td>1</td>\n",
       "      <td>0</td>\n",
       "      <td>0</td>\n",
       "    </tr>\n",
       "    <tr>\n",
       "      <th>3</th>\n",
       "      <td>56</td>\n",
       "      <td>0</td>\n",
       "      <td>0</td>\n",
       "      <td>115</td>\n",
       "      <td>205.0</td>\n",
       "      <td>656.444444</td>\n",
       "      <td>0</td>\n",
       "      <td>526</td>\n",
       "      <td>42.555556</td>\n",
       "      <td>50.096710</td>\n",
       "      <td>-104.622222</td>\n",
       "      <td>14.088889</td>\n",
       "      <td>22</td>\n",
       "      <td>53</td>\n",
       "      <td>0</td>\n",
       "      <td>0</td>\n",
       "      <td>1</td>\n",
       "      <td>0</td>\n",
       "      <td>0</td>\n",
       "    </tr>\n",
       "    <tr>\n",
       "      <th>4</th>\n",
       "      <td>56</td>\n",
       "      <td>0</td>\n",
       "      <td>0</td>\n",
       "      <td>115</td>\n",
       "      <td>163.4</td>\n",
       "      <td>656.444444</td>\n",
       "      <td>0</td>\n",
       "      <td>536</td>\n",
       "      <td>46.555556</td>\n",
       "      <td>50.096710</td>\n",
       "      <td>-77.883333</td>\n",
       "      <td>12.116667</td>\n",
       "      <td>22</td>\n",
       "      <td>53</td>\n",
       "      <td>0</td>\n",
       "      <td>0</td>\n",
       "      <td>1</td>\n",
       "      <td>0</td>\n",
       "      <td>0</td>\n",
       "    </tr>\n",
       "  </tbody>\n",
       "</table>\n",
       "</div>"
      ],
      "text/plain": [
       "   NUM_ACT_WORKFLOW_RULES_MEAN  ACT_SELF_SVC_USERS_NUM_AVG  SERVICE_LIC  \\\n",
       "0                            8                           0            0   \n",
       "1                            8                           0            0   \n",
       "2                            8                           0            0   \n",
       "3                           56                           0            0   \n",
       "4                           56                           0            0   \n",
       "\n",
       "   ACCOUNT_AGE_YEARS  ACT_CHATR_USR_NUM_S  NON_PORTAL_LICENSES_MEAN  \\\n",
       "0                116                  2.2                619.777778   \n",
       "1                116                  2.2                619.777778   \n",
       "2                116                  2.2                619.777778   \n",
       "3                115                205.0                656.444444   \n",
       "4                115                163.4                656.444444   \n",
       "\n",
       "   SALES_LIC  ACT_CHATR_USR_NUM_MEAN  NON_PORTAL_USERS_MEAN      AOV_D  \\\n",
       "0        208                      44               8.333333   0.216639   \n",
       "1        208                      44               8.333333   0.216639   \n",
       "2        208                      44               8.333333   0.216639   \n",
       "3          0                     526              42.555556  50.096710   \n",
       "4          0                     536              46.555556  50.096710   \n",
       "\n",
       "   NP_LICENSES_S  NON_PORTAL_USERS_S  LCK_EMP_CNT_MEAN  NUM_DASHBOARDS_MEAN  \\\n",
       "0       0.222222            0.222222               112                   10   \n",
       "1       0.222222            0.222222               112                   10   \n",
       "2       0.222222            0.222222               112                   10   \n",
       "3    -104.622222           14.088889                22                   53   \n",
       "4     -77.883333           12.116667                22                   53   \n",
       "\n",
       "   CASES_NUM_AVG  AOVBAND=200-600K  AOVBAND=50-200K  AOVBAND=More than 600K  \\\n",
       "0              0                 0                1                       0   \n",
       "1              0                 0                1                       0   \n",
       "2              0                 0                1                       0   \n",
       "3              0                 0                1                       0   \n",
       "4              0                 0                1                       0   \n",
       "\n",
       "   label  \n",
       "0      0  \n",
       "1      0  \n",
       "2      0  \n",
       "3      0  \n",
       "4      0  "
      ]
     },
     "execution_count": 16,
     "metadata": {},
     "output_type": "execute_result"
    }
   ],
   "source": [
    "# copy training data as syn version\n",
    "\n",
    "train_data = train_data_syn\n",
    "model_var_list = train_data.columns.tolist()\n",
    "\n",
    "print \"Synthetic training data for modeling: %d / %d\" % (train_data.shape[0], train_data.shape[1])\n",
    "print \"Positives vs. Negatives: %d (%.2f%%) vs. %d\" % (sum(train_data['label'] == 1), \n",
    "                                                       100 * float(sum(train_data['label'] == 1)) / float(len(train_data['label'])),\n",
    "                                                       sum(train_data['label'] == 0))\n",
    "train_data.head()"
   ]
  },
  {
   "cell_type": "code",
   "execution_count": 17,
   "metadata": {
    "collapsed": false
   },
   "outputs": [
    {
     "name": "stdout",
     "output_type": "stream",
     "text": [
      "Calibrate PTB model on training data\n",
      "Fill up NA entries with: 0.000000\n",
      "Parameters for model calibration:"
     ]
    },
    {
     "data": {
      "text/html": [
       "<pre>Boosted trees classifier:</pre>"
      ],
      "text/plain": [
       "Boosted trees classifier:"
      ]
     },
     "metadata": {},
     "output_type": "display_data"
    },
    {
     "data": {
      "text/html": [
       "<pre>--------------------------------------------------------</pre>"
      ],
      "text/plain": [
       "--------------------------------------------------------"
      ]
     },
     "metadata": {},
     "output_type": "display_data"
    },
    {
     "data": {
      "text/html": [
       "<pre>Number of examples          : 233725</pre>"
      ],
      "text/plain": [
       "Number of examples          : 233725"
      ]
     },
     "metadata": {},
     "output_type": "display_data"
    },
    {
     "data": {
      "text/html": [
       "<pre>Number of classes           : 2</pre>"
      ],
      "text/plain": [
       "Number of classes           : 2"
      ]
     },
     "metadata": {},
     "output_type": "display_data"
    },
    {
     "data": {
      "text/html": [
       "<pre>Number of feature columns   : 18</pre>"
      ],
      "text/plain": [
       "Number of feature columns   : 18"
      ]
     },
     "metadata": {},
     "output_type": "display_data"
    },
    {
     "data": {
      "text/html": [
       "<pre>Number of unpacked features : 18</pre>"
      ],
      "text/plain": [
       "Number of unpacked features : 18"
      ]
     },
     "metadata": {},
     "output_type": "display_data"
    },
    {
     "data": {
      "text/html": [
       "<pre>+-----------+--------------+-------------------+-------------------+</pre>"
      ],
      "text/plain": [
       "+-----------+--------------+-------------------+-------------------+"
      ]
     },
     "metadata": {},
     "output_type": "display_data"
    },
    {
     "data": {
      "text/html": [
       "<pre>| Iteration | Elapsed Time | Training-accuracy | Training-log_loss |</pre>"
      ],
      "text/plain": [
       "| Iteration | Elapsed Time | Training-accuracy | Training-log_loss |"
      ]
     },
     "metadata": {},
     "output_type": "display_data"
    },
    {
     "data": {
      "text/html": [
       "<pre>+-----------+--------------+-------------------+-------------------+</pre>"
      ],
      "text/plain": [
       "+-----------+--------------+-------------------+-------------------+"
      ]
     },
     "metadata": {},
     "output_type": "display_data"
    },
    {
     "data": {
      "text/html": [
       "<pre>| 1         | 0.160623     | 0.958272          | 0.471298          |</pre>"
      ],
      "text/plain": [
       "| 1         | 0.160623     | 0.958272          | 0.471298          |"
      ]
     },
     "metadata": {},
     "output_type": "display_data"
    },
    {
     "data": {
      "text/html": [
       "<pre>| 2         | 0.308682     | 0.961433          | 0.348430          |</pre>"
      ],
      "text/plain": [
       "| 2         | 0.308682     | 0.961433          | 0.348430          |"
      ]
     },
     "metadata": {},
     "output_type": "display_data"
    },
    {
     "data": {
      "text/html": [
       "<pre>| 3         | 0.462219     | 0.963363          | 0.270317          |</pre>"
      ],
      "text/plain": [
       "| 3         | 0.462219     | 0.963363          | 0.270317          |"
      ]
     },
     "metadata": {},
     "output_type": "display_data"
    },
    {
     "data": {
      "text/html": [
       "<pre>| 4         | 0.616950     | 0.964142          | 0.217803          |</pre>"
      ],
      "text/plain": [
       "| 4         | 0.616950     | 0.964142          | 0.217803          |"
      ]
     },
     "metadata": {},
     "output_type": "display_data"
    },
    {
     "data": {
      "text/html": [
       "<pre>| 5         | 0.763153     | 0.964702          | 0.182284          |</pre>"
      ],
      "text/plain": [
       "| 5         | 0.763153     | 0.964702          | 0.182284          |"
      ]
     },
     "metadata": {},
     "output_type": "display_data"
    },
    {
     "data": {
      "text/html": [
       "<pre>| 6         | 0.912028     | 0.966435          | 0.153234          |</pre>"
      ],
      "text/plain": [
       "| 6         | 0.912028     | 0.966435          | 0.153234          |"
      ]
     },
     "metadata": {},
     "output_type": "display_data"
    },
    {
     "data": {
      "text/html": [
       "<pre>| 10        | 1.516245     | 0.973974          | 0.095577          |</pre>"
      ],
      "text/plain": [
       "| 10        | 1.516245     | 0.973974          | 0.095577          |"
      ]
     },
     "metadata": {},
     "output_type": "display_data"
    },
    {
     "data": {
      "text/html": [
       "<pre>+-----------+--------------+-------------------+-------------------+</pre>"
      ],
      "text/plain": [
       "+-----------+--------------+-------------------+-------------------+"
      ]
     },
     "metadata": {},
     "output_type": "display_data"
    },
    {
     "name": "stdout",
     "output_type": "stream",
     "text": [
      "\n",
      "{'validation_set': None, 'class_weights': None, 'verbose': True, 'max_depth': 6, 'max_iterations': 10}\n",
      "\n",
      "\n",
      "Model calibration is done in 3.610035 sec\n"
     ]
    }
   ],
   "source": [
    "# build ptb model\n",
    "\n",
    "print \"Calibrate PTB model on training data\"\n",
    "\n",
    "na_val = 0\n",
    "print \"Fill up NA entries with: %f\" % na_val\n",
    "train_data.fillna(value = na_val, inplace = True)\n",
    "\n",
    "model_config = dict(\n",
    "    max_iterations = 10, \n",
    "    max_depth = 6, \n",
    "    validation_set = None, # None / 'auto'\n",
    "    class_weights = None, #'auto', #{1: 1.0 / (float(len(train_data[train_data['label'] == 1])) / float(len(train_data))), \n",
    "                     # 0: 1.0 / (float(len(train_data[train_data['label'] != 1])) / float(len(train_data)))}\n",
    "    verbose = True, \n",
    ")\n",
    "print \"Parameters for model calibration:\"\n",
    "print model_config\n",
    "print \"\\n\"\n",
    "\n",
    "ptm_process = time.time()\n",
    "\n",
    "# boosted trees\n",
    "ptb_model = gl.boosted_trees_classifier.create(dataset = SFrame(train_data), target = 'label',\n",
    "                                               max_iterations = model_config['max_iterations'],\n",
    "                                               validation_set = model_config['validation_set'],\n",
    "                                               class_weights = model_config['class_weights'],\n",
    "                                               max_depth = model_config['max_depth'],\n",
    "                                               verbose = model_config['verbose'])\n",
    "\n",
    "# random forest\n",
    "# ptb_model = gl.random_forest_classifier.create(dataset = SFrame(train_data), target = 'label',\n",
    "#                                                validation_set = model_config['validation_set'],\n",
    "#                                                class_weights = model_config['class_weights'],\n",
    "#                                                num_trees = 50,\n",
    "#                                                max_depth = model_config['max_depth'],\n",
    "#                                                verbose = model_config['verbose'])\n",
    "\n",
    "print \"Model calibration is done in %f sec\" % (time.time() - ptm_process)"
   ]
  },
  {
   "cell_type": "code",
   "execution_count": 18,
   "metadata": {
    "collapsed": false,
    "scrolled": false
   },
   "outputs": [
    {
     "name": "stdout",
     "output_type": "stream",
     "text": [
      "Get variable importance from model\n",
      "Num. unique variables: 18\n",
      "Num. total variables: 18\n"
     ]
    },
    {
     "data": {
      "text/plain": [
       "<matplotlib.text.Text at 0x11593bb50>"
      ]
     },
     "execution_count": 18,
     "metadata": {},
     "output_type": "execute_result"
    },
    {
     "data": {
      "image/png": "[encoded data removed]",
      "text/plain": [
       "<matplotlib.figure.Figure at 0x11881b810>"
      ]
     },
     "metadata": {},
     "output_type": "display_data"
    }
   ],
   "source": [
    "# feature importance\n",
    "\n",
    "print \"Get variable importance from model\"\n",
    "\n",
    "var_importance = ptb_model.get_feature_importance().to_dataframe()\n",
    "print \"Num. unique variables: %d\" % len(pd.unique(var_importance['name']))\n",
    "print \"Num. total variables: %d\" % len(var_importance['name'])\n",
    "var_importance.sort_values(by = 'count', ascending = True, inplace = True)\n",
    "\n",
    "var_importance['name[value]'] = var_importance.apply(lambda x: '%s[%s]' % (x['name'], x['index']), axis = 1)\n",
    "var_importance['norm_count'] = var_importance['count'].map(lambda x: float(x) / max(var_importance['count']))\n",
    "var_plt = var_importance.plot(x = 'name[value]', y = 'norm_count', kind = 'barh', figsize = (7, 10))\n",
    "var_plt.legend(loc = 'lower right')\n",
    "title('Variable Importance\\n', fontsize = 15)"
   ]
  },
  {
   "cell_type": "code",
   "execution_count": 19,
   "metadata": {
    "collapsed": true
   },
   "outputs": [],
   "source": [
    "# new \"classify\" function\n",
    "\n",
    "def ptb_classify(dataset, model):\n",
    "    preds = model.classify(dataset = SFrame(dataset))\n",
    "    preds = preds.to_dataframe()\n",
    "    preds['proba'] = np.where(preds['class'] == 1, preds['probability'], 1 - preds['probability'])\n",
    "    return preds"
   ]
  },
  {
   "cell_type": "markdown",
   "metadata": {},
   "source": [
    "## Bucketing Model Calibration"
   ]
  },
  {
   "cell_type": "code",
   "execution_count": 20,
   "metadata": {
    "collapsed": false
   },
   "outputs": [],
   "source": [
    "# quantile regression calibration\n",
    "\n",
    "def quantile_xy_line(y_prob, y_label):\n",
    "    quant_step = 0.005\n",
    "    quants = y_prob.quantile(np.arange(0, 1, quant_step)).values\n",
    "    # quants = quants[1:] # remove quantile 0\n",
    "\n",
    "    xline = quants\n",
    "    yline = [0] * len(xline)\n",
    "\n",
    "    quants = np.append(quants, 1.0)\n",
    "    for i in range(len(quants) - 1):\n",
    "        i_window = y_label[(y_prob > quants[i]) & (y_prob <= quants[i+1])]\n",
    "        i_pos = sum(i_window > 0)\n",
    "        if i_pos > 0:\n",
    "            i_tot = len(i_window)\n",
    "            yline[i] = float(i_pos) / float(i_tot)\n",
    "    return dict(xline = xline, yline = yline)\n",
    "\n",
    "def polynomial_sframe(feature, degree):\n",
    "    poly_sframe = SFrame()\n",
    "    poly_sframe['power_1'] = feature\n",
    "    if degree > 1:\n",
    "        for power in range(2, degree+1): \n",
    "            name = 'power_' + str(power)\n",
    "            poly_sframe[name] = feature.apply(lambda x: x**power)\n",
    "    return poly_sframe\n",
    "\n",
    "def quant_bucket_model(y_prob, y_label):\n",
    "    quant_xy_line = quantile_xy_line(y_prob, y_label)\n",
    "    xline = quant_xy_line['xline']\n",
    "    yline = quant_xy_line['yline']\n",
    "        \n",
    "    # nonlinear regression via linear regression\n",
    "    poly_data = polynomial_sframe(feature = SArray(xline), degree = 3)\n",
    "    poly_data['y'] = yline\n",
    "    bucket_model = gl.linear_regression.create(dataset = poly_data, target = 'y', \n",
    "                                               validation_set = None, verbose = True)\n",
    "    \n",
    "    # validate model on training data\n",
    "#     plt.figure(1)\n",
    "#     plt.plot(xline, yline, 'ro', xline, bucket_model.predict(poly_data).to_numpy(), 'b-')\n",
    "#     plt.title('xline vs. yline')\n",
    "    \n",
    "#     plt.figure(2)\n",
    "#     plt.plot(y_prob, bucket_model.predict(polynomial_sframe(feature = SArray(y_prob), degree = 3)).to_numpy(), 'ro')\n",
    "#     plt.title('y_prob vs. model_predict')\n",
    "    \n",
    "    return bucket_model\n",
    "\n",
    "def prob_bucket_by_quant(proba, bucket_model):\n",
    "    poly_data = polynomial_sframe(feature = SArray(proba.values), degree = 3)\n",
    "    bucket_proba = bucket_model.predict(poly_data).to_numpy()\n",
    "    bucket_proba[bucket_proba < 0] = 0.0\n",
    "    bucket_proba[bucket_proba > 1] = 1.0\n",
    "    return bucket_proba"
   ]
  },
  {
   "cell_type": "code",
   "execution_count": 21,
   "metadata": {
    "collapsed": false
   },
   "outputs": [
    {
     "data": {
      "text/html": [
       "<pre>Linear regression:</pre>"
      ],
      "text/plain": [
       "Linear regression:"
      ]
     },
     "metadata": {},
     "output_type": "display_data"
    },
    {
     "data": {
      "text/html": [
       "<pre>--------------------------------------------------------</pre>"
      ],
      "text/plain": [
       "--------------------------------------------------------"
      ]
     },
     "metadata": {},
     "output_type": "display_data"
    },
    {
     "data": {
      "text/html": [
       "<pre>Number of examples          : 200</pre>"
      ],
      "text/plain": [
       "Number of examples          : 200"
      ]
     },
     "metadata": {},
     "output_type": "display_data"
    },
    {
     "data": {
      "text/html": [
       "<pre>Number of features          : 3</pre>"
      ],
      "text/plain": [
       "Number of features          : 3"
      ]
     },
     "metadata": {},
     "output_type": "display_data"
    },
    {
     "data": {
      "text/html": [
       "<pre>Number of unpacked features : 3</pre>"
      ],
      "text/plain": [
       "Number of unpacked features : 3"
      ]
     },
     "metadata": {},
     "output_type": "display_data"
    },
    {
     "data": {
      "text/html": [
       "<pre>Number of coefficients    : 4</pre>"
      ],
      "text/plain": [
       "Number of coefficients    : 4"
      ]
     },
     "metadata": {},
     "output_type": "display_data"
    },
    {
     "data": {
      "text/html": [
       "<pre>Starting Newton Method</pre>"
      ],
      "text/plain": [
       "Starting Newton Method"
      ]
     },
     "metadata": {},
     "output_type": "display_data"
    },
    {
     "data": {
      "text/html": [
       "<pre>| Iteration | Passes   | Elapsed Time | Training-max_error | Training-rmse |</pre>"
      ],
      "text/plain": [
       "| Iteration | Passes   | Elapsed Time | Training-max_error | Training-rmse |"
      ]
     },
     "metadata": {},
     "output_type": "display_data"
    },
    {
     "data": {
      "text/html": [
       "<pre>+-----------+----------+--------------+--------------------+---------------+</pre>"
      ],
      "text/plain": [
       "+-----------+----------+--------------+--------------------+---------------+"
      ]
     },
     "metadata": {},
     "output_type": "display_data"
    },
    {
     "data": {
      "text/html": [
       "<pre>| 1         | 2        | 0.001509     | 0.647990           | 0.246496      |</pre>"
      ],
      "text/plain": [
       "| 1         | 2        | 0.001509     | 0.647990           | 0.246496      |"
      ]
     },
     "metadata": {},
     "output_type": "display_data"
    },
    {
     "data": {
      "text/html": [
       "<pre>+-----------+----------+--------------+--------------------+---------------+</pre>"
      ],
      "text/plain": [
       "+-----------+----------+--------------+--------------------+---------------+"
      ]
     },
     "metadata": {},
     "output_type": "display_data"
    }
   ],
   "source": [
    "# calibrate new regression model for bucketing\n",
    "\n",
    "print \"Calibrate Bucket model on training data\"\n",
    "\n",
    "train_preds = ptb_classify(dataset = train_data, model = ptb_model)\n",
    "train_preds['true_class'] = train_data['label']\n",
    "\n",
    "bucket_model = quant_bucket_model(y_prob = train_preds['proba'], y_label = train_preds['true_class'])"
   ]
  },
  {
   "cell_type": "markdown",
   "metadata": {},
   "source": [
    "## Model Deployment"
   ]
  },
  {
   "cell_type": "code",
   "execution_count": 22,
   "metadata": {
    "collapsed": false
   },
   "outputs": [
    {
     "data": {
      "text/html": [
       "<pre>SUCCESS: Optimal solution found.</pre>"
      ],
      "text/plain": [
       "SUCCESS: Optimal solution found."
      ]
     },
     "metadata": {},
     "output_type": "display_data"
    },
    {
     "data": {
      "text/html": [
       "<pre></pre>"
      ],
      "text/plain": []
     },
     "metadata": {},
     "output_type": "display_data"
    },
    {
     "name": "stdout",
     "output_type": "stream",
     "text": [
      "Deploy PTB model by 'Pickle-To-File' to: model/customer_com_ptb.model\n",
      "Deploy Bucket model by 'Pickle-To-File' to: model/customer_com_bucket.model\n"
     ]
    }
   ],
   "source": [
    "# deploy model\n",
    "\n",
    "model_fn = glb_config['model_dir'] + \"/\" + glb_config['model_type'] + '_' + glb_config['model_fn']\n",
    "print \"Deploy PTB model by 'Pickle-To-File' to: %s\" % model_fn\n",
    "ptb_model.save(model_fn)\n",
    "\n",
    "bucket_fn = glb_config['model_dir'] + \"/\" + glb_config['model_type'] + '_' + glb_config['bucket_fn']\n",
    "print \"Deploy Bucket model by 'Pickle-To-File' to: %s\" % bucket_fn\n",
    "bucket_model.save(bucket_fn)"
   ]
  },
  {
   "cell_type": "markdown",
   "metadata": {},
   "source": [
    "## Model Validation"
   ]
  },
  {
   "cell_type": "code",
   "execution_count": 23,
   "metadata": {
    "collapsed": false
   },
   "outputs": [
    {
     "name": "stdout",
     "output_type": "stream",
     "text": [
      "Validate PTB model on validation data\n",
      "Load PTB model from: model/customer_com_ptb.model\n",
      "Load valid data from: data/PROPENSITY_COMMUNITIES_TEST_C.tsv\n",
      "Valid data loaded: 44835 / 38\n",
      "\n",
      "Column 'CUSTOMERFLAG' used for label\n",
      "\n"
     ]
    },
    {
     "data": {
      "text/html": [
       "<div>\n",
       "<table border=\"1\" class=\"dataframe\">\n",
       "  <thead>\n",
       "    <tr style=\"text-align: right;\">\n",
       "      <th></th>\n",
       "      <th>ACCOUNT_ID</th>\n",
       "      <th>AOVBAND</th>\n",
       "      <th>TARGET_MONTH</th>\n",
       "      <th>ORGTYPE</th>\n",
       "      <th>ACCOUNT_AGE_YEARS</th>\n",
       "      <th>SNAP_MONTH_CODE</th>\n",
       "      <th>NON_PORTAL_LICENSES_MEAN</th>\n",
       "      <th>NP_LICENSES_S</th>\n",
       "      <th>NON_PORTAL_USERS_MEAN</th>\n",
       "      <th>NON_PORTAL_USERS_S</th>\n",
       "      <th>NUM_ACT_WORKFLOW_RULES_MEAN</th>\n",
       "      <th>NUM_ACT_WORKFLOW_RULES_S</th>\n",
       "      <th>NUM_DASHBOARDS_MEAN</th>\n",
       "      <th>NUM_DASHBOARDS_S</th>\n",
       "      <th>LCK_EMP_CNT_MEAN</th>\n",
       "      <th>ACT_CHATR_USR_NUM_MEAN</th>\n",
       "      <th>ACT_CHATR_USR_NUM_S</th>\n",
       "      <th>PCT_CHATR_CONTRIB_MEAN</th>\n",
       "      <th>CRUDS_NPUSER</th>\n",
       "      <th>REPORTS_NUM_MEAN</th>\n",
       "      <th>REPORTS_NUM_S</th>\n",
       "      <th>AOV</th>\n",
       "      <th>AOV_D</th>\n",
       "      <th>FTM_OP_TOTAL</th>\n",
       "      <th>TTM_TOTAL_PG</th>\n",
       "      <th>TTM_TOTAL_ACV</th>\n",
       "      <th>PAYDEX</th>\n",
       "      <th>RED_FLAG</th>\n",
       "      <th>SALES_LIC</th>\n",
       "      <th>SERVICE_LIC</th>\n",
       "      <th>PLAT_LIC</th>\n",
       "      <th>TOTAL_LIC</th>\n",
       "      <th>ACT_SELF_SVC_USERS_NUM_AVG</th>\n",
       "      <th>CASES_NUM_AVG</th>\n",
       "      <th>INDUSTRY_NM</th>\n",
       "      <th>FLAG</th>\n",
       "      <th>label</th>\n",
       "    </tr>\n",
       "  </thead>\n",
       "  <tbody>\n",
       "    <tr>\n",
       "      <th>0</th>\n",
       "      <td>0013000001CBpgh</td>\n",
       "      <td>50-200K</td>\n",
       "      <td>74</td>\n",
       "      <td>2</td>\n",
       "      <td>116</td>\n",
       "      <td>74</td>\n",
       "      <td>583.600000</td>\n",
       "      <td>0.150000</td>\n",
       "      <td>22.900000</td>\n",
       "      <td>1.030000</td>\n",
       "      <td>81</td>\n",
       "      <td>6.6</td>\n",
       "      <td>14</td>\n",
       "      <td>0.0</td>\n",
       "      <td>420</td>\n",
       "      <td>300</td>\n",
       "      <td>10.3</td>\n",
       "      <td>1</td>\n",
       "      <td>0</td>\n",
       "      <td>-999</td>\n",
       "      <td>0</td>\n",
       "      <td>193488.33600</td>\n",
       "      <td>0.018962</td>\n",
       "      <td>0</td>\n",
       "      <td>0</td>\n",
       "      <td>0</td>\n",
       "      <td>0</td>\n",
       "      <td>0</td>\n",
       "      <td>0</td>\n",
       "      <td>0</td>\n",
       "      <td>0</td>\n",
       "      <td>0</td>\n",
       "      <td>0</td>\n",
       "      <td>2784</td>\n",
       "      <td>-</td>\n",
       "      <td>0</td>\n",
       "      <td>0</td>\n",
       "    </tr>\n",
       "    <tr>\n",
       "      <th>1</th>\n",
       "      <td>0013000001CDAIV</td>\n",
       "      <td>50-200K</td>\n",
       "      <td>74</td>\n",
       "      <td>6</td>\n",
       "      <td>116</td>\n",
       "      <td>74</td>\n",
       "      <td>721.125000</td>\n",
       "      <td>0.562500</td>\n",
       "      <td>36.500000</td>\n",
       "      <td>0.950000</td>\n",
       "      <td>65</td>\n",
       "      <td>-0.3</td>\n",
       "      <td>87</td>\n",
       "      <td>1.0</td>\n",
       "      <td>30000</td>\n",
       "      <td>302</td>\n",
       "      <td>6.7</td>\n",
       "      <td>1</td>\n",
       "      <td>0</td>\n",
       "      <td>-999</td>\n",
       "      <td>0</td>\n",
       "      <td>133188.00744</td>\n",
       "      <td>0.200671</td>\n",
       "      <td>0</td>\n",
       "      <td>0</td>\n",
       "      <td>0</td>\n",
       "      <td>0</td>\n",
       "      <td>0</td>\n",
       "      <td>0</td>\n",
       "      <td>0</td>\n",
       "      <td>0</td>\n",
       "      <td>0</td>\n",
       "      <td>0</td>\n",
       "      <td>1</td>\n",
       "      <td>-</td>\n",
       "      <td>0</td>\n",
       "      <td>0</td>\n",
       "    </tr>\n",
       "    <tr>\n",
       "      <th>2</th>\n",
       "      <td>0013000000M2mxy</td>\n",
       "      <td>More than 600K</td>\n",
       "      <td>74</td>\n",
       "      <td>6</td>\n",
       "      <td>116</td>\n",
       "      <td>74</td>\n",
       "      <td>86721.214286</td>\n",
       "      <td>-663.668681</td>\n",
       "      <td>18213.928571</td>\n",
       "      <td>4105.331868</td>\n",
       "      <td>514</td>\n",
       "      <td>5.7</td>\n",
       "      <td>5235</td>\n",
       "      <td>90.9</td>\n",
       "      <td>6900</td>\n",
       "      <td>22265</td>\n",
       "      <td>104.2</td>\n",
       "      <td>1</td>\n",
       "      <td>0</td>\n",
       "      <td>-999</td>\n",
       "      <td>0</td>\n",
       "      <td>4454169.23400</td>\n",
       "      <td>0.015558</td>\n",
       "      <td>0</td>\n",
       "      <td>0</td>\n",
       "      <td>0</td>\n",
       "      <td>0</td>\n",
       "      <td>0</td>\n",
       "      <td>0</td>\n",
       "      <td>0</td>\n",
       "      <td>0</td>\n",
       "      <td>0</td>\n",
       "      <td>0</td>\n",
       "      <td>75558</td>\n",
       "      <td>-</td>\n",
       "      <td>0</td>\n",
       "      <td>0</td>\n",
       "    </tr>\n",
       "    <tr>\n",
       "      <th>3</th>\n",
       "      <td>00130000002wOJS</td>\n",
       "      <td>50-200K</td>\n",
       "      <td>74</td>\n",
       "      <td>2</td>\n",
       "      <td>116</td>\n",
       "      <td>74</td>\n",
       "      <td>701.875000</td>\n",
       "      <td>0.225000</td>\n",
       "      <td>11.375000</td>\n",
       "      <td>-0.037500</td>\n",
       "      <td>149</td>\n",
       "      <td>15.5</td>\n",
       "      <td>55</td>\n",
       "      <td>3.1</td>\n",
       "      <td>75</td>\n",
       "      <td>193</td>\n",
       "      <td>1.5</td>\n",
       "      <td>1</td>\n",
       "      <td>0</td>\n",
       "      <td>-999</td>\n",
       "      <td>0</td>\n",
       "      <td>71266.20000</td>\n",
       "      <td>0.008354</td>\n",
       "      <td>0</td>\n",
       "      <td>0</td>\n",
       "      <td>0</td>\n",
       "      <td>0</td>\n",
       "      <td>0</td>\n",
       "      <td>0</td>\n",
       "      <td>0</td>\n",
       "      <td>0</td>\n",
       "      <td>0</td>\n",
       "      <td>578</td>\n",
       "      <td>50461</td>\n",
       "      <td>-</td>\n",
       "      <td>0</td>\n",
       "      <td>0</td>\n",
       "    </tr>\n",
       "    <tr>\n",
       "      <th>4</th>\n",
       "      <td>0013000000NPlUs</td>\n",
       "      <td>50-200K</td>\n",
       "      <td>74</td>\n",
       "      <td>2</td>\n",
       "      <td>116</td>\n",
       "      <td>74</td>\n",
       "      <td>655.222222</td>\n",
       "      <td>0.000000</td>\n",
       "      <td>34.444444</td>\n",
       "      <td>-0.033333</td>\n",
       "      <td>NaN</td>\n",
       "      <td>NaN</td>\n",
       "      <td>61</td>\n",
       "      <td>4.5</td>\n",
       "      <td>1100</td>\n",
       "      <td>534</td>\n",
       "      <td>3.3</td>\n",
       "      <td>1</td>\n",
       "      <td>0</td>\n",
       "      <td>-999</td>\n",
       "      <td>0</td>\n",
       "      <td>103500.00000</td>\n",
       "      <td>0.000000</td>\n",
       "      <td>0</td>\n",
       "      <td>0</td>\n",
       "      <td>0</td>\n",
       "      <td>0</td>\n",
       "      <td>0</td>\n",
       "      <td>0</td>\n",
       "      <td>0</td>\n",
       "      <td>0</td>\n",
       "      <td>0</td>\n",
       "      <td>0</td>\n",
       "      <td>0</td>\n",
       "      <td>-</td>\n",
       "      <td>0</td>\n",
       "      <td>0</td>\n",
       "    </tr>\n",
       "  </tbody>\n",
       "</table>\n",
       "</div>"
      ],
      "text/plain": [
       "        ACCOUNT_ID         AOVBAND  TARGET_MONTH  ORGTYPE  ACCOUNT_AGE_YEARS  \\\n",
       "0  0013000001CBpgh         50-200K            74        2                116   \n",
       "1  0013000001CDAIV         50-200K            74        6                116   \n",
       "2  0013000000M2mxy  More than 600K            74        6                116   \n",
       "3  00130000002wOJS         50-200K            74        2                116   \n",
       "4  0013000000NPlUs         50-200K            74        2                116   \n",
       "\n",
       "   SNAP_MONTH_CODE  NON_PORTAL_LICENSES_MEAN  NP_LICENSES_S  \\\n",
       "0               74                583.600000       0.150000   \n",
       "1               74                721.125000       0.562500   \n",
       "2               74              86721.214286    -663.668681   \n",
       "3               74                701.875000       0.225000   \n",
       "4               74                655.222222       0.000000   \n",
       "\n",
       "   NON_PORTAL_USERS_MEAN  NON_PORTAL_USERS_S  NUM_ACT_WORKFLOW_RULES_MEAN  \\\n",
       "0              22.900000            1.030000                           81   \n",
       "1              36.500000            0.950000                           65   \n",
       "2           18213.928571         4105.331868                          514   \n",
       "3              11.375000           -0.037500                          149   \n",
       "4              34.444444           -0.033333                          NaN   \n",
       "\n",
       "   NUM_ACT_WORKFLOW_RULES_S  NUM_DASHBOARDS_MEAN  NUM_DASHBOARDS_S  \\\n",
       "0                       6.6                   14               0.0   \n",
       "1                      -0.3                   87               1.0   \n",
       "2                       5.7                 5235              90.9   \n",
       "3                      15.5                   55               3.1   \n",
       "4                       NaN                   61               4.5   \n",
       "\n",
       "   LCK_EMP_CNT_MEAN  ACT_CHATR_USR_NUM_MEAN  ACT_CHATR_USR_NUM_S  \\\n",
       "0               420                     300                 10.3   \n",
       "1             30000                     302                  6.7   \n",
       "2              6900                   22265                104.2   \n",
       "3                75                     193                  1.5   \n",
       "4              1100                     534                  3.3   \n",
       "\n",
       "   PCT_CHATR_CONTRIB_MEAN  CRUDS_NPUSER  REPORTS_NUM_MEAN  REPORTS_NUM_S  \\\n",
       "0                       1             0              -999              0   \n",
       "1                       1             0              -999              0   \n",
       "2                       1             0              -999              0   \n",
       "3                       1             0              -999              0   \n",
       "4                       1             0              -999              0   \n",
       "\n",
       "             AOV     AOV_D  FTM_OP_TOTAL  TTM_TOTAL_PG  TTM_TOTAL_ACV  PAYDEX  \\\n",
       "0   193488.33600  0.018962             0             0              0       0   \n",
       "1   133188.00744  0.200671             0             0              0       0   \n",
       "2  4454169.23400  0.015558             0             0              0       0   \n",
       "3    71266.20000  0.008354             0             0              0       0   \n",
       "4   103500.00000  0.000000             0             0              0       0   \n",
       "\n",
       "   RED_FLAG  SALES_LIC  SERVICE_LIC  PLAT_LIC  TOTAL_LIC  \\\n",
       "0         0          0            0         0          0   \n",
       "1         0          0            0         0          0   \n",
       "2         0          0            0         0          0   \n",
       "3         0          0            0         0          0   \n",
       "4         0          0            0         0          0   \n",
       "\n",
       "   ACT_SELF_SVC_USERS_NUM_AVG  CASES_NUM_AVG INDUSTRY_NM  FLAG  label  \n",
       "0                           0           2784           -     0      0  \n",
       "1                           0              1           -     0      0  \n",
       "2                           0          75558           -     0      0  \n",
       "3                         578          50461           -     0      0  \n",
       "4                           0              0           -     0      0  "
      ]
     },
     "execution_count": 23,
     "metadata": {},
     "output_type": "execute_result"
    }
   ],
   "source": [
    "# validate ptb model on validation data\n",
    "\n",
    "print \"Validate PTB model on validation data\"\n",
    "\n",
    "print \"Load PTB model from: %s\" % model_fn\n",
    "valid_ptb_model = gl.load_model(model_fn)\n",
    "\n",
    "valid_fn = glb_config['data_dir'] + '/' + glb_config['valid_fn_prefix'] + \".\" + glb_config['data_fn_postfix']\n",
    "print \"Load valid data from: %s\" % valid_fn\n",
    "valid_data = pd.read_csv(valid_fn, sep = glb_config['data_fn_sep'])\n",
    "print \"Valid data loaded: %d / %d\\n\" % (valid_data.shape[0], valid_data.shape[1])\n",
    "\n",
    "if glb_config['model_type'] == 'customer':\n",
    "    glb_config['label_field'] = 'CUSTOMERFLAG'\n",
    "    valid_data.drop('PARTNERFLAG', axis = 1, inplace = True)\n",
    "elif glb_config['model_type'] == 'partner':\n",
    "    glb_config['label_field'] = 'PARTNERFLAG'\n",
    "    valid_data.drop('CUSTOMERFLAG', axis = 1, inplace = True)\n",
    "else:\n",
    "    glb_config['label_field'] = ''\n",
    "    \n",
    "valid_data.rename(columns = {glb_config['label_field']: 'label'}, inplace = True)\n",
    "print \"Column '%s' used for label\\n\" % glb_config['label_field']\n",
    "\n",
    "valid_data.head()"
   ]
  },
  {
   "cell_type": "code",
   "execution_count": 24,
   "metadata": {
    "collapsed": false
   },
   "outputs": [
    {
     "name": "stdout",
     "output_type": "stream",
     "text": [
      "Vectorize categorical variables\n",
      "Vectorized training data for modeling: 44835 / 39\n",
      "Positives vs. Negatives: 255 (0.57%) vs. 44580\n"
     ]
    },
    {
     "data": {
      "text/html": [
       "<div>\n",
       "<table border=\"1\" class=\"dataframe\">\n",
       "  <thead>\n",
       "    <tr style=\"text-align: right;\">\n",
       "      <th></th>\n",
       "      <th>ACCOUNT_ID</th>\n",
       "      <th>TARGET_MONTH</th>\n",
       "      <th>ORGTYPE</th>\n",
       "      <th>ACCOUNT_AGE_YEARS</th>\n",
       "      <th>SNAP_MONTH_CODE</th>\n",
       "      <th>NON_PORTAL_LICENSES_MEAN</th>\n",
       "      <th>NP_LICENSES_S</th>\n",
       "      <th>NON_PORTAL_USERS_MEAN</th>\n",
       "      <th>NON_PORTAL_USERS_S</th>\n",
       "      <th>NUM_ACT_WORKFLOW_RULES_MEAN</th>\n",
       "      <th>NUM_ACT_WORKFLOW_RULES_S</th>\n",
       "      <th>NUM_DASHBOARDS_MEAN</th>\n",
       "      <th>NUM_DASHBOARDS_S</th>\n",
       "      <th>LCK_EMP_CNT_MEAN</th>\n",
       "      <th>ACT_CHATR_USR_NUM_MEAN</th>\n",
       "      <th>ACT_CHATR_USR_NUM_S</th>\n",
       "      <th>PCT_CHATR_CONTRIB_MEAN</th>\n",
       "      <th>CRUDS_NPUSER</th>\n",
       "      <th>REPORTS_NUM_MEAN</th>\n",
       "      <th>REPORTS_NUM_S</th>\n",
       "      <th>AOV</th>\n",
       "      <th>AOV_D</th>\n",
       "      <th>FTM_OP_TOTAL</th>\n",
       "      <th>TTM_TOTAL_PG</th>\n",
       "      <th>TTM_TOTAL_ACV</th>\n",
       "      <th>PAYDEX</th>\n",
       "      <th>RED_FLAG</th>\n",
       "      <th>SALES_LIC</th>\n",
       "      <th>SERVICE_LIC</th>\n",
       "      <th>PLAT_LIC</th>\n",
       "      <th>TOTAL_LIC</th>\n",
       "      <th>ACT_SELF_SVC_USERS_NUM_AVG</th>\n",
       "      <th>CASES_NUM_AVG</th>\n",
       "      <th>INDUSTRY_NM</th>\n",
       "      <th>FLAG</th>\n",
       "      <th>label</th>\n",
       "      <th>AOVBAND=200-600K</th>\n",
       "      <th>AOVBAND=50-200K</th>\n",
       "      <th>AOVBAND=More than 600K</th>\n",
       "    </tr>\n",
       "  </thead>\n",
       "  <tbody>\n",
       "    <tr>\n",
       "      <th>0</th>\n",
       "      <td>0013000001CBpgh</td>\n",
       "      <td>74</td>\n",
       "      <td>2</td>\n",
       "      <td>116</td>\n",
       "      <td>74</td>\n",
       "      <td>583.600000</td>\n",
       "      <td>0.150000</td>\n",
       "      <td>22.900000</td>\n",
       "      <td>1.030000</td>\n",
       "      <td>81</td>\n",
       "      <td>6.6</td>\n",
       "      <td>14</td>\n",
       "      <td>0.0</td>\n",
       "      <td>420</td>\n",
       "      <td>300</td>\n",
       "      <td>10.3</td>\n",
       "      <td>1</td>\n",
       "      <td>0</td>\n",
       "      <td>-999</td>\n",
       "      <td>0</td>\n",
       "      <td>193488.33600</td>\n",
       "      <td>0.018962</td>\n",
       "      <td>0</td>\n",
       "      <td>0</td>\n",
       "      <td>0</td>\n",
       "      <td>0</td>\n",
       "      <td>0</td>\n",
       "      <td>0</td>\n",
       "      <td>0</td>\n",
       "      <td>0</td>\n",
       "      <td>0</td>\n",
       "      <td>0</td>\n",
       "      <td>2784</td>\n",
       "      <td>-</td>\n",
       "      <td>0</td>\n",
       "      <td>0</td>\n",
       "      <td>0</td>\n",
       "      <td>1</td>\n",
       "      <td>0</td>\n",
       "    </tr>\n",
       "    <tr>\n",
       "      <th>1</th>\n",
       "      <td>0013000001CDAIV</td>\n",
       "      <td>74</td>\n",
       "      <td>6</td>\n",
       "      <td>116</td>\n",
       "      <td>74</td>\n",
       "      <td>721.125000</td>\n",
       "      <td>0.562500</td>\n",
       "      <td>36.500000</td>\n",
       "      <td>0.950000</td>\n",
       "      <td>65</td>\n",
       "      <td>-0.3</td>\n",
       "      <td>87</td>\n",
       "      <td>1.0</td>\n",
       "      <td>30000</td>\n",
       "      <td>302</td>\n",
       "      <td>6.7</td>\n",
       "      <td>1</td>\n",
       "      <td>0</td>\n",
       "      <td>-999</td>\n",
       "      <td>0</td>\n",
       "      <td>133188.00744</td>\n",
       "      <td>0.200671</td>\n",
       "      <td>0</td>\n",
       "      <td>0</td>\n",
       "      <td>0</td>\n",
       "      <td>0</td>\n",
       "      <td>0</td>\n",
       "      <td>0</td>\n",
       "      <td>0</td>\n",
       "      <td>0</td>\n",
       "      <td>0</td>\n",
       "      <td>0</td>\n",
       "      <td>1</td>\n",
       "      <td>-</td>\n",
       "      <td>0</td>\n",
       "      <td>0</td>\n",
       "      <td>0</td>\n",
       "      <td>1</td>\n",
       "      <td>0</td>\n",
       "    </tr>\n",
       "    <tr>\n",
       "      <th>2</th>\n",
       "      <td>0013000000M2mxy</td>\n",
       "      <td>74</td>\n",
       "      <td>6</td>\n",
       "      <td>116</td>\n",
       "      <td>74</td>\n",
       "      <td>86721.214286</td>\n",
       "      <td>-663.668681</td>\n",
       "      <td>18213.928571</td>\n",
       "      <td>4105.331868</td>\n",
       "      <td>514</td>\n",
       "      <td>5.7</td>\n",
       "      <td>5235</td>\n",
       "      <td>90.9</td>\n",
       "      <td>6900</td>\n",
       "      <td>22265</td>\n",
       "      <td>104.2</td>\n",
       "      <td>1</td>\n",
       "      <td>0</td>\n",
       "      <td>-999</td>\n",
       "      <td>0</td>\n",
       "      <td>4454169.23400</td>\n",
       "      <td>0.015558</td>\n",
       "      <td>0</td>\n",
       "      <td>0</td>\n",
       "      <td>0</td>\n",
       "      <td>0</td>\n",
       "      <td>0</td>\n",
       "      <td>0</td>\n",
       "      <td>0</td>\n",
       "      <td>0</td>\n",
       "      <td>0</td>\n",
       "      <td>0</td>\n",
       "      <td>75558</td>\n",
       "      <td>-</td>\n",
       "      <td>0</td>\n",
       "      <td>0</td>\n",
       "      <td>0</td>\n",
       "      <td>0</td>\n",
       "      <td>1</td>\n",
       "    </tr>\n",
       "    <tr>\n",
       "      <th>3</th>\n",
       "      <td>00130000002wOJS</td>\n",
       "      <td>74</td>\n",
       "      <td>2</td>\n",
       "      <td>116</td>\n",
       "      <td>74</td>\n",
       "      <td>701.875000</td>\n",
       "      <td>0.225000</td>\n",
       "      <td>11.375000</td>\n",
       "      <td>-0.037500</td>\n",
       "      <td>149</td>\n",
       "      <td>15.5</td>\n",
       "      <td>55</td>\n",
       "      <td>3.1</td>\n",
       "      <td>75</td>\n",
       "      <td>193</td>\n",
       "      <td>1.5</td>\n",
       "      <td>1</td>\n",
       "      <td>0</td>\n",
       "      <td>-999</td>\n",
       "      <td>0</td>\n",
       "      <td>71266.20000</td>\n",
       "      <td>0.008354</td>\n",
       "      <td>0</td>\n",
       "      <td>0</td>\n",
       "      <td>0</td>\n",
       "      <td>0</td>\n",
       "      <td>0</td>\n",
       "      <td>0</td>\n",
       "      <td>0</td>\n",
       "      <td>0</td>\n",
       "      <td>0</td>\n",
       "      <td>578</td>\n",
       "      <td>50461</td>\n",
       "      <td>-</td>\n",
       "      <td>0</td>\n",
       "      <td>0</td>\n",
       "      <td>0</td>\n",
       "      <td>1</td>\n",
       "      <td>0</td>\n",
       "    </tr>\n",
       "    <tr>\n",
       "      <th>4</th>\n",
       "      <td>0013000000NPlUs</td>\n",
       "      <td>74</td>\n",
       "      <td>2</td>\n",
       "      <td>116</td>\n",
       "      <td>74</td>\n",
       "      <td>655.222222</td>\n",
       "      <td>0.000000</td>\n",
       "      <td>34.444444</td>\n",
       "      <td>-0.033333</td>\n",
       "      <td>NaN</td>\n",
       "      <td>NaN</td>\n",
       "      <td>61</td>\n",
       "      <td>4.5</td>\n",
       "      <td>1100</td>\n",
       "      <td>534</td>\n",
       "      <td>3.3</td>\n",
       "      <td>1</td>\n",
       "      <td>0</td>\n",
       "      <td>-999</td>\n",
       "      <td>0</td>\n",
       "      <td>103500.00000</td>\n",
       "      <td>0.000000</td>\n",
       "      <td>0</td>\n",
       "      <td>0</td>\n",
       "      <td>0</td>\n",
       "      <td>0</td>\n",
       "      <td>0</td>\n",
       "      <td>0</td>\n",
       "      <td>0</td>\n",
       "      <td>0</td>\n",
       "      <td>0</td>\n",
       "      <td>0</td>\n",
       "      <td>0</td>\n",
       "      <td>-</td>\n",
       "      <td>0</td>\n",
       "      <td>0</td>\n",
       "      <td>0</td>\n",
       "      <td>1</td>\n",
       "      <td>0</td>\n",
       "    </tr>\n",
       "  </tbody>\n",
       "</table>\n",
       "</div>"
      ],
      "text/plain": [
       "        ACCOUNT_ID  TARGET_MONTH  ORGTYPE  ACCOUNT_AGE_YEARS  SNAP_MONTH_CODE  \\\n",
       "0  0013000001CBpgh            74        2                116               74   \n",
       "1  0013000001CDAIV            74        6                116               74   \n",
       "2  0013000000M2mxy            74        6                116               74   \n",
       "3  00130000002wOJS            74        2                116               74   \n",
       "4  0013000000NPlUs            74        2                116               74   \n",
       "\n",
       "   NON_PORTAL_LICENSES_MEAN  NP_LICENSES_S  NON_PORTAL_USERS_MEAN  \\\n",
       "0                583.600000       0.150000              22.900000   \n",
       "1                721.125000       0.562500              36.500000   \n",
       "2              86721.214286    -663.668681           18213.928571   \n",
       "3                701.875000       0.225000              11.375000   \n",
       "4                655.222222       0.000000              34.444444   \n",
       "\n",
       "   NON_PORTAL_USERS_S  NUM_ACT_WORKFLOW_RULES_MEAN  NUM_ACT_WORKFLOW_RULES_S  \\\n",
       "0            1.030000                           81                       6.6   \n",
       "1            0.950000                           65                      -0.3   \n",
       "2         4105.331868                          514                       5.7   \n",
       "3           -0.037500                          149                      15.5   \n",
       "4           -0.033333                          NaN                       NaN   \n",
       "\n",
       "   NUM_DASHBOARDS_MEAN  NUM_DASHBOARDS_S  LCK_EMP_CNT_MEAN  \\\n",
       "0                   14               0.0               420   \n",
       "1                   87               1.0             30000   \n",
       "2                 5235              90.9              6900   \n",
       "3                   55               3.1                75   \n",
       "4                   61               4.5              1100   \n",
       "\n",
       "   ACT_CHATR_USR_NUM_MEAN  ACT_CHATR_USR_NUM_S  PCT_CHATR_CONTRIB_MEAN  \\\n",
       "0                     300                 10.3                       1   \n",
       "1                     302                  6.7                       1   \n",
       "2                   22265                104.2                       1   \n",
       "3                     193                  1.5                       1   \n",
       "4                     534                  3.3                       1   \n",
       "\n",
       "   CRUDS_NPUSER  REPORTS_NUM_MEAN  REPORTS_NUM_S            AOV     AOV_D  \\\n",
       "0             0              -999              0   193488.33600  0.018962   \n",
       "1             0              -999              0   133188.00744  0.200671   \n",
       "2             0              -999              0  4454169.23400  0.015558   \n",
       "3             0              -999              0    71266.20000  0.008354   \n",
       "4             0              -999              0   103500.00000  0.000000   \n",
       "\n",
       "   FTM_OP_TOTAL  TTM_TOTAL_PG  TTM_TOTAL_ACV  PAYDEX  RED_FLAG  SALES_LIC  \\\n",
       "0             0             0              0       0         0          0   \n",
       "1             0             0              0       0         0          0   \n",
       "2             0             0              0       0         0          0   \n",
       "3             0             0              0       0         0          0   \n",
       "4             0             0              0       0         0          0   \n",
       "\n",
       "   SERVICE_LIC  PLAT_LIC  TOTAL_LIC  ACT_SELF_SVC_USERS_NUM_AVG  \\\n",
       "0            0         0          0                           0   \n",
       "1            0         0          0                           0   \n",
       "2            0         0          0                           0   \n",
       "3            0         0          0                         578   \n",
       "4            0         0          0                           0   \n",
       "\n",
       "   CASES_NUM_AVG INDUSTRY_NM  FLAG  label  AOVBAND=200-600K  AOVBAND=50-200K  \\\n",
       "0           2784           -     0      0                 0                1   \n",
       "1              1           -     0      0                 0                1   \n",
       "2          75558           -     0      0                 0                0   \n",
       "3          50461           -     0      0                 0                1   \n",
       "4              0           -     0      0                 0                1   \n",
       "\n",
       "   AOVBAND=More than 600K  \n",
       "0                       0  \n",
       "1                       0  \n",
       "2                       1  \n",
       "3                       0  \n",
       "4                       0  "
      ]
     },
     "execution_count": 24,
     "metadata": {},
     "output_type": "execute_result"
    }
   ],
   "source": [
    "# vectorize categorical variables\n",
    "\n",
    "from sklearn.feature_extraction import DictVectorizer\n",
    "def one_hot_encode_valid(data, cols, encoder):  \n",
    "    mk_dict = lambda row: dict((col, row[col]) for col in cols)\n",
    "    vecData = pd.DataFrame(encoder.transform(data[cols].apply(mk_dict, axis=1)).toarray())\n",
    "    vecData.columns = encoder.get_feature_names()\n",
    "    vecData.index = data.index\n",
    "    data = data.drop(cols, axis=1)\n",
    "    data = data.join(vecData)\n",
    "    \n",
    "    return data\n",
    "\n",
    "print \"Vectorize categorical variables\"\n",
    "\n",
    "cat_var_list = ['AOVBAND']\n",
    "valid_data = one_hot_encode_valid(valid_data, cat_var_list, hot_encoder)\n",
    "print \"Vectorized training data for modeling: %d / %d\" % (valid_data.shape[0], valid_data.shape[1])\n",
    "print \"Positives vs. Negatives: %d (%.2f%%) vs. %d\" % (sum(valid_data['label'] == 1), \n",
    "                                                       100 * float(sum(valid_data['label'] == 1)) / float(len(valid_data['label'])),\n",
    "                                                       sum(valid_data['label'] == 0))\n",
    "valid_data.head()"
   ]
  },
  {
   "cell_type": "code",
   "execution_count": 25,
   "metadata": {
    "collapsed": false
   },
   "outputs": [
    {
     "name": "stdout",
     "output_type": "stream",
     "text": [
      "Variables used for validation:\n",
      "['NUM_ACT_WORKFLOW_RULES_MEAN', 'ACT_SELF_SVC_USERS_NUM_AVG', 'SERVICE_LIC', 'ACCOUNT_AGE_YEARS', 'ACT_CHATR_USR_NUM_S', 'NON_PORTAL_LICENSES_MEAN', 'SALES_LIC', 'ACT_CHATR_USR_NUM_MEAN', 'NON_PORTAL_USERS_MEAN', 'AOV_D', 'NP_LICENSES_S', 'NON_PORTAL_USERS_S', 'LCK_EMP_CNT_MEAN', 'NUM_DASHBOARDS_MEAN', 'CASES_NUM_AVG', 'AOVBAND=200-600K', 'AOVBAND=50-200K', 'AOVBAND=More than 600K', 'label']\n",
      "\n",
      "\n",
      "Model validation is done in 0.333723 sec\n"
     ]
    }
   ],
   "source": [
    "print \"Variables used for validation:\"\n",
    "print model_var_list\n",
    "print \"\\n\"\n",
    "\n",
    "ptm_process = time.time()\n",
    "valid_preds = ptb_classify(dataset = valid_data[model_var_list], model = valid_ptb_model)\n",
    "print \"Model validation is done in %f sec\" % (time.time() - ptm_process)"
   ]
  },
  {
   "cell_type": "code",
   "execution_count": 26,
   "metadata": {
    "collapsed": false
   },
   "outputs": [
    {
     "name": "stdout",
     "output_type": "stream",
     "text": [
      "Confusion matrix:\n",
      "             precision    recall  f1-score   support\n",
      "\n",
      "          0       1.00      0.97      0.99     44580\n",
      "          1       0.12      0.60      0.20       255\n",
      "\n",
      "avg / total       0.99      0.97      0.98     44835\n",
      "\n"
     ]
    },
    {
     "data": {
      "image/png": "[encoded data removed]",
      "text/plain": [
       "<matplotlib.figure.Figure at 0x1176ce1d0>"
      ]
     },
     "metadata": {},
     "output_type": "display_data"
    }
   ],
   "source": [
    "# performance - confusion matrix\n",
    "\n",
    "true_label = valid_data['label']\n",
    "\n",
    "from sklearn.metrics import confusion_matrix, classification_report\n",
    "print \"Confusion matrix:\"\n",
    "print classification_report(true_label, valid_preds['class'])\n",
    "\n",
    "# performance - roc\n",
    "\n",
    "from sklearn import metrics\n",
    "fpr, tpr, thresholds = metrics.roc_curve(true_label, valid_preds['proba'])\n",
    "auc = metrics.auc(fpr, tpr)\n",
    "\n",
    "# Plot of a ROC curve for a specific class\n",
    "plt.figure(1)\n",
    "plt.plot(fpr, tpr, label = 'ROC curve (AUC = %0.4f)' % auc, linewidth = 2.0)\n",
    "plt.plot([0, 1], [0, 1], 'k--')\n",
    "plt.xlim([0.0, 1.0])\n",
    "plt.ylim([0.0, 1.05])\n",
    "plt.xlabel('False Positive Rate', fontsize = 14)\n",
    "plt.ylabel('True Positive Rate', fontsize = 14)\n",
    "plt.legend(loc = \"lower right\", fontsize = 14)\n",
    "plt.title('PTB Model ROC Curve', fontsize = 15)\n",
    "plt.show()"
   ]
  },
  {
   "cell_type": "code",
   "execution_count": 27,
   "metadata": {
    "collapsed": false
   },
   "outputs": [
    {
     "name": "stdout",
     "output_type": "stream",
     "text": [
      "Validate Bucket model on validation data\n",
      "Load Bucket model from: model/customer_com_bucket.model\n",
      "Bucketing proba via bucket model\n"
     ]
    }
   ],
   "source": [
    "# validate bucketing model on validation data\n",
    "\n",
    "print \"Validate Bucket model on validation data\"\n",
    "\n",
    "print \"Load Bucket model from: %s\" % bucket_fn\n",
    "\n",
    "print \"Bucketing proba via bucket model\"\n",
    "valid_bucket_model = gl.load_model(bucket_fn)\n",
    "valid_preds['bucket_proba'] = prob_bucket_by_quant(valid_preds['proba'], valid_bucket_model)\n",
    "\n",
    "bucket_cuts = dict(\n",
    "    highcut = 0.8,\n",
    "    mediumcut = 0.5,\n",
    "    lowcut = 0.3,\n",
    ")\n",
    "valid_preds['bucket_level'] = [''] * valid_preds.shape[0]\n",
    "valid_preds['bucket_level'][(valid_preds['bucket_proba'] >= bucket_cuts['highcut'])] = 'HIGH'\n",
    "valid_preds['bucket_level'][(valid_preds['bucket_proba'] >= bucket_cuts['mediumcut']) &\n",
    "                            (valid_preds['bucket_proba'] < bucket_cuts['highcut'])] = 'MEDIUM'\n",
    "valid_preds['bucket_level'][(valid_preds['bucket_proba'] >= bucket_cuts['lowcut']) &\n",
    "                            (valid_preds['bucket_proba'] < bucket_cuts['mediumcut'])] = 'LOW'\n",
    "valid_preds['bucket_level'][(valid_preds['bucket_proba'] < bucket_cuts['lowcut'])] = 'BOTTOM'"
   ]
  },
  {
   "cell_type": "code",
   "execution_count": 28,
   "metadata": {
    "collapsed": false
   },
   "outputs": [
    {
     "name": "stdout",
     "output_type": "stream",
     "text": [
      "Num/Pct. HIGH bucket: 964 / 0.02\n",
      "Num/Pct. MEDIUM bucket: 676 / 0.02\n",
      "Num/Pct. LOW bucket: 276 / 0.01\n",
      "Num/Pct. BOTTOM bucket: 42919 / 0.96\n"
     ]
    }
   ],
   "source": [
    "# stats on buckets\n",
    "\n",
    "total_rds = float(len(valid_preds.bucket_level))\n",
    "\n",
    "num_bkt_rds = (valid_preds.bucket_level == 'HIGH').sum()\n",
    "print \"Num/Pct. HIGH bucket: %d / %.2f\" % (num_bkt_rds, num_bkt_rds/total_rds)\n",
    "num_bkt_rds = (valid_preds.bucket_level == 'MEDIUM').sum()\n",
    "print \"Num/Pct. MEDIUM bucket: %d / %.2f\" % (num_bkt_rds, num_bkt_rds/total_rds)\n",
    "num_bkt_rds = (valid_preds.bucket_level == 'LOW').sum()\n",
    "print \"Num/Pct. LOW bucket: %d / %.2f\" % (num_bkt_rds, num_bkt_rds/total_rds)\n",
    "num_bkt_rds = (valid_preds.bucket_level == 'BOTTOM').sum()\n",
    "print \"Num/Pct. BOTTOM bucket: %d / %.2f\" % (num_bkt_rds, num_bkt_rds/total_rds)"
   ]
  },
  {
   "cell_type": "code",
   "execution_count": 29,
   "metadata": {
    "collapsed": false
   },
   "outputs": [
    {
     "name": "stdout",
     "output_type": "stream",
     "text": [
      "All done in 20.84441185 sec.\n"
     ]
    }
   ],
   "source": [
    "# all done\n",
    "\n",
    "print \"All done \" + \"in \" + str(time.time() - ptm_start) + \" sec.\""
   ]
  },
  {
   "cell_type": "code",
   "execution_count": null,
   "metadata": {
    "collapsed": true
   },
   "outputs": [],
   "source": []
  },
  {
   "cell_type": "code",
   "execution_count": null,
   "metadata": {
    "collapsed": true
   },
   "outputs": [],
   "source": []
  },
  {
   "cell_type": "code",
   "execution_count": 30,
   "metadata": {
    "collapsed": true
   },
   "outputs": [],
   "source": [
    "a = train_data = pd.read_csv('data/acct_scores.csv', ',')\n",
    "a.shape\n",
    "b = a['ACCOUNT_ID']\n",
    "b.to_csv('data/pb_acct_id.csv', index = False)"
   ]
  },
  {
   "cell_type": "code",
   "execution_count": null,
   "metadata": {
    "collapsed": true
   },
   "outputs": [],
   "source": []
  }
 ],
 "metadata": {
  "kernelspec": {
   "display_name": "python2",
   "language": "python",
   "name": "python2"
  },
  "language_info": {
   "codemirror_mode": {
    "name": "ipython",
    "version": 2
   },
   "file_extension": ".py",
   "mimetype": "text/x-python",
   "name": "python",
   "nbconvert_exporter": "python",
   "pygments_lexer": "ipython2",
   "version": "2.7.10"
  }
 },
 "nbformat": 4,
 "nbformat_minor": 0
}
