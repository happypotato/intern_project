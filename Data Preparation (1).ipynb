{
 "cells": [
  {
   "cell_type": "code",
   "execution_count": 1,
   "metadata": {
    "collapsed": false
   },
   "outputs": [
    {
     "name": "stdout",
     "output_type": "stream",
     "text": [
      "Populating the interactive namespace from numpy and matplotlib\n"
     ]
    }
   ],
   "source": [
    "% pylab inline"
   ]
  },
  {
   "cell_type": "code",
   "execution_count": 2,
   "metadata": {
    "collapsed": false
   },
   "outputs": [
    {
     "name": "stdout",
     "output_type": "stream",
     "text": [
      ".Rprofile: Setting UK repository\n"
     ]
    }
   ],
   "source": [
    "% load_ext rpy2.ipython"
   ]
  },
  {
   "cell_type": "code",
   "execution_count": 3,
   "metadata": {
    "collapsed": false
   },
   "outputs": [],
   "source": [
    "%%R\n",
    "Temp <- read.table(\"temporal_behaviors.tsv\", sep =\"\\t\",header=TRUE)"
   ]
  },
  {
   "cell_type": "code",
   "execution_count": 4,
   "metadata": {
    "collapsed": false
   },
   "outputs": [
    {
     "data": {
      "text/plain": [
       "[1] 46576662       26\n"
      ]
     },
     "metadata": {},
     "output_type": "display_data"
    }
   ],
   "source": [
    "%%R\n",
    "tail(Temp)\n",
    "dim(Temp)"
   ]
  },
  {
   "cell_type": "code",
   "execution_count": 5,
   "metadata": {
    "collapsed": true
   },
   "outputs": [],
   "source": [
    "%%R\n",
    "Acct_Purchase <- read.table(\"acct_purchases_long.tsv\", sep =\"\\t\",header=TRUE)"
   ]
  },
  {
   "cell_type": "code",
   "execution_count": 6,
   "metadata": {
    "collapsed": false
   },
   "outputs": [
    {
     "data": {
      "text/plain": [
       "[1] 548118      5\n"
      ]
     },
     "metadata": {},
     "output_type": "display_data"
    }
   ],
   "source": [
    "%%R\n",
    "tail(Acct_Purchase)\n",
    "dim(Acct_Purchase)"
   ]
  },
  {
   "cell_type": "code",
   "execution_count": 7,
   "metadata": {
    "collapsed": true
   },
   "outputs": [],
   "source": [
    "%%R\n",
    "Acct_Purchase_Test <- read.table(\"acct_purchases_long_test.tsv\", sep =\"\\t\",header=TRUE)"
   ]
  },
  {
   "cell_type": "code",
   "execution_count": 8,
   "metadata": {
    "collapsed": false
   },
   "outputs": [
    {
     "data": {
      "text/plain": [
       "  X ACCT_ID                               PROD_NM           CLSD_DATE\n",
       "1 0      -1                       Analytics Cloud 2015-04-09 00:00:00\n",
       "2 1      -1                Data.com Premium Clean 2016-01-07 00:00:00\n",
       "3 2      -1           Data.com Premium Prospector 2016-01-07 00:00:00\n",
       "4 3      -1                        Desk.com - Pro 2016-04-08 00:00:00\n",
       "5 4      -1 Employee Community (Force.com Add-On) 2015-04-09 00:00:00\n",
       "6 5      -1         Force.com - Unlimited Edition 2015-04-09 00:00:00\n",
       "                                                   PROD_DATE\n",
       "1                       Analytics Cloud`2015-04-09 00:00:00;\n",
       "2                Data.com Premium Clean`2016-01-07 00:00:00;\n",
       "3           Data.com Premium Prospector`2016-01-07 00:00:00;\n",
       "4                        Desk.com - Pro`2016-04-08 00:00:00;\n",
       "5 Employee Community (Force.com Add-On)`2015-04-09 00:00:00;\n",
       "6         Force.com - Unlimited Edition`2015-04-09 00:00:00;\n"
      ]
     },
     "metadata": {},
     "output_type": "display_data"
    }
   ],
   "source": [
    "%%R\n",
    "Acct_Purchase_long <- rbind(Acct_Purchase, Acct_Purchase_Test)\n",
    "head(Acct_Purchase_long)"
   ]
  },
  {
   "cell_type": "code",
   "execution_count": 9,
   "metadata": {
    "collapsed": false
   },
   "outputs": [
    {
     "data": {
      "text/plain": [
       " [1] Analytics Cloud                                                        \n",
       " [2] Data.com Premium Clean                                                 \n",
       " [3] Data.com Premium Prospector                                            \n",
       " [4] Desk.com - Pro                                                         \n",
       " [5] Employee Community (Force.com Add-On)                                  \n",
       " [6] Force.com - Unlimited Edition                                          \n",
       " [7] Force.com Platform Embedded Edition                                    \n",
       " [8] Premier Success Plan (Support) - Sales Cloud                           \n",
       " [9] Premier+ Success Plan (Support & Admin) - Sales Cloud                  \n",
       "[10] Sales Cloud - Enterprise Edition                                       \n",
       "[11] Sales Cloud - Professional Edition                                     \n",
       "[12] Sales Cloud - Unlimited Edition                                        \n",
       "[13] Sandbox                                                                \n",
       "[14] Service Cloud - Enterprise Edition                                     \n",
       "[15] Service Cloud - Unlimited Edition                                      \n",
       "[16] ISVForce                                                               \n",
       "[17] Force.com - Enterprise Edition                                         \n",
       "[18] Marketing Cloud                                                        \n",
       "[19] Additional API Calls - 1,000 per day                                   \n",
       "[20] Chatter Plus                                                           \n",
       "[21] Data.com Corporate Prospector                                          \n",
       "[22] Knowledge                                                              \n",
       "[23] Mobile                                                                 \n",
       "[24] Service Cloud - Professional Edition                                   \n",
       "[25] Sales Cloud - Group Edition                                            \n",
       "[26] Customer Community                                                     \n",
       "[27] Live Agent                                                             \n",
       "[28] Data.com Corporate Clean                                               \n",
       "[29] Premier+ Success Plan (Support & Admin)                                \n",
       "[30] Analytics - 5 Additional Dynamic Dashboards                            \n",
       "[31] Console for Sales Cloud                                                \n",
       "[32] Partner Community                                                      \n",
       "[33] Premier Success Plan (Support) - Enterprise Applications               \n",
       "[34] Premier Success Plan (Support) - Enterprise Edition (Restricted)       \n",
       "[35] Pardot                                                                 \n",
       "[36] Workflow                                                               \n",
       "[37] Force.com - Performance Edition                                        \n",
       "[38] Service Cloud - Performance Edition                                    \n",
       "[39] Data.com Premium Records Additional                                    \n",
       "[40] Desk.com - Standard                                                    \n",
       "[41] Additional API Calls - 10,000 per day                                  \n",
       "[42] Premier Success Plan (Support)                                         \n",
       "[43] Sales Cloud - Contact Manager Edition                                  \n",
       "[44] Premier Success Plan (Support) - Service Cloud                         \n",
       "[45] Premier Success Plan (Support) - Force.com Edition                     \n",
       "[46] Premier+ Success Plan (Support & Admin) - Force.com Edition            \n",
       "[47] Premier+ Success Plan (Support & Admin) - Service Cloud                \n",
       "[48] Force.com Platform Enterprise Edition                                  \n",
       "[49] Data.com Corporate Records Additional                                  \n",
       "[50] Premier Success Plan (Support) - Enterprise Ed. (Chatter Plus)         \n",
       "[51] Sales Cloud - Performance Edition                                      \n",
       "[52] Salesforce Engage                                                      \n",
       "[53] Premier Success Plan (Support) - Service Cloud - Knowledge Pack        \n",
       "[54] Foundation Enterprise Edition Power of 10 Donation                     \n",
       "[55] Force.com Platform Unlimited Edition                                   \n",
       "[56] SalesforceIQ - Business                                                \n",
       "[57] SalesforceIQ Inbox                                                     \n",
       "[58] Foundation Enterprise Edition                                          \n",
       "[59] Additional API Calls - Professional Edition - 10,000 per day           \n",
       "[60] Desk.com - Business Plus                                               \n",
       "[61] Heroku - 1 Dyno                                                        \n",
       "[62] Heroku - 1,000 Add-on Credit                                           \n",
       "[63] Premier+ Success Plan (Support & Admin) - CP Ent. Admin (Named User)   \n",
       "[64] Premier+ Success Plan (Support & Admin) - Partnr Cmty (20 Members)     \n",
       "[65] Premier+ Success Plan (Support & Admin) - Service Cld - Knowledge Pack \n",
       "[66] Premier+ Success Plan (Support & Admin) - Enterprise Ed. (Chatter Plus)\n",
       "[67] Premier Success Plan (Support) - CP Enterprise Admin (Named User)      \n",
       "[68] SalesforceIQ - Starter                                                 \n",
       "[69] SalesforceIQ - Growth                                                  \n",
       "[70] Premier+ Success Plan (Support & Admin) - Prof. Ed. (Chatter Plus)     \n",
       "[71] Premier+ Success Plan (Support & Admin) - Force.com (Administrator)    \n",
       "[72] Premier Success Plan (Support) - Force.com (Administrator)             \n",
       "[73] Premier Success Plan (Support) - Sales Cloud for Nonprofits            \n",
       "[74] Force.com Edition for Nonprofits                                       \n",
       "[75] Premier Success Plan (Support) for Nonprofits - Fee                    \n",
       "[76] Force.com Unlimited Edition                                            \n",
       "[77] Force.com (Light Applications)                                         \n",
       "77 Levels: Additional API Calls - 10,000 per day ...\n"
      ]
     },
     "metadata": {},
     "output_type": "display_data"
    }
   ],
   "source": [
    "%%R\n",
    "unique(Acct_Purchase_long$PROD_NM)"
   ]
  },
  {
   "cell_type": "code",
   "execution_count": 10,
   "metadata": {
    "collapsed": false
   },
   "outputs": [
    {
     "data": {
      "text/plain": [
       "[1] \"2016-04-09\"\n"
      ]
     },
     "metadata": {},
     "output_type": "display_data"
    }
   ],
   "source": [
    "%%R\n",
    "Acct_Purchase_long$DATE <- as.Date(Acct_Purchase_long$CLSD_DATE, format = \"%Y-%m-%d\")\n",
    "max(Acct_Purchase_long$DATE)"
   ]
  },
  {
   "cell_type": "code",
   "execution_count": 11,
   "metadata": {
    "collapsed": false
   },
   "outputs": [
    {
     "data": {
      "text/plain": [
       "[1] 6920497      26\n"
      ]
     },
     "metadata": {},
     "output_type": "display_data"
    }
   ],
   "source": [
    "%%R\n",
    "# Delete the dataset with invalid account_id\n",
    "new <- Temp[ ! Temp$ACCOUNT_ID %in% c('0','000000000000000'), ] \n",
    "dim(new)"
   ]
  },
  {
   "cell_type": "code",
   "execution_count": null,
   "metadata": {
    "collapsed": true
   },
   "outputs": [],
   "source": []
  },
  {
   "cell_type": "code",
   "execution_count": 12,
   "metadata": {
    "collapsed": false
   },
   "outputs": [
    {
     "data": {
      "text/plain": [
       "[1] 271818     26\n"
      ]
     },
     "metadata": {},
     "output_type": "display_data"
    }
   ],
   "source": [
    "%%R\n",
    "# Take the features at '2014-10-01 00:00:00' as base features\n",
    "base = new[new$QRY_DATE == '2014-05-01 00:00:00',]\n",
    "dim(base)"
   ]
  },
  {
   "cell_type": "code",
   "execution_count": 13,
   "metadata": {
    "collapsed": false
   },
   "outputs": [
    {
     "data": {
      "text/plain": [
       "[1] 641   6\n"
      ]
     },
     "metadata": {},
     "output_type": "display_data"
    }
   ],
   "source": [
    "%%R\n",
    "# Take the subset of purchase history of when the \n",
    "AC <- Acct_Purchase_long[Acct_Purchase_long$PROD_NM==\"Analytics Cloud\" ,]\n",
    "dim(AC)"
   ]
  },
  {
   "cell_type": "code",
   "execution_count": 14,
   "metadata": {
    "collapsed": false
   },
   "outputs": [
    {
     "data": {
      "text/plain": [
       "[1] \"2013-07-23\"\n"
      ]
     },
     "metadata": {},
     "output_type": "display_data"
    }
   ],
   "source": [
    "%%R\n",
    "AC$DATE <- as.Date(AC$CLSD_DATE, format = \"%Y-%m-%d\")\n",
    "min(AC$DATE) "
   ]
  },
  {
   "cell_type": "code",
   "execution_count": 15,
   "metadata": {
    "collapsed": true
   },
   "outputs": [],
   "source": [
    "%%R\n",
    "a <- as.Date(\"2016-05-1\", format = \"%Y-%m-%d\")"
   ]
  },
  {
   "cell_type": "code",
   "execution_count": 16,
   "metadata": {
    "collapsed": false
   },
   "outputs": [],
   "source": [
    "%%R\n",
    "Temp$DATE <- as.Date(Temp$QRY_DATE, format = \"%Y-%m-%d\")\n",
    "min(Temp$DATE)  #'2014-10-01'\n",
    "Date <- unique(Temp$DATE)   \n",
    "Date <- Date[order(Date)]\n",
    "#length(Date)"
   ]
  },
  {
   "cell_type": "code",
   "execution_count": 17,
   "metadata": {
    "collapsed": false
   },
   "outputs": [
    {
     "data": {
      "text/plain": [
       " [1] \"2014-05-01\" \"2014-06-01\" \"2014-07-01\" \"2014-08-01\" \"2014-09-01\"\n",
       " [6] \"2014-10-01\" \"2014-11-01\" \"2014-12-01\" \"2015-01-01\" \"2015-02-01\"\n",
       "[11] \"2015-03-01\" \"2015-04-01\" \"2015-05-01\" \"2015-06-01\" \"2015-07-01\"\n",
       "[16] \"2015-08-01\" \"2015-09-01\" \"2015-10-01\" \"2015-11-01\" \"2015-12-01\"\n",
       "[21] \"2016-01-01\" \"2016-02-01\" \"2016-03-01\" \"2016-03-31\" \"2016-05-01\"\n"
      ]
     },
     "metadata": {},
     "output_type": "display_data"
    }
   ],
   "source": [
    "%%R\n",
    "Date <- c(Date, a)\n",
    "Date "
   ]
  },
  {
   "cell_type": "code",
   "execution_count": 18,
   "metadata": {
    "collapsed": false
   },
   "outputs": [],
   "source": [
    "%%R\n",
    "# Get labels\n",
    "# Baseline\n",
    "# Initialze two vectors of lists of length 24\n",
    "ac_date_list <- vector(\"list\", 25)\n",
    "label_list <- vector(\"list\", 25)\n",
    "m <- vector(\"list\", 25)\n",
    "for (i in 1:25){\n",
    "    ac_date_list[[i]] <- AC[AC$DATE <= Date[i],] # Get dataframe for accounts which made a purchase before certain dates\n",
    "    label_list[[i]] <- rep(0,dim(base)[1]) # Initialize the label vector at 0 for each account\n",
    "    m[[i]] = merge(base, ac_date_list[[i]] , by.x = \"ACCOUNT_ID\", by.y = \"ACCT_ID\") \n",
    "    label_list[[i]][base$ACCOUNT_ID %in% m[[i]]$ACCOUNT_ID]=1\n",
    "}"
   ]
  },
  {
   "cell_type": "code",
   "execution_count": 19,
   "metadata": {
    "collapsed": false
   },
   "outputs": [
    {
     "data": {
      "text/plain": [
       "\n",
       "     0      1 \n",
       "271327    491 \n"
      ]
     },
     "metadata": {},
     "output_type": "display_data"
    }
   ],
   "source": [
    "%%R\n",
    "table(label_list[[25]])"
   ]
  },
  {
   "cell_type": "code",
   "execution_count": 20,
   "metadata": {
    "collapsed": false
   },
   "outputs": [],
   "source": [
    "%%R\n",
    "save(label_list, file = \"Label2.RData\")"
   ]
  },
  {
   "cell_type": "code",
   "execution_count": 22,
   "metadata": {
    "collapsed": true
   },
   "outputs": [],
   "source": [
    "%%R\n",
    "write.csv( file = \"df1.csv\",base)"
   ]
  },
  {
   "cell_type": "code",
   "execution_count": null,
   "metadata": {
    "collapsed": true
   },
   "outputs": [],
   "source": []
  },
  {
   "cell_type": "code",
   "execution_count": null,
   "metadata": {
    "collapsed": true
   },
   "outputs": [],
   "source": []
  },
  {
   "cell_type": "code",
   "execution_count": 37,
   "metadata": {
    "collapsed": false
   },
   "outputs": [
    {
     "data": {
      "text/plain": [
       "[1] 1293    6\n"
      ]
     },
     "metadata": {},
     "output_type": "display_data"
    }
   ],
   "source": [
    "%%R\n",
    "# Take the subset of purchase history of when the \n",
    "pd <- Acct_Purchase_long[Acct_Purchase_long$PROD_NM==\"Data.com Premium Clean\" ,]#pardot #analytic\n",
    "dim(pd)"
   ]
  },
  {
   "cell_type": "code",
   "execution_count": null,
   "metadata": {
    "collapsed": true
   },
   "outputs": [],
   "source": []
  },
  {
   "cell_type": "code",
   "execution_count": 21,
   "metadata": {
    "collapsed": false
   },
   "outputs": [
    {
     "data": {
      "text/plain": [
       "[1] 6202    6\n"
      ]
     },
     "metadata": {},
     "output_type": "display_data"
    }
   ],
   "source": [
    "%%R\n",
    "# Take the subset of purchase history of when the \n",
    "pd <- Acct_Purchase_long[Acct_Purchase_long$PROD_NM==\"Pardot\" ,]#pardot #analytic\n",
    "dim(pd)"
   ]
  },
  {
   "cell_type": "code",
   "execution_count": 22,
   "metadata": {
    "collapsed": false
   },
   "outputs": [
    {
     "data": {
      "text/plain": [
       "[1] \"2013-07-09\"\n"
      ]
     },
     "metadata": {},
     "output_type": "display_data"
    }
   ],
   "source": [
    "%%R\n",
    "pd$DATE <- as.Date(pd$CLSD_DATE, format = \"%Y-%m-%d\")\n",
    "min(pd$DATE) "
   ]
  },
  {
   "cell_type": "code",
   "execution_count": 23,
   "metadata": {
    "collapsed": true
   },
   "outputs": [],
   "source": [
    "%%R\n",
    "# Get labels\n",
    "# Baseline\n",
    "# Initialze two vectors of lists of length 24\n",
    "ac_date_list <- vector(\"list\", 25)\n",
    "label_list_pc <- vector(\"list\", 25)\n",
    "m <- vector(\"list\", 25)\n",
    "for (i in 1:25){\n",
    "    ac_date_list[[i]] <- pd[pd$DATE <= Date[i],] # Get dataframe for accounts which made a purchase before certain dates\n",
    "    label_list_pc[[i]] <- rep(0,dim(base)[1]) # Initialize the label vector at 0 for each account\n",
    "    m[[i]] = merge(base, ac_date_list[[i]] , by.x = \"ACCOUNT_ID\", by.y = \"ACCT_ID\") \n",
    "    label_list_pc[[i]][base$ACCOUNT_ID %in% m[[i]]$ACCOUNT_ID]=1\n",
    "}"
   ]
  },
  {
   "cell_type": "code",
   "execution_count": 24,
   "metadata": {
    "collapsed": false
   },
   "outputs": [
    {
     "data": {
      "text/plain": [
       "\n",
       "     0      1 \n",
       "267991   3827 \n"
      ]
     },
     "metadata": {},
     "output_type": "display_data"
    }
   ],
   "source": [
    "%%R\n",
    "table(label_list_pc[[25]])"
   ]
  },
  {
   "cell_type": "code",
   "execution_count": 25,
   "metadata": {
    "collapsed": true
   },
   "outputs": [],
   "source": [
    "%%R\n",
    "save(label_list_pc, file = \"Label4.RData\")"
   ]
  },
  {
   "cell_type": "code",
   "execution_count": null,
   "metadata": {
    "collapsed": true
   },
   "outputs": [],
   "source": []
  },
  {
   "cell_type": "code",
   "execution_count": 26,
   "metadata": {
    "collapsed": false
   },
   "outputs": [
    {
     "data": {
      "text/plain": [
       "[1] 11600     6\n"
      ]
     },
     "metadata": {},
     "output_type": "display_data"
    }
   ],
   "source": [
    "%%R\n",
    "# Take the subset of purchase history of when the \n",
    "pd <- Acct_Purchase_long[Acct_Purchase_long$PROD_NM==\"Sandbox\" ,]#pardot #analytic\n",
    "dim(pd)"
   ]
  },
  {
   "cell_type": "code",
   "execution_count": 27,
   "metadata": {
    "collapsed": false
   },
   "outputs": [
    {
     "data": {
      "text/plain": [
       "[1] \"2008-02-20\"\n"
      ]
     },
     "metadata": {},
     "output_type": "display_data"
    }
   ],
   "source": [
    "%%R\n",
    "pd$DATE <- as.Date(pd$CLSD_DATE, format = \"%Y-%m-%d\")\n",
    "min(pd$DATE) "
   ]
  },
  {
   "cell_type": "code",
   "execution_count": 28,
   "metadata": {
    "collapsed": true
   },
   "outputs": [],
   "source": [
    "%%R\n",
    "# Get labels\n",
    "# Baseline\n",
    "# Initialze two vectors of lists of length 24\n",
    "ac_date_list <- vector(\"list\", 25)\n",
    "label_list_pc <- vector(\"list\", 25)\n",
    "m <- vector(\"list\", 25)\n",
    "for (i in 1:25){\n",
    "    ac_date_list[[i]] <- pd[pd$DATE <= Date[i],] # Get dataframe for accounts which made a purchase before certain dates\n",
    "    label_list_pc[[i]] <- rep(0,dim(base)[1]) # Initialize the label vector at 0 for each account\n",
    "    m[[i]] = merge(base, ac_date_list[[i]] , by.x = \"ACCOUNT_ID\", by.y = \"ACCT_ID\") \n",
    "    label_list_pc[[i]][base$ACCOUNT_ID %in% m[[i]]$ACCOUNT_ID]=1\n",
    "}"
   ]
  },
  {
   "cell_type": "code",
   "execution_count": 29,
   "metadata": {
    "collapsed": false
   },
   "outputs": [
    {
     "data": {
      "text/plain": [
       "\n",
       "     0      1 \n",
       "263916   7902 \n"
      ]
     },
     "metadata": {},
     "output_type": "display_data"
    }
   ],
   "source": [
    "%%R\n",
    "table(label_list_pc[[25]])"
   ]
  },
  {
   "cell_type": "code",
   "execution_count": 30,
   "metadata": {
    "collapsed": true
   },
   "outputs": [],
   "source": [
    "%%R\n",
    "save(label_list_pc, file = \"Label5.RData\")"
   ]
  },
  {
   "cell_type": "code",
   "execution_count": null,
   "metadata": {
    "collapsed": true
   },
   "outputs": [],
   "source": []
  },
  {
   "cell_type": "code",
   "execution_count": 35,
   "metadata": {
    "collapsed": false
   },
   "outputs": [
    {
     "data": {
      "text/plain": [
       "[1] 4567    6\n"
      ]
     },
     "metadata": {},
     "output_type": "display_data"
    }
   ],
   "source": [
    "%%R\n",
    "# Take the subset of purchase history of when the \n",
    "pd <- Acct_Purchase_long[Acct_Purchase_long$PROD_NM==\"Customer Community\" ,]#pardot #analytic\n",
    "dim(pd)"
   ]
  },
  {
   "cell_type": "code",
   "execution_count": 36,
   "metadata": {
    "collapsed": false
   },
   "outputs": [
    {
     "data": {
      "text/plain": [
       "[1] \"2013-06-18\"\n"
      ]
     },
     "metadata": {},
     "output_type": "display_data"
    }
   ],
   "source": [
    "%%R\n",
    "pd$DATE <- as.Date(pd$CLSD_DATE, format = \"%Y-%m-%d\")\n",
    "min(pd$DATE) "
   ]
  },
  {
   "cell_type": "code",
   "execution_count": 37,
   "metadata": {
    "collapsed": true
   },
   "outputs": [],
   "source": [
    "%%R\n",
    "# Get labels\n",
    "# Baseline\n",
    "# Initialze two vectors of lists of length 24\n",
    "ac_date_list <- vector(\"list\", 25)\n",
    "label_list_pc <- vector(\"list\", 25)\n",
    "m <- vector(\"list\", 25)\n",
    "for (i in 1:25){\n",
    "    ac_date_list[[i]] <- pd[pd$DATE <= Date[i],] # Get dataframe for accounts which made a purchase before certain dates\n",
    "    label_list_pc[[i]] <- rep(0,dim(base)[1]) # Initialize the label vector at 0 for each account\n",
    "    m[[i]] = merge(base, ac_date_list[[i]] , by.x = \"ACCOUNT_ID\", by.y = \"ACCT_ID\") \n",
    "    label_list_pc[[i]][base$ACCOUNT_ID %in% m[[i]]$ACCOUNT_ID]=1\n",
    "}"
   ]
  },
  {
   "cell_type": "code",
   "execution_count": 38,
   "metadata": {
    "collapsed": false
   },
   "outputs": [
    {
     "data": {
      "text/plain": [
       "\n",
       "     0      1 \n",
       "269024   2794 \n"
      ]
     },
     "metadata": {},
     "output_type": "display_data"
    }
   ],
   "source": [
    "%%R\n",
    "table(label_list_pc[[25]])"
   ]
  },
  {
   "cell_type": "code",
   "execution_count": 39,
   "metadata": {
    "collapsed": true
   },
   "outputs": [],
   "source": [
    "%%R\n",
    "save(label_list_pc, file = \"Label6.RData\")"
   ]
  },
  {
   "cell_type": "code",
   "execution_count": null,
   "metadata": {
    "collapsed": true
   },
   "outputs": [],
   "source": []
  },
  {
   "cell_type": "code",
   "execution_count": null,
   "metadata": {
    "collapsed": true
   },
   "outputs": [],
   "source": []
  },
  {
   "cell_type": "code",
   "execution_count": 40,
   "metadata": {
    "collapsed": false
   },
   "outputs": [
    {
     "data": {
      "text/plain": [
       "[1] 1293    6\n"
      ]
     },
     "metadata": {},
     "output_type": "display_data"
    }
   ],
   "source": [
    "%%R\n",
    "# Take the subset of purchase history of when the \n",
    "pd <- Acct_Purchase_long[Acct_Purchase_long$PROD_NM==\"Data.com Premium Clean\" ,]#pardot #analytic\n",
    "dim(pd)"
   ]
  },
  {
   "cell_type": "code",
   "execution_count": 41,
   "metadata": {
    "collapsed": false
   },
   "outputs": [
    {
     "data": {
      "text/plain": [
       "[1] \"2013-07-07\"\n"
      ]
     },
     "metadata": {},
     "output_type": "display_data"
    }
   ],
   "source": [
    "%%R\n",
    "pd$DATE <- as.Date(pd$CLSD_DATE, format = \"%Y-%m-%d\")\n",
    "min(pd$DATE) "
   ]
  },
  {
   "cell_type": "code",
   "execution_count": 42,
   "metadata": {
    "collapsed": false
   },
   "outputs": [
    {
     "data": {
      "text/plain": [
       "[1] \"2013-07-07\"\n"
      ]
     },
     "metadata": {},
     "output_type": "display_data"
    }
   ],
   "source": [
    "%%R\n",
    "pd$DATE <- as.Date(pd$CLSD_DATE, format = \"%Y-%m-%d\")\n",
    "min(pd$DATE) "
   ]
  },
  {
   "cell_type": "code",
   "execution_count": 43,
   "metadata": {
    "collapsed": true
   },
   "outputs": [],
   "source": [
    "%%R\n",
    "# Get labels\n",
    "# Baseline\n",
    "# Initialze two vectors of lists of length 24\n",
    "ac_date_list <- vector(\"list\", 25)\n",
    "label_list_pc <- vector(\"list\", 25)\n",
    "m <- vector(\"list\", 25)\n",
    "for (i in 1:25){\n",
    "    ac_date_list[[i]] <- pd[pd$DATE <= Date[i],] # Get dataframe for accounts which made a purchase before certain dates\n",
    "    label_list_pc[[i]] <- rep(0,dim(base)[1]) # Initialize the label vector at 0 for each account\n",
    "    m[[i]] = merge(base, ac_date_list[[i]] , by.x = \"ACCOUNT_ID\", by.y = \"ACCT_ID\") \n",
    "    label_list_pc[[i]][base$ACCOUNT_ID %in% m[[i]]$ACCOUNT_ID]=1\n",
    "}"
   ]
  },
  {
   "cell_type": "code",
   "execution_count": 44,
   "metadata": {
    "collapsed": false
   },
   "outputs": [
    {
     "data": {
      "text/plain": [
       "\n",
       "     0      1 \n",
       "270756   1062 \n"
      ]
     },
     "metadata": {},
     "output_type": "display_data"
    }
   ],
   "source": [
    "%%R\n",
    "table(label_list_pc[[25]])"
   ]
  },
  {
   "cell_type": "code",
   "execution_count": 45,
   "metadata": {
    "collapsed": true
   },
   "outputs": [],
   "source": [
    "%%R\n",
    "save(label_list_pc, file = \"Label7.RData\")"
   ]
  },
  {
   "cell_type": "code",
   "execution_count": 2,
   "metadata": {
    "collapsed": false
   },
   "outputs": [
    {
     "name": "stdout",
     "output_type": "stream",
     "text": [
      "The history saving thread hit an unexpected error (OperationalError('database is locked',)).History will not be written to the database.\n"
     ]
    },
    {
     "name": "stderr",
     "output_type": "stream",
     "text": [
      "ERROR: Cell magic `%%R` not found.\n"
     ]
    }
   ],
   "source": [
    "%%R\n",
    "for (i in 1:10){\n",
    "    print(i)\n",
    "}"
   ]
  },
  {
   "cell_type": "code",
   "execution_count": null,
   "metadata": {
    "collapsed": true
   },
   "outputs": [],
   "source": []
  }
 ],
 "metadata": {
  "kernelspec": {
   "display_name": "Python 2",
   "language": "python",
   "name": "python2"
  },
  "language_info": {
   "codemirror_mode": {
    "name": "ipython",
    "version": 2
   },
   "file_extension": ".py",
   "mimetype": "text/x-python",
   "name": "python",
   "nbconvert_exporter": "python",
   "pygments_lexer": "ipython2",
   "version": "2.7.11"
  }
 },
 "nbformat": 4,
 "nbformat_minor": 0
}
